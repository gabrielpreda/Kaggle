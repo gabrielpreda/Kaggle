{
 "cells": [
  {
   "cell_type": "markdown",
   "id": "55e5ee35",
   "metadata": {
    "_cell_guid": "b1076dfc-b9ad-4769-8c92-a6c4dae69d19",
    "_uuid": "8f2839f25d086af736a60e9eeb907d3b93b6e0e5",
    "papermill": {
     "duration": 0.01169,
     "end_time": "2025-03-30T13:39:32.220507",
     "exception": false,
     "start_time": "2025-03-30T13:39:32.208817",
     "status": "completed"
    },
    "tags": []
   },
   "source": [
    "\n",
    "<center><img src=\"https://www.geeky-gadgets.com/wp-content/uploads/2025/03/google-gemma-3-advanced-ai-models.webp\"></img></center>\n",
    "\n",
    "# Introduction\n",
    "This Notebook will explore how to prompt Gemma 3, using KerasNLP. \n",
    "At this point, Keras version of Gemma 3 is quite new, and the code to run it is not yet documented.\n",
    "\n",
    "\n",
    "## What is Gemma?\n",
    "Gemma is a family of lightweight, state-of-the art open models built from the same research and technology used to create the Gemini models. At the 3rd generation now, Gemma 3 comes in 4 sizes, **1B**, **4B**, **12B** and **27B**, both pretrained and instruction finetuned versions.   \n",
    "\n",
    "Models **4B**, **12B**, **27B** brings an extended context window (up to **128K**) as well as **multi-modality** (text and image). \n",
    "\n",
    "The **1B** model, although incredibly compact, is not only very fast but is also quite powerful.\n",
    "\n",
    "Will use the **1B** model, on CPU only, without any accelerator.\n",
    "\n",
    "\n",
    "# Prerequisites\n",
    "\n",
    "## Install packages\n",
    "\n",
    "We will install Keras and KerasNLP."
   ]
  },
  {
   "cell_type": "code",
   "execution_count": 1,
   "id": "e80537fe",
   "metadata": {
    "execution": {
     "iopub.execute_input": "2025-03-30T13:39:32.244064Z",
     "iopub.status.busy": "2025-03-30T13:39:32.243684Z",
     "iopub.status.idle": "2025-03-30T13:39:47.278226Z",
     "shell.execute_reply": "2025-03-30T13:39:47.276944Z"
    },
    "papermill": {
     "duration": 15.048532,
     "end_time": "2025-03-30T13:39:47.280164",
     "exception": false,
     "start_time": "2025-03-30T13:39:32.231632",
     "status": "completed"
    },
    "tags": []
   },
   "outputs": [
    {
     "name": "stdout",
     "output_type": "stream",
     "text": [
      "\u001b[2K   \u001b[90m━━━━━━━━━━━━━━━━━━━━━━━━━━━━━━━━━━━━━━━━\u001b[0m \u001b[32m731.3/731.3 kB\u001b[0m \u001b[31m9.9 MB/s\u001b[0m eta \u001b[36m0:00:00\u001b[0m\r\n",
      "\u001b[2K   \u001b[90m━━━━━━━━━━━━━━━━━━━━━━━━━━━━━━━━━━━━━━━━\u001b[0m \u001b[32m1.3/1.3 MB\u001b[0m \u001b[31m16.1 MB/s\u001b[0m eta \u001b[36m0:00:00\u001b[0m\r\n",
      "\u001b[?25h\u001b[31mERROR: pip's dependency resolver does not currently take into account all the packages that are installed. This behaviour is the source of the following dependency conflicts.\r\n",
      "tensorflow-decision-forests 1.10.0 requires tensorflow==2.17.0, but you have tensorflow 2.17.1 which is incompatible.\u001b[0m\u001b[31m\r\n",
      "\u001b[0m"
     ]
    }
   ],
   "source": [
    "!pip install -q -U keras-nlp\n",
    "!pip install -q -U keras"
   ]
  },
  {
   "cell_type": "markdown",
   "id": "92796f33",
   "metadata": {
    "papermill": {
     "duration": 0.011082,
     "end_time": "2025-03-30T13:39:47.303136",
     "exception": false,
     "start_time": "2025-03-30T13:39:47.292054",
     "status": "completed"
    },
    "tags": []
   },
   "source": [
    "## Import packages"
   ]
  },
  {
   "cell_type": "code",
   "execution_count": 2,
   "id": "545f6738",
   "metadata": {
    "execution": {
     "iopub.execute_input": "2025-03-30T13:39:47.327532Z",
     "iopub.status.busy": "2025-03-30T13:39:47.327107Z",
     "iopub.status.idle": "2025-03-30T13:40:06.642450Z",
     "shell.execute_reply": "2025-03-30T13:40:06.641194Z"
    },
    "papermill": {
     "duration": 19.33083,
     "end_time": "2025-03-30T13:40:06.645441",
     "exception": false,
     "start_time": "2025-03-30T13:39:47.314611",
     "status": "completed"
    },
    "tags": []
   },
   "outputs": [],
   "source": [
    "import keras\n",
    "import keras_nlp\n",
    "from keras_nlp.samplers import TopKSampler\n",
    "from time import time"
   ]
  },
  {
   "cell_type": "markdown",
   "id": "ee6c5879",
   "metadata": {
    "papermill": {
     "duration": 0.016289,
     "end_time": "2025-03-30T13:40:06.683472",
     "exception": false,
     "start_time": "2025-03-30T13:40:06.667183",
     "status": "completed"
    },
    "tags": []
   },
   "source": [
    "Select the backend. Keras is a high-level, multi-framework deep learning API designed for simplicity and ease of use. Keras 3 lets you choose the backend: TensorFlow, JAX, or PyTorch. For this Notebook, we will choose jax as backend."
   ]
  },
  {
   "cell_type": "code",
   "execution_count": 3,
   "id": "7625a179",
   "metadata": {
    "execution": {
     "iopub.execute_input": "2025-03-30T13:40:06.718072Z",
     "iopub.status.busy": "2025-03-30T13:40:06.717326Z",
     "iopub.status.idle": "2025-03-30T13:40:06.722131Z",
     "shell.execute_reply": "2025-03-30T13:40:06.721092Z"
    },
    "papermill": {
     "duration": 0.020358,
     "end_time": "2025-03-30T13:40:06.723909",
     "exception": false,
     "start_time": "2025-03-30T13:40:06.703551",
     "status": "completed"
    },
    "tags": []
   },
   "outputs": [],
   "source": [
    "import os\n",
    "os.environ[\"KERAS_BACKEND\"] = \"jax\"\n",
    "os.environ[\"XLA_PYTHON_CLIENT_MEM_FRACTION\"] = \"0.9\""
   ]
  },
  {
   "cell_type": "markdown",
   "id": "be371a17",
   "metadata": {
    "papermill": {
     "duration": 0.011322,
     "end_time": "2025-03-30T13:40:06.746803",
     "exception": false,
     "start_time": "2025-03-30T13:40:06.735481",
     "status": "completed"
    },
    "tags": []
   },
   "source": [
    "## Initialize the model\n",
    "\n",
    "Make sure to use `Gemma3CausalLM` to initialize the model, not the `GemmaCausalLM`. Otherwise the Gemma3 backbone will not be recognized."
   ]
  },
  {
   "cell_type": "code",
   "execution_count": 4,
   "id": "b168a600",
   "metadata": {
    "execution": {
     "iopub.execute_input": "2025-03-30T13:40:06.771715Z",
     "iopub.status.busy": "2025-03-30T13:40:06.771287Z",
     "iopub.status.idle": "2025-03-30T13:40:36.603857Z",
     "shell.execute_reply": "2025-03-30T13:40:36.602699Z"
    },
    "papermill": {
     "duration": 29.847064,
     "end_time": "2025-03-30T13:40:36.605996",
     "exception": false,
     "start_time": "2025-03-30T13:40:06.758932",
     "status": "completed"
    },
    "tags": []
   },
   "outputs": [],
   "source": [
    "gemma_lm = keras_nlp.models.Gemma3CausalLM.from_preset(\"/kaggle/input/gemma3/keras/gemma3_1b/1\")"
   ]
  },
  {
   "cell_type": "code",
   "execution_count": 5,
   "id": "f7421743",
   "metadata": {
    "execution": {
     "iopub.execute_input": "2025-03-30T13:40:36.643047Z",
     "iopub.status.busy": "2025-03-30T13:40:36.642653Z",
     "iopub.status.idle": "2025-03-30T13:40:37.098636Z",
     "shell.execute_reply": "2025-03-30T13:40:37.094395Z"
    },
    "papermill": {
     "duration": 0.480698,
     "end_time": "2025-03-30T13:40:37.104757",
     "exception": false,
     "start_time": "2025-03-30T13:40:36.624059",
     "status": "completed"
    },
    "tags": []
   },
   "outputs": [],
   "source": [
    "tokenizer = keras_nlp.models.Gemma3Tokenizer.from_preset(\"/kaggle/input/gemma3/keras/gemma3_1b/1\")"
   ]
  },
  {
   "cell_type": "markdown",
   "id": "c74761a6",
   "metadata": {
    "papermill": {
     "duration": 0.01561,
     "end_time": "2025-03-30T13:40:37.155699",
     "exception": false,
     "start_time": "2025-03-30T13:40:37.140089",
     "status": "completed"
    },
    "tags": []
   },
   "source": [
    "Let's verify the model now."
   ]
  },
  {
   "cell_type": "code",
   "execution_count": 6,
   "id": "52122850",
   "metadata": {
    "execution": {
     "iopub.execute_input": "2025-03-30T13:40:37.188932Z",
     "iopub.status.busy": "2025-03-30T13:40:37.188475Z",
     "iopub.status.idle": "2025-03-30T13:40:37.231540Z",
     "shell.execute_reply": "2025-03-30T13:40:37.230498Z"
    },
    "papermill": {
     "duration": 0.062146,
     "end_time": "2025-03-30T13:40:37.233530",
     "exception": false,
     "start_time": "2025-03-30T13:40:37.171384",
     "status": "completed"
    },
    "tags": []
   },
   "outputs": [
    {
     "data": {
      "text/html": [
       "<pre style=\"white-space:pre;overflow-x:auto;line-height:normal;font-family:Menlo,'DejaVu Sans Mono',consolas,'Courier New',monospace\"><span style=\"font-weight: bold\">Preprocessor: \"gemma3_causal_lm_preprocessor\"</span>\n",
       "</pre>\n"
      ],
      "text/plain": [
       "\u001b[1mPreprocessor: \"gemma3_causal_lm_preprocessor\"\u001b[0m\n"
      ]
     },
     "metadata": {},
     "output_type": "display_data"
    },
    {
     "data": {
      "text/html": [
       "<pre style=\"white-space:pre;overflow-x:auto;line-height:normal;font-family:Menlo,'DejaVu Sans Mono',consolas,'Courier New',monospace\">┏━━━━━━━━━━━━━━━━━━━━━━━━━━━━━━━━━━━━━━━━━━━━━━━━━━━━━━━━━━━━━━━┳━━━━━━━━━━━━━━━━━━━━━━━━━━━━━━━━━━━━━━━━━━┓\n",
       "┃<span style=\"font-weight: bold\"> Layer (type)                                                  </span>┃<span style=\"font-weight: bold\">                                   Config </span>┃\n",
       "┡━━━━━━━━━━━━━━━━━━━━━━━━━━━━━━━━━━━━━━━━━━━━━━━━━━━━━━━━━━━━━━━╇━━━━━━━━━━━━━━━━━━━━━━━━━━━━━━━━━━━━━━━━━━┩\n",
       "│ gemma3_tokenizer (<span style=\"color: #0087ff; text-decoration-color: #0087ff\">Gemma3Tokenizer</span>)                            │                      Vocab size: <span style=\"color: #00af00; text-decoration-color: #00af00\">262,144</span> │\n",
       "└───────────────────────────────────────────────────────────────┴──────────────────────────────────────────┘\n",
       "</pre>\n"
      ],
      "text/plain": [
       "┏━━━━━━━━━━━━━━━━━━━━━━━━━━━━━━━━━━━━━━━━━━━━━━━━━━━━━━━━━━━━━━━┳━━━━━━━━━━━━━━━━━━━━━━━━━━━━━━━━━━━━━━━━━━┓\n",
       "┃\u001b[1m \u001b[0m\u001b[1mLayer (type)                                                 \u001b[0m\u001b[1m \u001b[0m┃\u001b[1m \u001b[0m\u001b[1m                                  Config\u001b[0m\u001b[1m \u001b[0m┃\n",
       "┡━━━━━━━━━━━━━━━━━━━━━━━━━━━━━━━━━━━━━━━━━━━━━━━━━━━━━━━━━━━━━━━╇━━━━━━━━━━━━━━━━━━━━━━━━━━━━━━━━━━━━━━━━━━┩\n",
       "│ gemma3_tokenizer (\u001b[38;5;33mGemma3Tokenizer\u001b[0m)                            │                      Vocab size: \u001b[38;5;34m262,144\u001b[0m │\n",
       "└───────────────────────────────────────────────────────────────┴──────────────────────────────────────────┘\n"
      ]
     },
     "metadata": {},
     "output_type": "display_data"
    },
    {
     "data": {
      "text/html": [
       "<pre style=\"white-space:pre;overflow-x:auto;line-height:normal;font-family:Menlo,'DejaVu Sans Mono',consolas,'Courier New',monospace\"><span style=\"font-weight: bold\">Model: \"gemma3_causal_lm\"</span>\n",
       "</pre>\n"
      ],
      "text/plain": [
       "\u001b[1mModel: \"gemma3_causal_lm\"\u001b[0m\n"
      ]
     },
     "metadata": {},
     "output_type": "display_data"
    },
    {
     "data": {
      "text/html": [
       "<pre style=\"white-space:pre;overflow-x:auto;line-height:normal;font-family:Menlo,'DejaVu Sans Mono',consolas,'Courier New',monospace\">┏━━━━━━━━━━━━━━━━━━━━━━━━━━━━━━━┳━━━━━━━━━━━━━━━━━━━━━━━━━━━┳━━━━━━━━━━━━━━━━━┳━━━━━━━━━━━━━━━━━━━━━━━━━━━━┓\n",
       "┃<span style=\"font-weight: bold\"> Layer (type)                  </span>┃<span style=\"font-weight: bold\"> Output Shape              </span>┃<span style=\"font-weight: bold\">         Param # </span>┃<span style=\"font-weight: bold\"> Connected to               </span>┃\n",
       "┡━━━━━━━━━━━━━━━━━━━━━━━━━━━━━━━╇━━━━━━━━━━━━━━━━━━━━━━━━━━━╇━━━━━━━━━━━━━━━━━╇━━━━━━━━━━━━━━━━━━━━━━━━━━━━┩\n",
       "│ padding_mask (<span style=\"color: #0087ff; text-decoration-color: #0087ff\">InputLayer</span>)     │ (<span style=\"color: #00d7ff; text-decoration-color: #00d7ff\">None</span>, <span style=\"color: #00d7ff; text-decoration-color: #00d7ff\">None</span>)              │               <span style=\"color: #00af00; text-decoration-color: #00af00\">0</span> │ -                          │\n",
       "├───────────────────────────────┼───────────────────────────┼─────────────────┼────────────────────────────┤\n",
       "│ token_ids (<span style=\"color: #0087ff; text-decoration-color: #0087ff\">InputLayer</span>)        │ (<span style=\"color: #00d7ff; text-decoration-color: #00d7ff\">None</span>, <span style=\"color: #00d7ff; text-decoration-color: #00d7ff\">None</span>)              │               <span style=\"color: #00af00; text-decoration-color: #00af00\">0</span> │ -                          │\n",
       "├───────────────────────────────┼───────────────────────────┼─────────────────┼────────────────────────────┤\n",
       "│ gemma3_backbone               │ (<span style=\"color: #00d7ff; text-decoration-color: #00d7ff\">None</span>, <span style=\"color: #00d7ff; text-decoration-color: #00d7ff\">None</span>, <span style=\"color: #00af00; text-decoration-color: #00af00\">1152</span>)        │     <span style=\"color: #00af00; text-decoration-color: #00af00\">999,885,952</span> │ padding_mask[<span style=\"color: #00af00; text-decoration-color: #00af00\">0</span>][<span style=\"color: #00af00; text-decoration-color: #00af00\">0</span>],        │\n",
       "│ (<span style=\"color: #0087ff; text-decoration-color: #0087ff\">Gemma3Backbone</span>)              │                           │                 │ token_ids[<span style=\"color: #00af00; text-decoration-color: #00af00\">0</span>][<span style=\"color: #00af00; text-decoration-color: #00af00\">0</span>]            │\n",
       "├───────────────────────────────┼───────────────────────────┼─────────────────┼────────────────────────────┤\n",
       "│ token_embedding               │ (<span style=\"color: #00d7ff; text-decoration-color: #00d7ff\">None</span>, <span style=\"color: #00d7ff; text-decoration-color: #00d7ff\">None</span>, <span style=\"color: #00af00; text-decoration-color: #00af00\">262144</span>)      │     <span style=\"color: #00af00; text-decoration-color: #00af00\">301,989,888</span> │ gemma3_backbone[<span style=\"color: #00af00; text-decoration-color: #00af00\">0</span>][<span style=\"color: #00af00; text-decoration-color: #00af00\">0</span>]      │\n",
       "│ (<span style=\"color: #0087ff; text-decoration-color: #0087ff\">ReversibleEmbedding</span>)         │                           │                 │                            │\n",
       "└───────────────────────────────┴───────────────────────────┴─────────────────┴────────────────────────────┘\n",
       "</pre>\n"
      ],
      "text/plain": [
       "┏━━━━━━━━━━━━━━━━━━━━━━━━━━━━━━━┳━━━━━━━━━━━━━━━━━━━━━━━━━━━┳━━━━━━━━━━━━━━━━━┳━━━━━━━━━━━━━━━━━━━━━━━━━━━━┓\n",
       "┃\u001b[1m \u001b[0m\u001b[1mLayer (type)                 \u001b[0m\u001b[1m \u001b[0m┃\u001b[1m \u001b[0m\u001b[1mOutput Shape             \u001b[0m\u001b[1m \u001b[0m┃\u001b[1m \u001b[0m\u001b[1m        Param #\u001b[0m\u001b[1m \u001b[0m┃\u001b[1m \u001b[0m\u001b[1mConnected to              \u001b[0m\u001b[1m \u001b[0m┃\n",
       "┡━━━━━━━━━━━━━━━━━━━━━━━━━━━━━━━╇━━━━━━━━━━━━━━━━━━━━━━━━━━━╇━━━━━━━━━━━━━━━━━╇━━━━━━━━━━━━━━━━━━━━━━━━━━━━┩\n",
       "│ padding_mask (\u001b[38;5;33mInputLayer\u001b[0m)     │ (\u001b[38;5;45mNone\u001b[0m, \u001b[38;5;45mNone\u001b[0m)              │               \u001b[38;5;34m0\u001b[0m │ -                          │\n",
       "├───────────────────────────────┼───────────────────────────┼─────────────────┼────────────────────────────┤\n",
       "│ token_ids (\u001b[38;5;33mInputLayer\u001b[0m)        │ (\u001b[38;5;45mNone\u001b[0m, \u001b[38;5;45mNone\u001b[0m)              │               \u001b[38;5;34m0\u001b[0m │ -                          │\n",
       "├───────────────────────────────┼───────────────────────────┼─────────────────┼────────────────────────────┤\n",
       "│ gemma3_backbone               │ (\u001b[38;5;45mNone\u001b[0m, \u001b[38;5;45mNone\u001b[0m, \u001b[38;5;34m1152\u001b[0m)        │     \u001b[38;5;34m999,885,952\u001b[0m │ padding_mask[\u001b[38;5;34m0\u001b[0m][\u001b[38;5;34m0\u001b[0m],        │\n",
       "│ (\u001b[38;5;33mGemma3Backbone\u001b[0m)              │                           │                 │ token_ids[\u001b[38;5;34m0\u001b[0m][\u001b[38;5;34m0\u001b[0m]            │\n",
       "├───────────────────────────────┼───────────────────────────┼─────────────────┼────────────────────────────┤\n",
       "│ token_embedding               │ (\u001b[38;5;45mNone\u001b[0m, \u001b[38;5;45mNone\u001b[0m, \u001b[38;5;34m262144\u001b[0m)      │     \u001b[38;5;34m301,989,888\u001b[0m │ gemma3_backbone[\u001b[38;5;34m0\u001b[0m][\u001b[38;5;34m0\u001b[0m]      │\n",
       "│ (\u001b[38;5;33mReversibleEmbedding\u001b[0m)         │                           │                 │                            │\n",
       "└───────────────────────────────┴───────────────────────────┴─────────────────┴────────────────────────────┘\n"
      ]
     },
     "metadata": {},
     "output_type": "display_data"
    },
    {
     "data": {
      "text/html": [
       "<pre style=\"white-space:pre;overflow-x:auto;line-height:normal;font-family:Menlo,'DejaVu Sans Mono',consolas,'Courier New',monospace\"><span style=\"font-weight: bold\"> Total params: </span><span style=\"color: #00af00; text-decoration-color: #00af00\">999,885,952</span> (3.72 GB)\n",
       "</pre>\n"
      ],
      "text/plain": [
       "\u001b[1m Total params: \u001b[0m\u001b[38;5;34m999,885,952\u001b[0m (3.72 GB)\n"
      ]
     },
     "metadata": {},
     "output_type": "display_data"
    },
    {
     "data": {
      "text/html": [
       "<pre style=\"white-space:pre;overflow-x:auto;line-height:normal;font-family:Menlo,'DejaVu Sans Mono',consolas,'Courier New',monospace\"><span style=\"font-weight: bold\"> Trainable params: </span><span style=\"color: #00af00; text-decoration-color: #00af00\">999,885,952</span> (3.72 GB)\n",
       "</pre>\n"
      ],
      "text/plain": [
       "\u001b[1m Trainable params: \u001b[0m\u001b[38;5;34m999,885,952\u001b[0m (3.72 GB)\n"
      ]
     },
     "metadata": {},
     "output_type": "display_data"
    },
    {
     "data": {
      "text/html": [
       "<pre style=\"white-space:pre;overflow-x:auto;line-height:normal;font-family:Menlo,'DejaVu Sans Mono',consolas,'Courier New',monospace\"><span style=\"font-weight: bold\"> Non-trainable params: </span><span style=\"color: #00af00; text-decoration-color: #00af00\">0</span> (0.00 B)\n",
       "</pre>\n"
      ],
      "text/plain": [
       "\u001b[1m Non-trainable params: \u001b[0m\u001b[38;5;34m0\u001b[0m (0.00 B)\n"
      ]
     },
     "metadata": {},
     "output_type": "display_data"
    }
   ],
   "source": [
    "gemma_lm.summary()"
   ]
  },
  {
   "cell_type": "markdown",
   "id": "debb3cae",
   "metadata": {
    "papermill": {
     "duration": 0.017122,
     "end_time": "2025-03-30T13:40:37.267945",
     "exception": false,
     "start_time": "2025-03-30T13:40:37.250823",
     "status": "completed"
    },
    "tags": []
   },
   "source": [
    "We observe that the model is indeed under 1GB.\n",
    "\n",
    "# Test the model\n",
    "\n",
    "Let's define a simple prompt."
   ]
  },
  {
   "cell_type": "code",
   "execution_count": 7,
   "id": "b82f92b3",
   "metadata": {
    "execution": {
     "iopub.execute_input": "2025-03-30T13:40:37.303540Z",
     "iopub.status.busy": "2025-03-30T13:40:37.303134Z",
     "iopub.status.idle": "2025-03-30T13:41:04.698387Z",
     "shell.execute_reply": "2025-03-30T13:41:04.697213Z"
    },
    "papermill": {
     "duration": 27.416806,
     "end_time": "2025-03-30T13:41:04.702249",
     "exception": false,
     "start_time": "2025-03-30T13:40:37.285443",
     "status": "completed"
    },
    "tags": []
   },
   "outputs": [],
   "source": [
    "instructions = \"You are an AI that answers in short, complete sentences only.\\n\"\n",
    "prompt = (\n",
    "    f\"{instructions}\"\n",
    "    \"Question: {question}\\n\"\n",
    "    \"Answer:\"\n",
    ")\n",
    "\n",
    "output = gemma_lm.generate(\n",
    "    prompt.format(question=\"What is the temperature of the Moon?\"),\n",
    "    max_length=40, \n",
    "    stop_token_ids=[tokenizer.token_to_id(\"\\n\")]\n",
    ")\n"
   ]
  },
  {
   "cell_type": "code",
   "execution_count": 8,
   "id": "bc6f78c5",
   "metadata": {
    "execution": {
     "iopub.execute_input": "2025-03-30T13:41:04.732436Z",
     "iopub.status.busy": "2025-03-30T13:41:04.732073Z",
     "iopub.status.idle": "2025-03-30T13:41:04.737343Z",
     "shell.execute_reply": "2025-03-30T13:41:04.736217Z"
    },
    "papermill": {
     "duration": 0.021667,
     "end_time": "2025-03-30T13:41:04.739533",
     "exception": false,
     "start_time": "2025-03-30T13:41:04.717866",
     "status": "completed"
    },
    "tags": []
   },
   "outputs": [
    {
     "name": "stdout",
     "output_type": "stream",
     "text": [
      "Question: What is the temperature of the Moon?\n",
      "Answer: The temperature of the Moon is 100 degrees Celsius\n"
     ]
    }
   ],
   "source": [
    "answer = output.replace(instructions, \"\").strip()\n",
    "print(answer)"
   ]
  },
  {
   "cell_type": "markdown",
   "id": "0f58d3e1",
   "metadata": {
    "papermill": {
     "duration": 0.012012,
     "end_time": "2025-03-30T13:41:04.763789",
     "exception": false,
     "start_time": "2025-03-30T13:41:04.751777",
     "status": "completed"
    },
    "tags": []
   },
   "source": [
    "## Functions to generate and format the output\n",
    "\n",
    "We define a function to generate the answer."
   ]
  },
  {
   "cell_type": "code",
   "execution_count": 9,
   "id": "c090e871",
   "metadata": {
    "execution": {
     "iopub.execute_input": "2025-03-30T13:41:04.791484Z",
     "iopub.status.busy": "2025-03-30T13:41:04.791105Z",
     "iopub.status.idle": "2025-03-30T13:41:04.796476Z",
     "shell.execute_reply": "2025-03-30T13:41:04.795377Z"
    },
    "papermill": {
     "duration": 0.022157,
     "end_time": "2025-03-30T13:41:04.798274",
     "exception": false,
     "start_time": "2025-03-30T13:41:04.776117",
     "status": "completed"
    },
    "tags": []
   },
   "outputs": [],
   "source": [
    "def generate_answer(question, \n",
    "                    instructions=\"You are an AI that answers in short, complete sentences only.\\n\", \n",
    "                    max_length=40):\n",
    "    prompt = (\n",
    "        f\"{instructions}\"\n",
    "        \"Question: {question}\\n\"\n",
    "        \"Answer:\"\n",
    "    )\n",
    "    output = gemma_lm.generate(\n",
    "        prompt.format(question=question),\n",
    "        max_length=max_length, \n",
    "        stop_token_ids=[tokenizer.token_to_id(\"\\n\")]\n",
    "    )    \n",
    "    answer = output.replace(instructions, \"\").strip()\n",
    "    return answer"
   ]
  },
  {
   "cell_type": "markdown",
   "id": "d51a026d",
   "metadata": {
    "papermill": {
     "duration": 0.011937,
     "end_time": "2025-03-30T13:41:04.822820",
     "exception": false,
     "start_time": "2025-03-30T13:41:04.810883",
     "status": "completed"
    },
    "tags": []
   },
   "source": [
    "We define a function to format the output."
   ]
  },
  {
   "cell_type": "code",
   "execution_count": 10,
   "id": "ee4871ec",
   "metadata": {
    "execution": {
     "iopub.execute_input": "2025-03-30T13:41:04.848535Z",
     "iopub.status.busy": "2025-03-30T13:41:04.848156Z",
     "iopub.status.idle": "2025-03-30T13:41:04.853558Z",
     "shell.execute_reply": "2025-03-30T13:41:04.852372Z"
    },
    "papermill": {
     "duration": 0.020476,
     "end_time": "2025-03-30T13:41:04.855480",
     "exception": false,
     "start_time": "2025-03-30T13:41:04.835004",
     "status": "completed"
    },
    "tags": []
   },
   "outputs": [],
   "source": [
    "from IPython.display import display, Markdown\n",
    "\n",
    "def colorize_text(text):\n",
    "    for word, color in zip([\"Reasoning\", \"Question\", \"Answer\", \"Explanation\", \"Total time\"], [\"blue\", \"red\", \"green\", \"darkblue\",  \"magenta\"]):\n",
    "        text = text.replace(f\"{word}:\", f\"\\n\\n**<font color='{color}'>{word}:</font>**\")\n",
    "    return text"
   ]
  },
  {
   "cell_type": "markdown",
   "id": "3400c353",
   "metadata": {
    "papermill": {
     "duration": 0.012155,
     "end_time": "2025-03-30T13:41:04.880553",
     "exception": false,
     "start_time": "2025-03-30T13:41:04.868398",
     "status": "completed"
    },
    "tags": []
   },
   "source": [
    "Now let's combine both."
   ]
  },
  {
   "cell_type": "code",
   "execution_count": 11,
   "id": "0c362e7d",
   "metadata": {
    "execution": {
     "iopub.execute_input": "2025-03-30T13:41:04.907235Z",
     "iopub.status.busy": "2025-03-30T13:41:04.906859Z",
     "iopub.status.idle": "2025-03-30T13:41:04.911854Z",
     "shell.execute_reply": "2025-03-30T13:41:04.910897Z"
    },
    "papermill": {
     "duration": 0.020112,
     "end_time": "2025-03-30T13:41:04.913517",
     "exception": false,
     "start_time": "2025-03-30T13:41:04.893405",
     "status": "completed"
    },
    "tags": []
   },
   "outputs": [],
   "source": [
    "def generate_format_answer(question, \n",
    "                    instructions=\"You are an AI that answers in short, complete sentences only.\\n\", \n",
    "                    max_length=40):\n",
    "    t = time()\n",
    "    answer = generate_answer(question, instructions, max_length)\n",
    "    display(Markdown(colorize_text(f\"{answer}\\n\\nTotal time: {round(time()-t, 2)} sec.\")))"
   ]
  },
  {
   "cell_type": "code",
   "execution_count": 12,
   "id": "463d9d57",
   "metadata": {
    "execution": {
     "iopub.execute_input": "2025-03-30T13:41:04.939658Z",
     "iopub.status.busy": "2025-03-30T13:41:04.939278Z",
     "iopub.status.idle": "2025-03-30T13:41:07.564742Z",
     "shell.execute_reply": "2025-03-30T13:41:07.563542Z"
    },
    "papermill": {
     "duration": 2.640653,
     "end_time": "2025-03-30T13:41:07.566546",
     "exception": false,
     "start_time": "2025-03-30T13:41:04.925893",
     "status": "completed"
    },
    "tags": []
   },
   "outputs": [
    {
     "data": {
      "text/markdown": [
       "\n",
       "\n",
       "**<font color='red'>Question:</font>** What is the surface temperature of the Moon?\n",
       "\n",
       "\n",
       "**<font color='green'>Answer:</font>** 100 degrees Celsius\n",
       "\n",
       "\n",
       "\n",
       "**<font color='magenta'>Total time:</font>** 2.62 sec."
      ],
      "text/plain": [
       "<IPython.core.display.Markdown object>"
      ]
     },
     "metadata": {},
     "output_type": "display_data"
    }
   ],
   "source": [
    "generate_format_answer(\"What is the surface temperature of the Moon?\")"
   ]
  },
  {
   "cell_type": "markdown",
   "id": "cac36f58",
   "metadata": {
    "papermill": {
     "duration": 0.011957,
     "end_time": "2025-03-30T13:41:07.591041",
     "exception": false,
     "start_time": "2025-03-30T13:41:07.579084",
     "status": "completed"
    },
    "tags": []
   },
   "source": [
    "## Let's ask some simple common knowledge questions\n",
    "\n",
    "\n",
    "Will ask questions from history, arts, general culture and politics."
   ]
  },
  {
   "cell_type": "code",
   "execution_count": 13,
   "id": "816f7a90",
   "metadata": {
    "execution": {
     "iopub.execute_input": "2025-03-30T13:41:07.616907Z",
     "iopub.status.busy": "2025-03-30T13:41:07.616468Z",
     "iopub.status.idle": "2025-03-30T13:41:11.173759Z",
     "shell.execute_reply": "2025-03-30T13:41:11.172655Z"
    },
    "papermill": {
     "duration": 3.572209,
     "end_time": "2025-03-30T13:41:11.175453",
     "exception": false,
     "start_time": "2025-03-30T13:41:07.603244",
     "status": "completed"
    },
    "tags": []
   },
   "outputs": [
    {
     "data": {
      "text/markdown": [
       "\n",
       "\n",
       "**<font color='red'>Question:</font>** When was the 30 years war?\n",
       "\n",
       "\n",
       "**<font color='green'>Answer:</font>** 1618-1648\n",
       "\n",
       "\n",
       "\n",
       "**<font color='magenta'>Total time:</font>** 3.55 sec."
      ],
      "text/plain": [
       "<IPython.core.display.Markdown object>"
      ]
     },
     "metadata": {},
     "output_type": "display_data"
    }
   ],
   "source": [
    "answer = generate_format_answer(\"When was the 30 years war?\")"
   ]
  },
  {
   "cell_type": "code",
   "execution_count": 14,
   "id": "6a49b0db",
   "metadata": {
    "execution": {
     "iopub.execute_input": "2025-03-30T13:41:11.202782Z",
     "iopub.status.busy": "2025-03-30T13:41:11.202350Z",
     "iopub.status.idle": "2025-03-30T13:41:14.744486Z",
     "shell.execute_reply": "2025-03-30T13:41:14.743368Z"
    },
    "papermill": {
     "duration": 3.55802,
     "end_time": "2025-03-30T13:41:14.746306",
     "exception": false,
     "start_time": "2025-03-30T13:41:11.188286",
     "status": "completed"
    },
    "tags": []
   },
   "outputs": [
    {
     "data": {
      "text/markdown": [
       "\n",
       "\n",
       "**<font color='red'>Question:</font>** When was the Great War?\n",
       "\n",
       "\n",
       "**<font color='green'>Answer:</font>** 1914-1918\n",
       "\n",
       "\n",
       "\n",
       "**<font color='magenta'>Total time:</font>** 3.54 sec."
      ],
      "text/plain": [
       "<IPython.core.display.Markdown object>"
      ]
     },
     "metadata": {},
     "output_type": "display_data"
    }
   ],
   "source": [
    "answer = generate_format_answer(\"When was the Great War?\")"
   ]
  },
  {
   "cell_type": "code",
   "execution_count": 15,
   "id": "0c8df561",
   "metadata": {
    "execution": {
     "iopub.execute_input": "2025-03-30T13:41:14.773561Z",
     "iopub.status.busy": "2025-03-30T13:41:14.773161Z",
     "iopub.status.idle": "2025-03-30T13:41:17.105465Z",
     "shell.execute_reply": "2025-03-30T13:41:17.104315Z"
    },
    "papermill": {
     "duration": 2.347774,
     "end_time": "2025-03-30T13:41:17.107129",
     "exception": false,
     "start_time": "2025-03-30T13:41:14.759355",
     "status": "completed"
    },
    "tags": []
   },
   "outputs": [
    {
     "data": {
      "text/markdown": [
       "\n",
       "\n",
       "**<font color='red'>Question:</font>** When was the USA-Spanish war?\n",
       "\n",
       "\n",
       "**<font color='green'>Answer:</font>** 1898\n",
       "\n",
       "\n",
       "\n",
       "**<font color='magenta'>Total time:</font>** 2.33 sec."
      ],
      "text/plain": [
       "<IPython.core.display.Markdown object>"
      ]
     },
     "metadata": {},
     "output_type": "display_data"
    }
   ],
   "source": [
    "generate_format_answer(\"When was the USA-Spanish war?\")"
   ]
  },
  {
   "cell_type": "code",
   "execution_count": 16,
   "id": "66967cc7",
   "metadata": {
    "execution": {
     "iopub.execute_input": "2025-03-30T13:41:17.134061Z",
     "iopub.status.busy": "2025-03-30T13:41:17.133695Z",
     "iopub.status.idle": "2025-03-30T13:41:18.662502Z",
     "shell.execute_reply": "2025-03-30T13:41:18.661355Z"
    },
    "papermill": {
     "duration": 1.544145,
     "end_time": "2025-03-30T13:41:18.664170",
     "exception": false,
     "start_time": "2025-03-30T13:41:17.120025",
     "status": "completed"
    },
    "tags": []
   },
   "outputs": [
    {
     "data": {
      "text/markdown": [
       "\n",
       "\n",
       "**<font color='red'>Question:</font>** Who was the president before 1st mandate of Donald Trump?\n",
       "\n",
       "\n",
       "**<font color='green'>Answer:</font>** Barack Obama\n",
       "\n",
       "\n",
       "\n",
       "**<font color='magenta'>Total time:</font>** 1.52 sec."
      ],
      "text/plain": [
       "<IPython.core.display.Markdown object>"
      ]
     },
     "metadata": {},
     "output_type": "display_data"
    }
   ],
   "source": [
    "generate_format_answer(\"Who was the president before 1st mandate of Donald Trump?\")"
   ]
  },
  {
   "cell_type": "code",
   "execution_count": 17,
   "id": "68d0b105",
   "metadata": {
    "execution": {
     "iopub.execute_input": "2025-03-30T13:41:18.691623Z",
     "iopub.status.busy": "2025-03-30T13:41:18.691197Z",
     "iopub.status.idle": "2025-03-30T13:41:21.972760Z",
     "shell.execute_reply": "2025-03-30T13:41:21.971640Z"
    },
    "papermill": {
     "duration": 3.297396,
     "end_time": "2025-03-30T13:41:21.974542",
     "exception": false,
     "start_time": "2025-03-30T13:41:18.677146",
     "status": "completed"
    },
    "tags": []
   },
   "outputs": [
    {
     "data": {
      "text/markdown": [
       "\n",
       "\n",
       "**<font color='red'>Question:</font>** When was the attack on Pearl Harbor?\n",
       "\n",
       "\n",
       "**<font color='green'>Answer:</font>** December 7, 1941\n",
       "\n",
       "\n",
       "\n",
       "**<font color='magenta'>Total time:</font>** 3.28 sec."
      ],
      "text/plain": [
       "<IPython.core.display.Markdown object>"
      ]
     },
     "metadata": {},
     "output_type": "display_data"
    }
   ],
   "source": [
    "generate_format_answer(\"When was the attack on Pearl Harbor?\")"
   ]
  },
  {
   "cell_type": "code",
   "execution_count": 18,
   "id": "c55f8b4e",
   "metadata": {
    "execution": {
     "iopub.execute_input": "2025-03-30T13:41:22.002150Z",
     "iopub.status.busy": "2025-03-30T13:41:22.001802Z",
     "iopub.status.idle": "2025-03-30T13:41:24.040266Z",
     "shell.execute_reply": "2025-03-30T13:41:24.039192Z"
    },
    "papermill": {
     "duration": 2.053993,
     "end_time": "2025-03-30T13:41:24.041999",
     "exception": false,
     "start_time": "2025-03-30T13:41:21.988006",
     "status": "completed"
    },
    "tags": []
   },
   "outputs": [
    {
     "data": {
      "text/markdown": [
       "\n",
       "\n",
       "**<font color='red'>Question:</font>** Who was the next shogon after Yeiatsu Tokugawa?\n",
       "\n",
       "\n",
       "**<font color='green'>Answer:</font>** Tokugawa Ieyasu\n",
       "\n",
       "\n",
       "\n",
       "**<font color='magenta'>Total time:</font>** 2.03 sec."
      ],
      "text/plain": [
       "<IPython.core.display.Markdown object>"
      ]
     },
     "metadata": {},
     "output_type": "display_data"
    }
   ],
   "source": [
    "generate_format_answer(\"Who was the next shogon after Yeiatsu Tokugawa?\")"
   ]
  },
  {
   "cell_type": "markdown",
   "id": "bbc57e4e",
   "metadata": {
    "papermill": {
     "duration": 0.012879,
     "end_time": "2025-03-30T13:41:24.068291",
     "exception": false,
     "start_time": "2025-03-30T13:41:24.055412",
     "status": "completed"
    },
    "tags": []
   },
   "source": [
    "This answer is not correct. The correct answer is Hidetada Tokugawa."
   ]
  },
  {
   "cell_type": "code",
   "execution_count": 19,
   "id": "5037f341",
   "metadata": {
    "execution": {
     "iopub.execute_input": "2025-03-30T13:41:24.095702Z",
     "iopub.status.busy": "2025-03-30T13:41:24.095300Z",
     "iopub.status.idle": "2025-03-30T13:41:25.627357Z",
     "shell.execute_reply": "2025-03-30T13:41:25.626280Z"
    },
    "papermill": {
     "duration": 1.54773,
     "end_time": "2025-03-30T13:41:25.628964",
     "exception": false,
     "start_time": "2025-03-30T13:41:24.081234",
     "status": "completed"
    },
    "tags": []
   },
   "outputs": [
    {
     "data": {
      "text/markdown": [
       "\n",
       "\n",
       "**<font color='red'>Question:</font>** Who was the first American president?\n",
       "\n",
       "\n",
       "**<font color='green'>Answer:</font>** George Washington\n",
       "\n",
       "\n",
       "\n",
       "**<font color='magenta'>Total time:</font>** 1.53 sec."
      ],
      "text/plain": [
       "<IPython.core.display.Markdown object>"
      ]
     },
     "metadata": {},
     "output_type": "display_data"
    }
   ],
   "source": [
    "generate_format_answer(\"Who was the first American president?\")"
   ]
  },
  {
   "cell_type": "code",
   "execution_count": 20,
   "id": "1b7d7ddf",
   "metadata": {
    "execution": {
     "iopub.execute_input": "2025-03-30T13:41:25.656983Z",
     "iopub.status.busy": "2025-03-30T13:41:25.656539Z",
     "iopub.status.idle": "2025-03-30T13:41:27.222831Z",
     "shell.execute_reply": "2025-03-30T13:41:27.221698Z"
    },
    "papermill": {
     "duration": 1.582224,
     "end_time": "2025-03-30T13:41:27.224723",
     "exception": false,
     "start_time": "2025-03-30T13:41:25.642499",
     "status": "completed"
    },
    "tags": []
   },
   "outputs": [
    {
     "data": {
      "text/markdown": [
       "\n",
       "\n",
       "**<font color='red'>Question:</font>** What is drosophila melanogaster?\n",
       "\n",
       "\n",
       "**<font color='green'>Answer:</font>** Fruit fly\n",
       "\n",
       "\n",
       "\n",
       "**<font color='magenta'>Total time:</font>** 1.56 sec."
      ],
      "text/plain": [
       "<IPython.core.display.Markdown object>"
      ]
     },
     "metadata": {},
     "output_type": "display_data"
    }
   ],
   "source": [
    "generate_format_answer(\"What is drosophila melanogaster?\")"
   ]
  },
  {
   "cell_type": "code",
   "execution_count": 21,
   "id": "195a6c09",
   "metadata": {
    "execution": {
     "iopub.execute_input": "2025-03-30T13:41:27.254799Z",
     "iopub.status.busy": "2025-03-30T13:41:27.254404Z",
     "iopub.status.idle": "2025-03-30T13:41:28.538740Z",
     "shell.execute_reply": "2025-03-30T13:41:28.537528Z"
    },
    "papermill": {
     "duration": 1.300791,
     "end_time": "2025-03-30T13:41:28.540506",
     "exception": false,
     "start_time": "2025-03-30T13:41:27.239715",
     "status": "completed"
    },
    "tags": []
   },
   "outputs": [
    {
     "data": {
      "text/markdown": [
       "\n",
       "\n",
       "**<font color='red'>Question:</font>** Which country in South America use Portuguese?\n",
       "\n",
       "\n",
       "**<font color='green'>Answer:</font>** Brazil\n",
       "\n",
       "\n",
       "\n",
       "**<font color='magenta'>Total time:</font>** 1.28 sec."
      ],
      "text/plain": [
       "<IPython.core.display.Markdown object>"
      ]
     },
     "metadata": {},
     "output_type": "display_data"
    }
   ],
   "source": [
    "generate_format_answer(\"Which country in South America use Portuguese?\")"
   ]
  },
  {
   "cell_type": "code",
   "execution_count": 22,
   "id": "41d22654",
   "metadata": {
    "execution": {
     "iopub.execute_input": "2025-03-30T13:41:28.568709Z",
     "iopub.status.busy": "2025-03-30T13:41:28.568318Z",
     "iopub.status.idle": "2025-03-30T13:41:32.124953Z",
     "shell.execute_reply": "2025-03-30T13:41:32.123902Z"
    },
    "papermill": {
     "duration": 3.572877,
     "end_time": "2025-03-30T13:41:32.127037",
     "exception": false,
     "start_time": "2025-03-30T13:41:28.554160",
     "status": "completed"
    },
    "tags": []
   },
   "outputs": [
    {
     "data": {
      "text/markdown": [
       "\n",
       "\n",
       "**<font color='red'>Question:</font>** What family are horses?\n",
       "\n",
       "\n",
       "**<font color='green'>Answer:</font>** Horses are members of the family Equidae.\n",
       "\n",
       "\n",
       "\n",
       "**<font color='magenta'>Total time:</font>** 3.55 sec."
      ],
      "text/plain": [
       "<IPython.core.display.Markdown object>"
      ]
     },
     "metadata": {},
     "output_type": "display_data"
    }
   ],
   "source": [
    "generate_format_answer(\"What family are horses?\")"
   ]
  },
  {
   "cell_type": "code",
   "execution_count": 23,
   "id": "14efa2e9",
   "metadata": {
    "execution": {
     "iopub.execute_input": "2025-03-30T13:41:32.162684Z",
     "iopub.status.busy": "2025-03-30T13:41:32.162194Z",
     "iopub.status.idle": "2025-03-30T13:41:33.556345Z",
     "shell.execute_reply": "2025-03-30T13:41:33.555394Z"
    },
    "papermill": {
     "duration": 1.410233,
     "end_time": "2025-03-30T13:41:33.557951",
     "exception": false,
     "start_time": "2025-03-30T13:41:32.147718",
     "status": "completed"
    },
    "tags": []
   },
   "outputs": [
    {
     "data": {
      "text/markdown": [
       "\n",
       "\n",
       "**<font color='red'>Question:</font>** With which country has France the largest border in South America?\n",
       "\n",
       "\n",
       "**<font color='green'>Answer:</font>** Brazil\n",
       "\n",
       "\n",
       "\n",
       "**<font color='magenta'>Total time:</font>** 1.39 sec."
      ],
      "text/plain": [
       "<IPython.core.display.Markdown object>"
      ]
     },
     "metadata": {},
     "output_type": "display_data"
    }
   ],
   "source": [
    "generate_format_answer(\"With which country has France the largest border in South America?\")"
   ]
  },
  {
   "cell_type": "code",
   "execution_count": 24,
   "id": "862d8fa4",
   "metadata": {
    "execution": {
     "iopub.execute_input": "2025-03-30T13:41:33.586654Z",
     "iopub.status.busy": "2025-03-30T13:41:33.586288Z",
     "iopub.status.idle": "2025-03-30T13:41:35.892041Z",
     "shell.execute_reply": "2025-03-30T13:41:35.890985Z"
    },
    "papermill": {
     "duration": 2.321866,
     "end_time": "2025-03-30T13:41:35.893635",
     "exception": false,
     "start_time": "2025-03-30T13:41:33.571769",
     "status": "completed"
    },
    "tags": []
   },
   "outputs": [
    {
     "data": {
      "text/markdown": [
       "\n",
       "\n",
       "**<font color='red'>Question:</font>** In what year was Fukushima incident?\n",
       "\n",
       "\n",
       "**<font color='green'>Answer:</font>** 2011\n",
       "\n",
       "\n",
       "\n",
       "**<font color='magenta'>Total time:</font>** 2.3 sec."
      ],
      "text/plain": [
       "<IPython.core.display.Markdown object>"
      ]
     },
     "metadata": {},
     "output_type": "display_data"
    }
   ],
   "source": [
    "generate_format_answer(\"In what year was Fukushima incident?\")"
   ]
  },
  {
   "cell_type": "code",
   "execution_count": 25,
   "id": "a4664649",
   "metadata": {
    "execution": {
     "iopub.execute_input": "2025-03-30T13:41:36.013523Z",
     "iopub.status.busy": "2025-03-30T13:41:36.013175Z",
     "iopub.status.idle": "2025-03-30T13:41:37.358907Z",
     "shell.execute_reply": "2025-03-30T13:41:37.357830Z"
    },
    "papermill": {
     "duration": 1.362712,
     "end_time": "2025-03-30T13:41:37.360533",
     "exception": false,
     "start_time": "2025-03-30T13:41:35.997821",
     "status": "completed"
    },
    "tags": []
   },
   "outputs": [
    {
     "data": {
      "text/markdown": [
       "\n",
       "\n",
       "**<font color='red'>Question:</font>** What emperor succeeded to Traian?\n",
       "\n",
       "\n",
       "**<font color='green'>Answer:</font>** Hadrian\n",
       "\n",
       "\n",
       "\n",
       "**<font color='magenta'>Total time:</font>** 1.34 sec."
      ],
      "text/plain": [
       "<IPython.core.display.Markdown object>"
      ]
     },
     "metadata": {},
     "output_type": "display_data"
    }
   ],
   "source": [
    "generate_format_answer(\"What emperor succeeded to Traian?\")"
   ]
  },
  {
   "cell_type": "code",
   "execution_count": 26,
   "id": "2fd5aa63",
   "metadata": {
    "execution": {
     "iopub.execute_input": "2025-03-30T13:41:37.391111Z",
     "iopub.status.busy": "2025-03-30T13:41:37.390720Z",
     "iopub.status.idle": "2025-03-30T13:41:38.666474Z",
     "shell.execute_reply": "2025-03-30T13:41:38.665217Z"
    },
    "papermill": {
     "duration": 1.293191,
     "end_time": "2025-03-30T13:41:38.668207",
     "exception": false,
     "start_time": "2025-03-30T13:41:37.375016",
     "status": "completed"
    },
    "tags": []
   },
   "outputs": [
    {
     "data": {
      "text/markdown": [
       "\n",
       "\n",
       "**<font color='red'>Question:</font>** What nationality was Marguerite Yourcenar?\n",
       "\n",
       "\n",
       "**<font color='green'>Answer:</font>** French\n",
       "\n",
       "\n",
       "\n",
       "**<font color='magenta'>Total time:</font>** 1.27 sec."
      ],
      "text/plain": [
       "<IPython.core.display.Markdown object>"
      ]
     },
     "metadata": {},
     "output_type": "display_data"
    }
   ],
   "source": [
    "generate_format_answer(\"What nationality was Marguerite Yourcenar?\")"
   ]
  },
  {
   "cell_type": "markdown",
   "id": "9226a901",
   "metadata": {
    "papermill": {
     "duration": 0.013563,
     "end_time": "2025-03-30T13:41:38.696290",
     "exception": false,
     "start_time": "2025-03-30T13:41:38.682727",
     "status": "completed"
    },
    "tags": []
   },
   "source": [
    "The answer is wrong, she was Belgian, from nobility, and lived in US for most of her life. She was member of French Academy, though."
   ]
  },
  {
   "cell_type": "code",
   "execution_count": 27,
   "id": "2ad9ccaf",
   "metadata": {
    "execution": {
     "iopub.execute_input": "2025-03-30T13:41:38.726496Z",
     "iopub.status.busy": "2025-03-30T13:41:38.726086Z",
     "iopub.status.idle": "2025-03-30T13:41:41.274831Z",
     "shell.execute_reply": "2025-03-30T13:41:41.273705Z"
    },
    "papermill": {
     "duration": 2.565962,
     "end_time": "2025-03-30T13:41:41.276511",
     "exception": false,
     "start_time": "2025-03-30T13:41:38.710549",
     "status": "completed"
    },
    "tags": []
   },
   "outputs": [
    {
     "data": {
      "text/markdown": [
       "\n",
       "\n",
       "**<font color='red'>Question:</font>** In which branch of US Army server JD Vance?\n",
       "\n",
       "\n",
       "**<font color='green'>Answer:</font>** 1st Armored Division\n",
       "\n",
       "\n",
       "\n",
       "**<font color='magenta'>Total time:</font>** 2.54 sec."
      ],
      "text/plain": [
       "<IPython.core.display.Markdown object>"
      ]
     },
     "metadata": {},
     "output_type": "display_data"
    }
   ],
   "source": [
    "generate_format_answer(\"In which branch of US Army server JD Vance?\")"
   ]
  },
  {
   "cell_type": "markdown",
   "id": "baa7e0e7",
   "metadata": {
    "papermill": {
     "duration": 0.013756,
     "end_time": "2025-03-30T13:41:41.305039",
     "exception": false,
     "start_time": "2025-03-30T13:41:41.291283",
     "status": "completed"
    },
    "tags": []
   },
   "source": [
    "This is wrong, he served as an enlisted journalist in Marine Corps."
   ]
  },
  {
   "cell_type": "code",
   "execution_count": 28,
   "id": "6db05636",
   "metadata": {
    "execution": {
     "iopub.execute_input": "2025-03-30T13:41:41.334131Z",
     "iopub.status.busy": "2025-03-30T13:41:41.333770Z",
     "iopub.status.idle": "2025-03-30T13:41:43.120782Z",
     "shell.execute_reply": "2025-03-30T13:41:43.119671Z"
    },
    "papermill": {
     "duration": 1.803631,
     "end_time": "2025-03-30T13:41:43.122497",
     "exception": false,
     "start_time": "2025-03-30T13:41:41.318866",
     "status": "completed"
    },
    "tags": []
   },
   "outputs": [
    {
     "data": {
      "text/markdown": [
       "\n",
       "\n",
       "**<font color='red'>Question:</font>** Who composed Fur Elise?\n",
       "\n",
       "\n",
       "**<font color='green'>Answer:</font>** Ludwig van Beethoven\n",
       "\n",
       "\n",
       "\n",
       "**<font color='magenta'>Total time:</font>** 1.78 sec."
      ],
      "text/plain": [
       "<IPython.core.display.Markdown object>"
      ]
     },
     "metadata": {},
     "output_type": "display_data"
    }
   ],
   "source": [
    "generate_format_answer(\"Who composed Fur Elise?\")"
   ]
  },
  {
   "cell_type": "code",
   "execution_count": 29,
   "id": "d5e39110",
   "metadata": {
    "execution": {
     "iopub.execute_input": "2025-03-30T13:41:43.152561Z",
     "iopub.status.busy": "2025-03-30T13:41:43.152156Z",
     "iopub.status.idle": "2025-03-30T13:41:44.945611Z",
     "shell.execute_reply": "2025-03-30T13:41:44.944463Z"
    },
    "papermill": {
     "duration": 1.810226,
     "end_time": "2025-03-30T13:41:44.947279",
     "exception": false,
     "start_time": "2025-03-30T13:41:43.137053",
     "status": "completed"
    },
    "tags": []
   },
   "outputs": [
    {
     "data": {
      "text/markdown": [
       "\n",
       "\n",
       "**<font color='red'>Question:</font>** Name one of the most famous opera by Verdi?\n",
       "\n",
       "\n",
       "**<font color='green'>Answer:</font>** La Traviata\n",
       "\n",
       "\n",
       "\n",
       "**<font color='magenta'>Total time:</font>** 1.79 sec."
      ],
      "text/plain": [
       "<IPython.core.display.Markdown object>"
      ]
     },
     "metadata": {},
     "output_type": "display_data"
    }
   ],
   "source": [
    "generate_format_answer(\"Name one of the most famous opera by Verdi?\")"
   ]
  },
  {
   "cell_type": "code",
   "execution_count": 30,
   "id": "764207d7",
   "metadata": {
    "execution": {
     "iopub.execute_input": "2025-03-30T13:41:44.979071Z",
     "iopub.status.busy": "2025-03-30T13:41:44.978697Z",
     "iopub.status.idle": "2025-03-30T13:41:46.261313Z",
     "shell.execute_reply": "2025-03-30T13:41:46.260253Z"
    },
    "papermill": {
     "duration": 1.301314,
     "end_time": "2025-03-30T13:41:46.263090",
     "exception": false,
     "start_time": "2025-03-30T13:41:44.961776",
     "status": "completed"
    },
    "tags": []
   },
   "outputs": [
    {
     "data": {
      "text/markdown": [
       "\n",
       "\n",
       "**<font color='red'>Question:</font>** Which type of music composed JS Bach?\n",
       "\n",
       "\n",
       "**<font color='green'>Answer:</font>** Classical\n",
       "\n",
       "\n",
       "\n",
       "**<font color='magenta'>Total time:</font>** 1.28 sec."
      ],
      "text/plain": [
       "<IPython.core.display.Markdown object>"
      ]
     },
     "metadata": {},
     "output_type": "display_data"
    }
   ],
   "source": [
    "generate_format_answer(\"Which type of music composed JS Bach?\")"
   ]
  },
  {
   "cell_type": "markdown",
   "id": "1db90a92",
   "metadata": {
    "papermill": {
     "duration": 0.013938,
     "end_time": "2025-03-30T13:41:46.291665",
     "exception": false,
     "start_time": "2025-03-30T13:41:46.277727",
     "status": "completed"
    },
    "tags": []
   },
   "source": [
    "This is wrong, he was mostly composing Baroque (pre-classical) music."
   ]
  },
  {
   "cell_type": "code",
   "execution_count": 31,
   "id": "063713bf",
   "metadata": {
    "execution": {
     "iopub.execute_input": "2025-03-30T13:41:46.322145Z",
     "iopub.status.busy": "2025-03-30T13:41:46.321784Z",
     "iopub.status.idle": "2025-03-30T13:41:47.658551Z",
     "shell.execute_reply": "2025-03-30T13:41:47.657626Z"
    },
    "papermill": {
     "duration": 1.35382,
     "end_time": "2025-03-30T13:41:47.660131",
     "exception": false,
     "start_time": "2025-03-30T13:41:46.306311",
     "status": "completed"
    },
    "tags": []
   },
   "outputs": [
    {
     "data": {
      "text/markdown": [
       "\n",
       "\n",
       "**<font color='red'>Question:</font>** Who composed Goldberg Variations?\n",
       "\n",
       "\n",
       "**<font color='green'>Answer:</font>** Bach\n",
       "\n",
       "\n",
       "\n",
       "**<font color='magenta'>Total time:</font>** 1.33 sec."
      ],
      "text/plain": [
       "<IPython.core.display.Markdown object>"
      ]
     },
     "metadata": {},
     "output_type": "display_data"
    }
   ],
   "source": [
    "generate_format_answer(\"Who composed Goldberg Variations?\")"
   ]
  },
  {
   "cell_type": "code",
   "execution_count": 32,
   "id": "f925fada",
   "metadata": {
    "execution": {
     "iopub.execute_input": "2025-03-30T13:41:47.691535Z",
     "iopub.status.busy": "2025-03-30T13:41:47.691162Z",
     "iopub.status.idle": "2025-03-30T13:41:48.969014Z",
     "shell.execute_reply": "2025-03-30T13:41:48.967713Z"
    },
    "papermill": {
     "duration": 1.295738,
     "end_time": "2025-03-30T13:41:48.970789",
     "exception": false,
     "start_time": "2025-03-30T13:41:47.675051",
     "status": "completed"
    },
    "tags": []
   },
   "outputs": [
    {
     "data": {
      "text/markdown": [
       "\n",
       "\n",
       "**<font color='red'>Question:</font>** Who composed the most famous Requiem?\n",
       "\n",
       "\n",
       "**<font color='green'>Answer:</font>** Mozart\n",
       "\n",
       "\n",
       "\n",
       "**<font color='magenta'>Total time:</font>** 1.27 sec."
      ],
      "text/plain": [
       "<IPython.core.display.Markdown object>"
      ]
     },
     "metadata": {},
     "output_type": "display_data"
    }
   ],
   "source": [
    "generate_format_answer(\"Who composed the most famous Requiem?\")"
   ]
  },
  {
   "cell_type": "code",
   "execution_count": 33,
   "id": "0e15c16b",
   "metadata": {
    "execution": {
     "iopub.execute_input": "2025-03-30T13:41:49.003534Z",
     "iopub.status.busy": "2025-03-30T13:41:49.003173Z",
     "iopub.status.idle": "2025-03-30T13:41:51.050489Z",
     "shell.execute_reply": "2025-03-30T13:41:51.049467Z"
    },
    "papermill": {
     "duration": 2.066152,
     "end_time": "2025-03-30T13:41:51.052308",
     "exception": false,
     "start_time": "2025-03-30T13:41:48.986156",
     "status": "completed"
    },
    "tags": []
   },
   "outputs": [
    {
     "data": {
      "text/markdown": [
       "\n",
       "\n",
       "**<font color='red'>Question:</font>** Name an opera by Enesco.\n",
       "\n",
       "\n",
       "**<font color='green'>Answer:</font>** The Magic Flute\n",
       "\n",
       "\n",
       "\n",
       "**<font color='magenta'>Total time:</font>** 2.04 sec."
      ],
      "text/plain": [
       "<IPython.core.display.Markdown object>"
      ]
     },
     "metadata": {},
     "output_type": "display_data"
    }
   ],
   "source": [
    "generate_format_answer(\"Name an opera by Enesco.\")"
   ]
  },
  {
   "cell_type": "markdown",
   "id": "1a16c5eb",
   "metadata": {
    "papermill": {
     "duration": 0.014337,
     "end_time": "2025-03-30T13:41:51.082100",
     "exception": false,
     "start_time": "2025-03-30T13:41:51.067763",
     "status": "completed"
    },
    "tags": []
   },
   "source": [
    "This is wrong. This opera belongs to Mozart."
   ]
  },
  {
   "cell_type": "code",
   "execution_count": 34,
   "id": "13a7063e",
   "metadata": {
    "execution": {
     "iopub.execute_input": "2025-03-30T13:41:51.112486Z",
     "iopub.status.busy": "2025-03-30T13:41:51.112086Z",
     "iopub.status.idle": "2025-03-30T13:41:53.415258Z",
     "shell.execute_reply": "2025-03-30T13:41:53.414281Z"
    },
    "papermill": {
     "duration": 2.320411,
     "end_time": "2025-03-30T13:41:53.416962",
     "exception": false,
     "start_time": "2025-03-30T13:41:51.096551",
     "status": "completed"
    },
    "tags": []
   },
   "outputs": [
    {
     "data": {
      "text/markdown": [
       "\n",
       "\n",
       "**<font color='red'>Question:</font>** Who is the author of 'The Russian Ballets'?\n",
       "\n",
       "\n",
       "**<font color='green'>Answer:</font>** Sergei Diaghilev\n",
       "\n",
       "\n",
       "\n",
       "**<font color='magenta'>Total time:</font>** 2.3 sec."
      ],
      "text/plain": [
       "<IPython.core.display.Markdown object>"
      ]
     },
     "metadata": {},
     "output_type": "display_data"
    }
   ],
   "source": [
    "generate_format_answer(\"Who is the author of 'The Russian Ballets'?\")"
   ]
  },
  {
   "cell_type": "code",
   "execution_count": 35,
   "id": "1985d45d",
   "metadata": {
    "execution": {
     "iopub.execute_input": "2025-03-30T13:41:53.448097Z",
     "iopub.status.busy": "2025-03-30T13:41:53.447694Z",
     "iopub.status.idle": "2025-03-30T13:41:55.992267Z",
     "shell.execute_reply": "2025-03-30T13:41:55.991091Z"
    },
    "papermill": {
     "duration": 2.562229,
     "end_time": "2025-03-30T13:41:55.994098",
     "exception": false,
     "start_time": "2025-03-30T13:41:53.431869",
     "status": "completed"
    },
    "tags": []
   },
   "outputs": [
    {
     "data": {
      "text/markdown": [
       "\n",
       "\n",
       "**<font color='red'>Question:</font>** To what school belongs Le Corbusier?\n",
       "\n",
       "\n",
       "**<font color='green'>Answer:</font>** The School of Architecture in Paris\n",
       "\n",
       "\n",
       "\n",
       "**<font color='magenta'>Total time:</font>** 2.54 sec."
      ],
      "text/plain": [
       "<IPython.core.display.Markdown object>"
      ]
     },
     "metadata": {},
     "output_type": "display_data"
    }
   ],
   "source": [
    "generate_format_answer(\"To what school belongs Le Corbusier?\")"
   ]
  },
  {
   "cell_type": "markdown",
   "id": "b05ed14a",
   "metadata": {
    "papermill": {
     "duration": 0.017841,
     "end_time": "2025-03-30T13:41:56.027618",
     "exception": false,
     "start_time": "2025-03-30T13:41:56.009777",
     "status": "completed"
    },
    "tags": []
   },
   "source": [
    "A more correct answer will be \"The international school of architecture\"."
   ]
  },
  {
   "cell_type": "code",
   "execution_count": 36,
   "id": "3634b296",
   "metadata": {
    "execution": {
     "iopub.execute_input": "2025-03-30T13:41:56.058992Z",
     "iopub.status.busy": "2025-03-30T13:41:56.058554Z",
     "iopub.status.idle": "2025-03-30T13:41:58.404928Z",
     "shell.execute_reply": "2025-03-30T13:41:58.403721Z"
    },
    "papermill": {
     "duration": 2.364199,
     "end_time": "2025-03-30T13:41:58.406876",
     "exception": false,
     "start_time": "2025-03-30T13:41:56.042677",
     "status": "completed"
    },
    "tags": []
   },
   "outputs": [
    {
     "data": {
      "text/markdown": [
       "\n",
       "\n",
       "**<font color='red'>Question:</font>** Name a work by Gaudi.\n",
       "\n",
       "\n",
       "**<font color='green'>Answer:</font>** The Sagrada Familia.\n",
       "\n",
       "\n",
       "\n",
       "**<font color='magenta'>Total time:</font>** 2.34 sec."
      ],
      "text/plain": [
       "<IPython.core.display.Markdown object>"
      ]
     },
     "metadata": {},
     "output_type": "display_data"
    }
   ],
   "source": [
    "generate_format_answer(\"Name a work by Gaudi.\")"
   ]
  },
  {
   "cell_type": "markdown",
   "id": "642654e3",
   "metadata": {
    "papermill": {
     "duration": 0.015612,
     "end_time": "2025-03-30T13:41:58.438431",
     "exception": false,
     "start_time": "2025-03-30T13:41:58.422819",
     "status": "completed"
    },
    "tags": []
   },
   "source": [
    "The model is able to answer decently to a variety of subjects. It is not very good with more in-depth questions. Here we will give few examples."
   ]
  },
  {
   "cell_type": "code",
   "execution_count": 37,
   "id": "deefcfd5",
   "metadata": {
    "execution": {
     "iopub.execute_input": "2025-03-30T13:41:58.470346Z",
     "iopub.status.busy": "2025-03-30T13:41:58.469955Z",
     "iopub.status.idle": "2025-03-30T13:42:21.384707Z",
     "shell.execute_reply": "2025-03-30T13:42:21.383731Z"
    },
    "papermill": {
     "duration": 22.932577,
     "end_time": "2025-03-30T13:42:21.386200",
     "exception": false,
     "start_time": "2025-03-30T13:41:58.453623",
     "status": "completed"
    },
    "tags": []
   },
   "outputs": [
    {
     "data": {
      "text/markdown": [
       "\n",
       "\n",
       "**<font color='red'>Question:</font>** What is ostracism?\n",
       "\n",
       "\n",
       "**<font color='green'>Answer:</font>** When someone is excluded from a group or community.\n",
       "\n",
       "\n",
       "\n",
       "**<font color='magenta'>Total time:</font>** 22.91 sec."
      ],
      "text/plain": [
       "<IPython.core.display.Markdown object>"
      ]
     },
     "metadata": {},
     "output_type": "display_data"
    }
   ],
   "source": [
    "generate_format_answer(\"What is ostracism?\", max_length=100)"
   ]
  },
  {
   "cell_type": "markdown",
   "id": "2549bafb",
   "metadata": {
    "papermill": {
     "duration": 0.014958,
     "end_time": "2025-03-30T13:42:21.416733",
     "exception": false,
     "start_time": "2025-03-30T13:42:21.401775",
     "status": "completed"
    },
    "tags": []
   },
   "source": [
    "The correct answer will refer first to the Ancient Greece mechanism to protect the City-state against tyrany."
   ]
  },
  {
   "cell_type": "code",
   "execution_count": 38,
   "id": "32f9f1c6",
   "metadata": {
    "execution": {
     "iopub.execute_input": "2025-03-30T13:42:21.448984Z",
     "iopub.status.busy": "2025-03-30T13:42:21.448561Z",
     "iopub.status.idle": "2025-03-30T13:42:25.013651Z",
     "shell.execute_reply": "2025-03-30T13:42:25.012440Z"
    },
    "papermill": {
     "duration": 3.583205,
     "end_time": "2025-03-30T13:42:25.015443",
     "exception": false,
     "start_time": "2025-03-30T13:42:21.432238",
     "status": "completed"
    },
    "tags": []
   },
   "outputs": [
    {
     "data": {
      "text/markdown": [
       "\n",
       "\n",
       "**<font color='red'>Question:</font>** What was Pnyx?\n",
       "\n",
       "\n",
       "**<font color='green'>Answer:</font>** A place where the gods lived.\n",
       "\n",
       "\n",
       "\n",
       "**<font color='magenta'>Total time:</font>** 3.56 sec."
      ],
      "text/plain": [
       "<IPython.core.display.Markdown object>"
      ]
     },
     "metadata": {},
     "output_type": "display_data"
    }
   ],
   "source": [
    "generate_format_answer(\"What was Pnyx?\", max_length=100)"
   ]
  },
  {
   "cell_type": "markdown",
   "id": "1e055065",
   "metadata": {
    "papermill": {
     "duration": 0.015418,
     "end_time": "2025-03-30T13:42:25.046825",
     "exception": false,
     "start_time": "2025-03-30T13:42:25.031407",
     "status": "completed"
    },
    "tags": []
   },
   "source": [
    "The correct answer would mention the assembly place in Ancient Athens."
   ]
  },
  {
   "cell_type": "code",
   "execution_count": 39,
   "id": "7b4ef10f",
   "metadata": {
    "execution": {
     "iopub.execute_input": "2025-03-30T13:42:25.080713Z",
     "iopub.status.busy": "2025-03-30T13:42:25.080286Z",
     "iopub.status.idle": "2025-03-30T13:42:29.164503Z",
     "shell.execute_reply": "2025-03-30T13:42:29.163417Z"
    },
    "papermill": {
     "duration": 4.10262,
     "end_time": "2025-03-30T13:42:29.166469",
     "exception": false,
     "start_time": "2025-03-30T13:42:25.063849",
     "status": "completed"
    },
    "tags": []
   },
   "outputs": [
    {
     "data": {
      "text/markdown": [
       "\n",
       "\n",
       "**<font color='red'>Question:</font>** What was Graphe Paranomon?\n",
       "\n",
       "\n",
       "**<font color='green'>Answer:</font>** A person who is a genius at writing.\n",
       "\n",
       "\n",
       "\n",
       "**<font color='magenta'>Total time:</font>** 4.08 sec."
      ],
      "text/plain": [
       "<IPython.core.display.Markdown object>"
      ]
     },
     "metadata": {},
     "output_type": "display_data"
    }
   ],
   "source": [
    "generate_format_answer(\"What was Graphe Paranomon?\", max_length=100)"
   ]
  },
  {
   "cell_type": "markdown",
   "id": "171bc6bb",
   "metadata": {
    "papermill": {
     "duration": 0.015195,
     "end_time": "2025-03-30T13:42:29.197757",
     "exception": false,
     "start_time": "2025-03-30T13:42:29.182562",
     "status": "completed"
    },
    "tags": []
   },
   "source": [
    "The correct answer will refer to a mechanism of judicial review of unlawful laws in Ancient Athens constitution in IV-th century B.C."
   ]
  },
  {
   "cell_type": "markdown",
   "id": "384945fb",
   "metadata": {
    "papermill": {
     "duration": 0.015174,
     "end_time": "2025-03-30T13:42:29.228783",
     "exception": false,
     "start_time": "2025-03-30T13:42:29.213609",
     "status": "completed"
    },
    "tags": []
   },
   "source": [
    "## Let's explore more about technology\n",
    "\n"
   ]
  },
  {
   "cell_type": "code",
   "execution_count": 40,
   "id": "81b2687a",
   "metadata": {
    "execution": {
     "iopub.execute_input": "2025-03-30T13:42:29.261335Z",
     "iopub.status.busy": "2025-03-30T13:42:29.260887Z",
     "iopub.status.idle": "2025-03-30T13:42:54.682178Z",
     "shell.execute_reply": "2025-03-30T13:42:54.681137Z"
    },
    "papermill": {
     "duration": 25.439497,
     "end_time": "2025-03-30T13:42:54.684206",
     "exception": false,
     "start_time": "2025-03-30T13:42:29.244709",
     "status": "completed"
    },
    "tags": []
   },
   "outputs": [
    {
     "data": {
      "text/markdown": [
       "\n",
       "\n",
       "**<font color='red'>Question:</font>** What is XGBoost?\n",
       "\n",
       "\n",
       "**<font color='green'>Answer:</font>** XGBoost is a machine learning algorithm that is used to solve classification problems. It is a gradient boosting algorithm that is used to\n",
       "\n",
       "\n",
       "\n",
       "**<font color='magenta'>Total time:</font>** 25.42 sec."
      ],
      "text/plain": [
       "<IPython.core.display.Markdown object>"
      ]
     },
     "metadata": {},
     "output_type": "display_data"
    }
   ],
   "source": [
    "generate_format_answer(\"What is XGBoost?\", \n",
    "                       max_length=50)"
   ]
  },
  {
   "cell_type": "code",
   "execution_count": 41,
   "id": "dc37a05d",
   "metadata": {
    "execution": {
     "iopub.execute_input": "2025-03-30T13:42:54.717955Z",
     "iopub.status.busy": "2025-03-30T13:42:54.717526Z",
     "iopub.status.idle": "2025-03-30T13:42:59.390325Z",
     "shell.execute_reply": "2025-03-30T13:42:59.389220Z"
    },
    "papermill": {
     "duration": 4.691553,
     "end_time": "2025-03-30T13:42:59.392040",
     "exception": false,
     "start_time": "2025-03-30T13:42:54.700487",
     "status": "completed"
    },
    "tags": []
   },
   "outputs": [
    {
     "data": {
      "text/markdown": [
       "\n",
       "\n",
       "**<font color='red'>Question:</font>** What is AlphaFold?\n",
       "\n",
       "\n",
       "**<font color='green'>Answer:</font>** AlphaFold is a computer program that predicts the structure of proteins. It is\n",
       "\n",
       "\n",
       "\n",
       "**<font color='magenta'>Total time:</font>** 4.67 sec."
      ],
      "text/plain": [
       "<IPython.core.display.Markdown object>"
      ]
     },
     "metadata": {},
     "output_type": "display_data"
    }
   ],
   "source": [
    "generate_format_answer(\"What is AlphaFold?\")"
   ]
  },
  {
   "cell_type": "code",
   "execution_count": 42,
   "id": "10319286",
   "metadata": {
    "execution": {
     "iopub.execute_input": "2025-03-30T13:42:59.424737Z",
     "iopub.status.busy": "2025-03-30T13:42:59.424297Z",
     "iopub.status.idle": "2025-03-30T13:43:04.313088Z",
     "shell.execute_reply": "2025-03-30T13:43:04.311821Z"
    },
    "papermill": {
     "duration": 4.906875,
     "end_time": "2025-03-30T13:43:04.314812",
     "exception": false,
     "start_time": "2025-03-30T13:42:59.407937",
     "status": "completed"
    },
    "tags": []
   },
   "outputs": [
    {
     "data": {
      "text/markdown": [
       "\n",
       "\n",
       "**<font color='red'>Question:</font>** What is RandomForest?\n",
       "\n",
       "\n",
       "**<font color='green'>Answer:</font>** A machine learning algorithm that uses a combination of decision trees to make predictions.\n",
       "\n",
       "\n",
       "\n",
       "**<font color='magenta'>Total time:</font>** 4.88 sec."
      ],
      "text/plain": [
       "<IPython.core.display.Markdown object>"
      ]
     },
     "metadata": {},
     "output_type": "display_data"
    }
   ],
   "source": [
    "generate_format_answer(\"What is RandomForest?\")"
   ]
  },
  {
   "cell_type": "markdown",
   "id": "8d071e5c",
   "metadata": {
    "papermill": {
     "duration": 0.015625,
     "end_time": "2025-03-30T13:43:04.346633",
     "exception": false,
     "start_time": "2025-03-30T13:43:04.331008",
     "status": "completed"
    },
    "tags": []
   },
   "source": [
    "## Let's do math"
   ]
  },
  {
   "cell_type": "code",
   "execution_count": 43,
   "id": "33277818",
   "metadata": {
    "execution": {
     "iopub.execute_input": "2025-03-30T13:43:04.380314Z",
     "iopub.status.busy": "2025-03-30T13:43:04.379932Z",
     "iopub.status.idle": "2025-03-30T13:43:07.727036Z",
     "shell.execute_reply": "2025-03-30T13:43:07.725884Z"
    },
    "papermill": {
     "duration": 3.366546,
     "end_time": "2025-03-30T13:43:07.729092",
     "exception": false,
     "start_time": "2025-03-30T13:43:04.362546",
     "status": "completed"
    },
    "tags": []
   },
   "outputs": [
    {
     "data": {
      "text/markdown": [
       "\n",
       "\n",
       "**<font color='red'>Question:</font>** What is 123 + 11?\n",
       "\n",
       "\n",
       "**<font color='green'>Answer:</font>** 134\n",
       "\n",
       "You are an AI\n",
       "\n",
       "\n",
       "\n",
       "**<font color='magenta'>Total time:</font>** 3.34 sec."
      ],
      "text/plain": [
       "<IPython.core.display.Markdown object>"
      ]
     },
     "metadata": {},
     "output_type": "display_data"
    }
   ],
   "source": [
    "generate_format_answer(\"What is 123 + 11?\")"
   ]
  },
  {
   "cell_type": "code",
   "execution_count": 44,
   "id": "f99d8b3f",
   "metadata": {
    "execution": {
     "iopub.execute_input": "2025-03-30T13:43:07.769919Z",
     "iopub.status.busy": "2025-03-30T13:43:07.769469Z",
     "iopub.status.idle": "2025-03-30T13:43:09.975728Z",
     "shell.execute_reply": "2025-03-30T13:43:09.974603Z"
    },
    "papermill": {
     "duration": 2.225168,
     "end_time": "2025-03-30T13:43:09.977400",
     "exception": false,
     "start_time": "2025-03-30T13:43:07.752232",
     "status": "completed"
    },
    "tags": []
   },
   "outputs": [
    {
     "data": {
      "text/markdown": [
       "\n",
       "\n",
       "**<font color='red'>Question:</font>** What is 25 x 25?\n",
       "\n",
       "\n",
       "**<font color='green'>Answer:</font>** 625\n",
       "\n",
       "\n",
       "\n",
       "**<font color='magenta'>Total time:</font>** 2.2 sec."
      ],
      "text/plain": [
       "<IPython.core.display.Markdown object>"
      ]
     },
     "metadata": {},
     "output_type": "display_data"
    }
   ],
   "source": [
    "generate_format_answer(\"What is 25 x 25?\")"
   ]
  },
  {
   "cell_type": "markdown",
   "id": "dd9ec2c4",
   "metadata": {
    "papermill": {
     "duration": 0.015611,
     "end_time": "2025-03-30T13:43:10.009213",
     "exception": false,
     "start_time": "2025-03-30T13:43:09.993602",
     "status": "completed"
    },
    "tags": []
   },
   "source": [
    "## More math and Python code"
   ]
  },
  {
   "cell_type": "code",
   "execution_count": 45,
   "id": "31cd98e1",
   "metadata": {
    "execution": {
     "iopub.execute_input": "2025-03-30T13:43:10.042845Z",
     "iopub.status.busy": "2025-03-30T13:43:10.042430Z",
     "iopub.status.idle": "2025-03-30T13:43:10.046796Z",
     "shell.execute_reply": "2025-03-30T13:43:10.045751Z"
    },
    "papermill": {
     "duration": 0.023248,
     "end_time": "2025-03-30T13:43:10.048423",
     "exception": false,
     "start_time": "2025-03-30T13:43:10.025175",
     "status": "completed"
    },
    "tags": []
   },
   "outputs": [],
   "source": [
    "prompt = \"\"\"\n",
    "You are an AI assistant designed to write simple Python code.\n",
    "Please answer with the listing of the Python code.\n",
    "Make sure to format the output using correct Markdown for code.\n",
    "Question: {question}\n",
    "Answer:\n",
    "\"\"\""
   ]
  },
  {
   "cell_type": "code",
   "execution_count": 46,
   "id": "d028bb67",
   "metadata": {
    "execution": {
     "iopub.execute_input": "2025-03-30T13:43:10.082407Z",
     "iopub.status.busy": "2025-03-30T13:43:10.082053Z",
     "iopub.status.idle": "2025-03-30T13:43:37.651249Z",
     "shell.execute_reply": "2025-03-30T13:43:37.650099Z"
    },
    "papermill": {
     "duration": 27.588651,
     "end_time": "2025-03-30T13:43:37.653270",
     "exception": false,
     "start_time": "2025-03-30T13:43:10.064619",
     "status": "completed"
    },
    "tags": []
   },
   "outputs": [
    {
     "data": {
      "text/markdown": [
       "\n",
       "You are an AI assistant designed to write simple Python code.\n",
       "Please answer with the listing of the Python code.\n",
       "Make sure to format the output using correct Markdown for code.\n",
       "\n",
       "\n",
       "**<font color='red'>Question:</font>** Please write a function in Python to calculate the area of a circle of radius r\n",
       "\n",
       "\n",
       "**<font color='green'>Answer:</font>**\n",
       "def area(r):\n",
       "return 3.14 * r * r\n",
       "print(area(10))\n",
       "\n",
       "\n",
       "\n",
       "\n",
       "**<font color='magenta'>Total time:</font>** 27.56 sec."
      ],
      "text/plain": [
       "<IPython.core.display.Markdown object>"
      ]
     },
     "metadata": {},
     "output_type": "display_data"
    }
   ],
   "source": [
    "t = time()\n",
    "response = gemma_lm.generate(prompt.format(question=\"Please write a function in Python to calculate the area of a circle of radius r\"), max_length=128)\n",
    "display(Markdown(colorize_text(f\"{response}\\n\\nTotal time: {round(time()-t, 2)} sec.\")))"
   ]
  },
  {
   "cell_type": "code",
   "execution_count": 47,
   "id": "fc6f4bd4",
   "metadata": {
    "execution": {
     "iopub.execute_input": "2025-03-30T13:43:37.688136Z",
     "iopub.status.busy": "2025-03-30T13:43:37.687728Z",
     "iopub.status.idle": "2025-03-30T13:44:17.060130Z",
     "shell.execute_reply": "2025-03-30T13:44:17.059200Z"
    },
    "papermill": {
     "duration": 39.408742,
     "end_time": "2025-03-30T13:44:17.078981",
     "exception": false,
     "start_time": "2025-03-30T13:43:37.670239",
     "status": "completed"
    },
    "tags": []
   },
   "outputs": [
    {
     "data": {
      "text/markdown": [
       "\n",
       "You are an AI assistant designed to write simple Python code.\n",
       "Please answer with the listing of the Python code.\n",
       "Make sure to format the output using correct Markdown for code.\n",
       "\n",
       "\n",
       "**<font color='red'>Question:</font>** Please write a function to order a list in Python\n",
       "\n",
       "\n",
       "**<font color='green'>Answer:</font>**\n",
       "def order_list(list):\n",
       "for i in range(len(list)):\n",
       "for j in range(i+1, len(list)):\n",
       "if list[i] > list[j]:\n",
       "list[i], list[j] = list[j], list[i]\n",
       "return list\n",
       "\n",
       "\n",
       "\n",
       "\n",
       "**<font color='magenta'>Total time:</font>** 39.37 sec."
      ],
      "text/plain": [
       "<IPython.core.display.Markdown object>"
      ]
     },
     "metadata": {},
     "output_type": "display_data"
    }
   ],
   "source": [
    "t = time()\n",
    "response = gemma_lm.generate(prompt.format(question=\"Please write a function to order a list in Python\"), max_length=256)\n",
    "display(Markdown(colorize_text(f\"{response}\\n\\nTotal time: {round(time()-t, 2)} sec.\")))"
   ]
  },
  {
   "cell_type": "markdown",
   "id": "72dd3b5b",
   "metadata": {
    "papermill": {
     "duration": 0.015903,
     "end_time": "2025-03-30T13:44:17.111280",
     "exception": false,
     "start_time": "2025-03-30T13:44:17.095377",
     "status": "completed"
    },
    "tags": []
   },
   "source": [
    "# Conclusions\n",
    "\n",
    "\n",
    "The Gemma 3 model (1B) from Google DeepMind is powerful for its size and can answer to a lot of questions about history, politics, culture, art as well as simple math. It is not great with writing code and formating the output when asked to write code.\n",
    "The model will perform best with questions related to common knowledge."
   ]
  }
 ],
 "metadata": {
  "kaggle": {
   "accelerator": "none",
   "dataSources": [
    {
     "modelId": 279036,
     "modelInstanceId": 257756,
     "sourceId": 301815,
     "sourceType": "modelInstanceVersion"
    }
   ],
   "dockerImageVersionId": 30918,
   "isGpuEnabled": false,
   "isInternetEnabled": true,
   "language": "python",
   "sourceType": "notebook"
  },
  "kernelspec": {
   "display_name": "Python 3",
   "language": "python",
   "name": "python3"
  },
  "language_info": {
   "codemirror_mode": {
    "name": "ipython",
    "version": 3
   },
   "file_extension": ".py",
   "mimetype": "text/x-python",
   "name": "python",
   "nbconvert_exporter": "python",
   "pygments_lexer": "ipython3",
   "version": "3.10.12"
  },
  "papermill": {
   "default_parameters": {},
   "duration": 291.939366,
   "end_time": "2025-03-30T13:44:21.176413",
   "environment_variables": {},
   "exception": null,
   "input_path": "__notebook__.ipynb",
   "output_path": "__notebook__.ipynb",
   "parameters": {},
   "start_time": "2025-03-30T13:39:29.237047",
   "version": "2.6.0"
  }
 },
 "nbformat": 4,
 "nbformat_minor": 5
}
