{
 "cells": [
  {
   "cell_type": "markdown",
   "id": "c2436123",
   "metadata": {
    "_cell_guid": "b1076dfc-b9ad-4769-8c92-a6c4dae69d19",
    "_uuid": "8f2839f25d086af736a60e9eeb907d3b93b6e0e5",
    "papermill": {
     "duration": 0.011919,
     "end_time": "2025-03-31T15:35:01.977205",
     "exception": false,
     "start_time": "2025-03-31T15:35:01.965286",
     "status": "completed"
    },
    "tags": []
   },
   "source": [
    "\n",
    "<center><img src=\"https://www.geeky-gadgets.com/wp-content/uploads/2025/03/google-gemma-3-advanced-ai-models.webp\"></img></center>\n",
    "\n",
    "# Introduction\n",
    "This Notebook will explore how to prompt Gemma 3, using KerasNLP. \n",
    "At this point, Keras version of Gemma 3 is quite new, and the code to run it is not yet documented.\n",
    "\n",
    "\n",
    "## What is Gemma?\n",
    "Gemma is a family of lightweight, state-of-the art open models built from the same research and technology used to create the Gemini models. At the 3rd generation now, Gemma 3 comes in 4 sizes, **1B**, **4B**, **12B** and **27B**, both pretrained and instruction finetuned versions.   \n",
    "\n",
    "Models **4B**, **12B**, **27B** brings an extended context window (up to **128K**) as well as **multi-modality** (text and image). \n",
    "\n",
    "The **1B** model, although incredibly compact, is not only very fast but is also quite powerful.\n",
    "\n",
    "Will use the **1B** model, on CPU only, without any accelerator.\n",
    "\n",
    "\n",
    "# Prerequisites\n",
    "\n",
    "## Install packages\n",
    "\n",
    "We will install Keras and KerasNLP."
   ]
  },
  {
   "cell_type": "code",
   "execution_count": 1,
   "id": "3f859b26",
   "metadata": {
    "execution": {
     "iopub.execute_input": "2025-03-31T15:35:02.001060Z",
     "iopub.status.busy": "2025-03-31T15:35:02.000680Z",
     "iopub.status.idle": "2025-03-31T15:35:15.291945Z",
     "shell.execute_reply": "2025-03-31T15:35:15.290653Z"
    },
    "papermill": {
     "duration": 13.30544,
     "end_time": "2025-03-31T15:35:15.294030",
     "exception": false,
     "start_time": "2025-03-31T15:35:01.988590",
     "status": "completed"
    },
    "tags": []
   },
   "outputs": [
    {
     "name": "stdout",
     "output_type": "stream",
     "text": [
      "\u001b[2K   \u001b[90m━━━━━━━━━━━━━━━━━━━━━━━━━━━━━━━━━━━━━━━━\u001b[0m \u001b[32m731.3/731.3 kB\u001b[0m \u001b[31m19.8 MB/s\u001b[0m eta \u001b[36m0:00:00\u001b[0m\r\n",
      "\u001b[2K   \u001b[90m━━━━━━━━━━━━━━━━━━━━━━━━━━━━━━━━━━━━━━━━\u001b[0m \u001b[32m1.3/1.3 MB\u001b[0m \u001b[31m30.1 MB/s\u001b[0m eta \u001b[36m0:00:00\u001b[0m\r\n",
      "\u001b[?25h\u001b[31mERROR: pip's dependency resolver does not currently take into account all the packages that are installed. This behaviour is the source of the following dependency conflicts.\r\n",
      "tensorflow-decision-forests 1.10.0 requires tensorflow==2.17.0, but you have tensorflow 2.17.1 which is incompatible.\u001b[0m\u001b[31m\r\n",
      "\u001b[0m"
     ]
    }
   ],
   "source": [
    "!pip install -q -U keras-nlp\n",
    "!pip install -q -U keras"
   ]
  },
  {
   "cell_type": "markdown",
   "id": "2a2c9a57",
   "metadata": {
    "papermill": {
     "duration": 0.011387,
     "end_time": "2025-03-31T15:35:15.317357",
     "exception": false,
     "start_time": "2025-03-31T15:35:15.305970",
     "status": "completed"
    },
    "tags": []
   },
   "source": [
    "## Import packages"
   ]
  },
  {
   "cell_type": "code",
   "execution_count": 2,
   "id": "d48e97bd",
   "metadata": {
    "execution": {
     "iopub.execute_input": "2025-03-31T15:35:15.342259Z",
     "iopub.status.busy": "2025-03-31T15:35:15.341912Z",
     "iopub.status.idle": "2025-03-31T15:35:31.405228Z",
     "shell.execute_reply": "2025-03-31T15:35:31.404288Z"
    },
    "papermill": {
     "duration": 16.078098,
     "end_time": "2025-03-31T15:35:31.407228",
     "exception": false,
     "start_time": "2025-03-31T15:35:15.329130",
     "status": "completed"
    },
    "tags": []
   },
   "outputs": [],
   "source": [
    "import keras\n",
    "import keras_nlp\n",
    "from keras_nlp.samplers import TopKSampler\n",
    "from time import time"
   ]
  },
  {
   "cell_type": "markdown",
   "id": "cd8ab8b3",
   "metadata": {
    "papermill": {
     "duration": 0.01167,
     "end_time": "2025-03-31T15:35:31.431161",
     "exception": false,
     "start_time": "2025-03-31T15:35:31.419491",
     "status": "completed"
    },
    "tags": []
   },
   "source": [
    "Select the backend. Keras is a high-level, multi-framework deep learning API designed for simplicity and ease of use. Keras 3 lets you choose the backend: TensorFlow, JAX, or PyTorch. For this Notebook, we will choose jax as backend."
   ]
  },
  {
   "cell_type": "code",
   "execution_count": 3,
   "id": "e60e0158",
   "metadata": {
    "execution": {
     "iopub.execute_input": "2025-03-31T15:35:31.455747Z",
     "iopub.status.busy": "2025-03-31T15:35:31.455104Z",
     "iopub.status.idle": "2025-03-31T15:35:31.459638Z",
     "shell.execute_reply": "2025-03-31T15:35:31.458552Z"
    },
    "papermill": {
     "duration": 0.018598,
     "end_time": "2025-03-31T15:35:31.461227",
     "exception": false,
     "start_time": "2025-03-31T15:35:31.442629",
     "status": "completed"
    },
    "tags": []
   },
   "outputs": [],
   "source": [
    "import os\n",
    "os.environ[\"KERAS_BACKEND\"] = \"jax\"\n",
    "os.environ[\"XLA_PYTHON_CLIENT_MEM_FRACTION\"] = \"0.9\""
   ]
  },
  {
   "cell_type": "markdown",
   "id": "4337f622",
   "metadata": {
    "papermill": {
     "duration": 0.011214,
     "end_time": "2025-03-31T15:35:31.485244",
     "exception": false,
     "start_time": "2025-03-31T15:35:31.474030",
     "status": "completed"
    },
    "tags": []
   },
   "source": [
    "## Initialize the model\n",
    "\n",
    "Make sure to use `Gemma3CausalLM` to initialize the model, not the `GemmaCausalLM`. Otherwise the Gemma3 backbone will not be recognized."
   ]
  },
  {
   "cell_type": "code",
   "execution_count": 4,
   "id": "0d2177e5",
   "metadata": {
    "execution": {
     "iopub.execute_input": "2025-03-31T15:35:31.509314Z",
     "iopub.status.busy": "2025-03-31T15:35:31.508951Z",
     "iopub.status.idle": "2025-03-31T15:36:00.365403Z",
     "shell.execute_reply": "2025-03-31T15:36:00.364521Z"
    },
    "papermill": {
     "duration": 28.870527,
     "end_time": "2025-03-31T15:36:00.367240",
     "exception": false,
     "start_time": "2025-03-31T15:35:31.496713",
     "status": "completed"
    },
    "tags": []
   },
   "outputs": [],
   "source": [
    "gemma_lm = keras_nlp.models.Gemma3CausalLM.from_preset(\"/kaggle/input/gemma3/keras/gemma3_1b/1\")"
   ]
  },
  {
   "cell_type": "code",
   "execution_count": 5,
   "id": "9272c9b5",
   "metadata": {
    "execution": {
     "iopub.execute_input": "2025-03-31T15:36:00.391898Z",
     "iopub.status.busy": "2025-03-31T15:36:00.391560Z",
     "iopub.status.idle": "2025-03-31T15:36:00.589642Z",
     "shell.execute_reply": "2025-03-31T15:36:00.588679Z"
    },
    "papermill": {
     "duration": 0.212556,
     "end_time": "2025-03-31T15:36:00.591604",
     "exception": false,
     "start_time": "2025-03-31T15:36:00.379048",
     "status": "completed"
    },
    "tags": []
   },
   "outputs": [],
   "source": [
    "tokenizer = keras_nlp.models.Gemma3Tokenizer.from_preset(\"/kaggle/input/gemma3/keras/gemma3_1b/1\")"
   ]
  },
  {
   "cell_type": "markdown",
   "id": "c35702c5",
   "metadata": {
    "papermill": {
     "duration": 0.011141,
     "end_time": "2025-03-31T15:36:00.614533",
     "exception": false,
     "start_time": "2025-03-31T15:36:00.603392",
     "status": "completed"
    },
    "tags": []
   },
   "source": [
    "Let's verify the model now."
   ]
  },
  {
   "cell_type": "code",
   "execution_count": 6,
   "id": "665e40ca",
   "metadata": {
    "execution": {
     "iopub.execute_input": "2025-03-31T15:36:00.638556Z",
     "iopub.status.busy": "2025-03-31T15:36:00.638164Z",
     "iopub.status.idle": "2025-03-31T15:36:00.670527Z",
     "shell.execute_reply": "2025-03-31T15:36:00.669508Z"
    },
    "papermill": {
     "duration": 0.046163,
     "end_time": "2025-03-31T15:36:00.672049",
     "exception": false,
     "start_time": "2025-03-31T15:36:00.625886",
     "status": "completed"
    },
    "tags": []
   },
   "outputs": [
    {
     "data": {
      "text/html": [
       "<pre style=\"white-space:pre;overflow-x:auto;line-height:normal;font-family:Menlo,'DejaVu Sans Mono',consolas,'Courier New',monospace\"><span style=\"font-weight: bold\">Preprocessor: \"gemma3_causal_lm_preprocessor\"</span>\n",
       "</pre>\n"
      ],
      "text/plain": [
       "\u001b[1mPreprocessor: \"gemma3_causal_lm_preprocessor\"\u001b[0m\n"
      ]
     },
     "metadata": {},
     "output_type": "display_data"
    },
    {
     "data": {
      "text/html": [
       "<pre style=\"white-space:pre;overflow-x:auto;line-height:normal;font-family:Menlo,'DejaVu Sans Mono',consolas,'Courier New',monospace\">┏━━━━━━━━━━━━━━━━━━━━━━━━━━━━━━━━━━━━━━━━━━━━━━━━━━━━━━━━━━━━━━━┳━━━━━━━━━━━━━━━━━━━━━━━━━━━━━━━━━━━━━━━━━━┓\n",
       "┃<span style=\"font-weight: bold\"> Layer (type)                                                  </span>┃<span style=\"font-weight: bold\">                                   Config </span>┃\n",
       "┡━━━━━━━━━━━━━━━━━━━━━━━━━━━━━━━━━━━━━━━━━━━━━━━━━━━━━━━━━━━━━━━╇━━━━━━━━━━━━━━━━━━━━━━━━━━━━━━━━━━━━━━━━━━┩\n",
       "│ gemma3_tokenizer (<span style=\"color: #0087ff; text-decoration-color: #0087ff\">Gemma3Tokenizer</span>)                            │                      Vocab size: <span style=\"color: #00af00; text-decoration-color: #00af00\">262,144</span> │\n",
       "└───────────────────────────────────────────────────────────────┴──────────────────────────────────────────┘\n",
       "</pre>\n"
      ],
      "text/plain": [
       "┏━━━━━━━━━━━━━━━━━━━━━━━━━━━━━━━━━━━━━━━━━━━━━━━━━━━━━━━━━━━━━━━┳━━━━━━━━━━━━━━━━━━━━━━━━━━━━━━━━━━━━━━━━━━┓\n",
       "┃\u001b[1m \u001b[0m\u001b[1mLayer (type)                                                 \u001b[0m\u001b[1m \u001b[0m┃\u001b[1m \u001b[0m\u001b[1m                                  Config\u001b[0m\u001b[1m \u001b[0m┃\n",
       "┡━━━━━━━━━━━━━━━━━━━━━━━━━━━━━━━━━━━━━━━━━━━━━━━━━━━━━━━━━━━━━━━╇━━━━━━━━━━━━━━━━━━━━━━━━━━━━━━━━━━━━━━━━━━┩\n",
       "│ gemma3_tokenizer (\u001b[38;5;33mGemma3Tokenizer\u001b[0m)                            │                      Vocab size: \u001b[38;5;34m262,144\u001b[0m │\n",
       "└───────────────────────────────────────────────────────────────┴──────────────────────────────────────────┘\n"
      ]
     },
     "metadata": {},
     "output_type": "display_data"
    },
    {
     "data": {
      "text/html": [
       "<pre style=\"white-space:pre;overflow-x:auto;line-height:normal;font-family:Menlo,'DejaVu Sans Mono',consolas,'Courier New',monospace\"><span style=\"font-weight: bold\">Model: \"gemma3_causal_lm\"</span>\n",
       "</pre>\n"
      ],
      "text/plain": [
       "\u001b[1mModel: \"gemma3_causal_lm\"\u001b[0m\n"
      ]
     },
     "metadata": {},
     "output_type": "display_data"
    },
    {
     "data": {
      "text/html": [
       "<pre style=\"white-space:pre;overflow-x:auto;line-height:normal;font-family:Menlo,'DejaVu Sans Mono',consolas,'Courier New',monospace\">┏━━━━━━━━━━━━━━━━━━━━━━━━━━━━━━━┳━━━━━━━━━━━━━━━━━━━━━━━━━━━┳━━━━━━━━━━━━━━━━━┳━━━━━━━━━━━━━━━━━━━━━━━━━━━━┓\n",
       "┃<span style=\"font-weight: bold\"> Layer (type)                  </span>┃<span style=\"font-weight: bold\"> Output Shape              </span>┃<span style=\"font-weight: bold\">         Param # </span>┃<span style=\"font-weight: bold\"> Connected to               </span>┃\n",
       "┡━━━━━━━━━━━━━━━━━━━━━━━━━━━━━━━╇━━━━━━━━━━━━━━━━━━━━━━━━━━━╇━━━━━━━━━━━━━━━━━╇━━━━━━━━━━━━━━━━━━━━━━━━━━━━┩\n",
       "│ padding_mask (<span style=\"color: #0087ff; text-decoration-color: #0087ff\">InputLayer</span>)     │ (<span style=\"color: #00d7ff; text-decoration-color: #00d7ff\">None</span>, <span style=\"color: #00d7ff; text-decoration-color: #00d7ff\">None</span>)              │               <span style=\"color: #00af00; text-decoration-color: #00af00\">0</span> │ -                          │\n",
       "├───────────────────────────────┼───────────────────────────┼─────────────────┼────────────────────────────┤\n",
       "│ token_ids (<span style=\"color: #0087ff; text-decoration-color: #0087ff\">InputLayer</span>)        │ (<span style=\"color: #00d7ff; text-decoration-color: #00d7ff\">None</span>, <span style=\"color: #00d7ff; text-decoration-color: #00d7ff\">None</span>)              │               <span style=\"color: #00af00; text-decoration-color: #00af00\">0</span> │ -                          │\n",
       "├───────────────────────────────┼───────────────────────────┼─────────────────┼────────────────────────────┤\n",
       "│ gemma3_backbone               │ (<span style=\"color: #00d7ff; text-decoration-color: #00d7ff\">None</span>, <span style=\"color: #00d7ff; text-decoration-color: #00d7ff\">None</span>, <span style=\"color: #00af00; text-decoration-color: #00af00\">1152</span>)        │     <span style=\"color: #00af00; text-decoration-color: #00af00\">999,885,952</span> │ padding_mask[<span style=\"color: #00af00; text-decoration-color: #00af00\">0</span>][<span style=\"color: #00af00; text-decoration-color: #00af00\">0</span>],        │\n",
       "│ (<span style=\"color: #0087ff; text-decoration-color: #0087ff\">Gemma3Backbone</span>)              │                           │                 │ token_ids[<span style=\"color: #00af00; text-decoration-color: #00af00\">0</span>][<span style=\"color: #00af00; text-decoration-color: #00af00\">0</span>]            │\n",
       "├───────────────────────────────┼───────────────────────────┼─────────────────┼────────────────────────────┤\n",
       "│ token_embedding               │ (<span style=\"color: #00d7ff; text-decoration-color: #00d7ff\">None</span>, <span style=\"color: #00d7ff; text-decoration-color: #00d7ff\">None</span>, <span style=\"color: #00af00; text-decoration-color: #00af00\">262144</span>)      │     <span style=\"color: #00af00; text-decoration-color: #00af00\">301,989,888</span> │ gemma3_backbone[<span style=\"color: #00af00; text-decoration-color: #00af00\">0</span>][<span style=\"color: #00af00; text-decoration-color: #00af00\">0</span>]      │\n",
       "│ (<span style=\"color: #0087ff; text-decoration-color: #0087ff\">ReversibleEmbedding</span>)         │                           │                 │                            │\n",
       "└───────────────────────────────┴───────────────────────────┴─────────────────┴────────────────────────────┘\n",
       "</pre>\n"
      ],
      "text/plain": [
       "┏━━━━━━━━━━━━━━━━━━━━━━━━━━━━━━━┳━━━━━━━━━━━━━━━━━━━━━━━━━━━┳━━━━━━━━━━━━━━━━━┳━━━━━━━━━━━━━━━━━━━━━━━━━━━━┓\n",
       "┃\u001b[1m \u001b[0m\u001b[1mLayer (type)                 \u001b[0m\u001b[1m \u001b[0m┃\u001b[1m \u001b[0m\u001b[1mOutput Shape             \u001b[0m\u001b[1m \u001b[0m┃\u001b[1m \u001b[0m\u001b[1m        Param #\u001b[0m\u001b[1m \u001b[0m┃\u001b[1m \u001b[0m\u001b[1mConnected to              \u001b[0m\u001b[1m \u001b[0m┃\n",
       "┡━━━━━━━━━━━━━━━━━━━━━━━━━━━━━━━╇━━━━━━━━━━━━━━━━━━━━━━━━━━━╇━━━━━━━━━━━━━━━━━╇━━━━━━━━━━━━━━━━━━━━━━━━━━━━┩\n",
       "│ padding_mask (\u001b[38;5;33mInputLayer\u001b[0m)     │ (\u001b[38;5;45mNone\u001b[0m, \u001b[38;5;45mNone\u001b[0m)              │               \u001b[38;5;34m0\u001b[0m │ -                          │\n",
       "├───────────────────────────────┼───────────────────────────┼─────────────────┼────────────────────────────┤\n",
       "│ token_ids (\u001b[38;5;33mInputLayer\u001b[0m)        │ (\u001b[38;5;45mNone\u001b[0m, \u001b[38;5;45mNone\u001b[0m)              │               \u001b[38;5;34m0\u001b[0m │ -                          │\n",
       "├───────────────────────────────┼───────────────────────────┼─────────────────┼────────────────────────────┤\n",
       "│ gemma3_backbone               │ (\u001b[38;5;45mNone\u001b[0m, \u001b[38;5;45mNone\u001b[0m, \u001b[38;5;34m1152\u001b[0m)        │     \u001b[38;5;34m999,885,952\u001b[0m │ padding_mask[\u001b[38;5;34m0\u001b[0m][\u001b[38;5;34m0\u001b[0m],        │\n",
       "│ (\u001b[38;5;33mGemma3Backbone\u001b[0m)              │                           │                 │ token_ids[\u001b[38;5;34m0\u001b[0m][\u001b[38;5;34m0\u001b[0m]            │\n",
       "├───────────────────────────────┼───────────────────────────┼─────────────────┼────────────────────────────┤\n",
       "│ token_embedding               │ (\u001b[38;5;45mNone\u001b[0m, \u001b[38;5;45mNone\u001b[0m, \u001b[38;5;34m262144\u001b[0m)      │     \u001b[38;5;34m301,989,888\u001b[0m │ gemma3_backbone[\u001b[38;5;34m0\u001b[0m][\u001b[38;5;34m0\u001b[0m]      │\n",
       "│ (\u001b[38;5;33mReversibleEmbedding\u001b[0m)         │                           │                 │                            │\n",
       "└───────────────────────────────┴───────────────────────────┴─────────────────┴────────────────────────────┘\n"
      ]
     },
     "metadata": {},
     "output_type": "display_data"
    },
    {
     "data": {
      "text/html": [
       "<pre style=\"white-space:pre;overflow-x:auto;line-height:normal;font-family:Menlo,'DejaVu Sans Mono',consolas,'Courier New',monospace\"><span style=\"font-weight: bold\"> Total params: </span><span style=\"color: #00af00; text-decoration-color: #00af00\">999,885,952</span> (3.72 GB)\n",
       "</pre>\n"
      ],
      "text/plain": [
       "\u001b[1m Total params: \u001b[0m\u001b[38;5;34m999,885,952\u001b[0m (3.72 GB)\n"
      ]
     },
     "metadata": {},
     "output_type": "display_data"
    },
    {
     "data": {
      "text/html": [
       "<pre style=\"white-space:pre;overflow-x:auto;line-height:normal;font-family:Menlo,'DejaVu Sans Mono',consolas,'Courier New',monospace\"><span style=\"font-weight: bold\"> Trainable params: </span><span style=\"color: #00af00; text-decoration-color: #00af00\">999,885,952</span> (3.72 GB)\n",
       "</pre>\n"
      ],
      "text/plain": [
       "\u001b[1m Trainable params: \u001b[0m\u001b[38;5;34m999,885,952\u001b[0m (3.72 GB)\n"
      ]
     },
     "metadata": {},
     "output_type": "display_data"
    },
    {
     "data": {
      "text/html": [
       "<pre style=\"white-space:pre;overflow-x:auto;line-height:normal;font-family:Menlo,'DejaVu Sans Mono',consolas,'Courier New',monospace\"><span style=\"font-weight: bold\"> Non-trainable params: </span><span style=\"color: #00af00; text-decoration-color: #00af00\">0</span> (0.00 B)\n",
       "</pre>\n"
      ],
      "text/plain": [
       "\u001b[1m Non-trainable params: \u001b[0m\u001b[38;5;34m0\u001b[0m (0.00 B)\n"
      ]
     },
     "metadata": {},
     "output_type": "display_data"
    }
   ],
   "source": [
    "gemma_lm.summary()"
   ]
  },
  {
   "cell_type": "markdown",
   "id": "3e7df7b6",
   "metadata": {
    "papermill": {
     "duration": 0.012159,
     "end_time": "2025-03-31T15:36:00.696716",
     "exception": false,
     "start_time": "2025-03-31T15:36:00.684557",
     "status": "completed"
    },
    "tags": []
   },
   "source": [
    "We observe that the model is indeed under 1GB.\n",
    "\n",
    "# Test the model\n",
    "\n",
    "Let's define a simple prompt."
   ]
  },
  {
   "cell_type": "code",
   "execution_count": 7,
   "id": "3efaa2ce",
   "metadata": {
    "execution": {
     "iopub.execute_input": "2025-03-31T15:36:00.722547Z",
     "iopub.status.busy": "2025-03-31T15:36:00.722172Z",
     "iopub.status.idle": "2025-03-31T15:36:22.784443Z",
     "shell.execute_reply": "2025-03-31T15:36:22.783497Z"
    },
    "papermill": {
     "duration": 22.077278,
     "end_time": "2025-03-31T15:36:22.786206",
     "exception": false,
     "start_time": "2025-03-31T15:36:00.708928",
     "status": "completed"
    },
    "tags": []
   },
   "outputs": [],
   "source": [
    "instructions = \"You are an AI that answers in short, complete sentences only.\\n\"\n",
    "prompt = (\n",
    "    f\"{instructions}\"\n",
    "    \"Question: {question}\\n\"\n",
    "    \"Answer:\"\n",
    ")\n",
    "\n",
    "output = gemma_lm.generate(\n",
    "    prompt.format(question=\"What is the temperature of the Moon?\"),\n",
    "    max_length=40, \n",
    "    stop_token_ids=[tokenizer.token_to_id(\"\\n\")]\n",
    ")\n"
   ]
  },
  {
   "cell_type": "code",
   "execution_count": 8,
   "id": "755dba91",
   "metadata": {
    "execution": {
     "iopub.execute_input": "2025-03-31T15:36:22.812297Z",
     "iopub.status.busy": "2025-03-31T15:36:22.811965Z",
     "iopub.status.idle": "2025-03-31T15:36:22.816751Z",
     "shell.execute_reply": "2025-03-31T15:36:22.815616Z"
    },
    "papermill": {
     "duration": 0.019355,
     "end_time": "2025-03-31T15:36:22.818224",
     "exception": false,
     "start_time": "2025-03-31T15:36:22.798869",
     "status": "completed"
    },
    "tags": []
   },
   "outputs": [
    {
     "name": "stdout",
     "output_type": "stream",
     "text": [
      "Question: What is the temperature of the Moon?\n",
      "Answer: The temperature of the Moon is 100 degrees Celsius\n"
     ]
    }
   ],
   "source": [
    "answer = output.replace(instructions, \"\").strip()\n",
    "print(answer)"
   ]
  },
  {
   "cell_type": "markdown",
   "id": "a2bda1ab",
   "metadata": {
    "papermill": {
     "duration": 0.012134,
     "end_time": "2025-03-31T15:36:22.843020",
     "exception": false,
     "start_time": "2025-03-31T15:36:22.830886",
     "status": "completed"
    },
    "tags": []
   },
   "source": [
    "## Functions to generate and format the output\n",
    "\n",
    "We define a function to generate the answer."
   ]
  },
  {
   "cell_type": "code",
   "execution_count": 9,
   "id": "a3ea1e69",
   "metadata": {
    "execution": {
     "iopub.execute_input": "2025-03-31T15:36:22.868785Z",
     "iopub.status.busy": "2025-03-31T15:36:22.868379Z",
     "iopub.status.idle": "2025-03-31T15:36:22.873345Z",
     "shell.execute_reply": "2025-03-31T15:36:22.872476Z"
    },
    "papermill": {
     "duration": 0.019852,
     "end_time": "2025-03-31T15:36:22.875097",
     "exception": false,
     "start_time": "2025-03-31T15:36:22.855245",
     "status": "completed"
    },
    "tags": []
   },
   "outputs": [],
   "source": [
    "def generate_answer(question, \n",
    "                    instructions=\"You are an AI that answers in short, complete sentences only.\\n\", \n",
    "                    max_length=40):\n",
    "    prompt = (\n",
    "        f\"{instructions}\"\n",
    "        \"Question: {question}\\n\"\n",
    "        \"Answer:\"\n",
    "    )\n",
    "    output = gemma_lm.generate(\n",
    "        prompt.format(question=question),\n",
    "        max_length=max_length, \n",
    "        stop_token_ids=[tokenizer.token_to_id(\"\\n\")]\n",
    "    )    \n",
    "    answer = output.replace(instructions, \"\").strip()\n",
    "    return answer"
   ]
  },
  {
   "cell_type": "markdown",
   "id": "87fa36ee",
   "metadata": {
    "papermill": {
     "duration": 0.013052,
     "end_time": "2025-03-31T15:36:22.901088",
     "exception": false,
     "start_time": "2025-03-31T15:36:22.888036",
     "status": "completed"
    },
    "tags": []
   },
   "source": [
    "We define a function to format the output."
   ]
  },
  {
   "cell_type": "code",
   "execution_count": 10,
   "id": "10c1ae67",
   "metadata": {
    "execution": {
     "iopub.execute_input": "2025-03-31T15:36:22.927579Z",
     "iopub.status.busy": "2025-03-31T15:36:22.927189Z",
     "iopub.status.idle": "2025-03-31T15:36:22.932469Z",
     "shell.execute_reply": "2025-03-31T15:36:22.931372Z"
    },
    "papermill": {
     "duration": 0.020502,
     "end_time": "2025-03-31T15:36:22.934282",
     "exception": false,
     "start_time": "2025-03-31T15:36:22.913780",
     "status": "completed"
    },
    "tags": []
   },
   "outputs": [],
   "source": [
    "from IPython.display import display, Markdown\n",
    "\n",
    "def colorize_text(text):\n",
    "    for word, color in zip([\"Reasoning\", \"Question\", \"Answer\", \"Explanation\", \"Total time\"], [\"blue\", \"red\", \"green\", \"darkblue\",  \"magenta\"]):\n",
    "        text = text.replace(f\"{word}:\", f\"\\n\\n**<font color='{color}'>{word}:</font>**\")\n",
    "    return text"
   ]
  },
  {
   "cell_type": "markdown",
   "id": "18141295",
   "metadata": {
    "papermill": {
     "duration": 0.012105,
     "end_time": "2025-03-31T15:36:22.959045",
     "exception": false,
     "start_time": "2025-03-31T15:36:22.946940",
     "status": "completed"
    },
    "tags": []
   },
   "source": [
    "Now let's combine both."
   ]
  },
  {
   "cell_type": "code",
   "execution_count": 11,
   "id": "2297a902",
   "metadata": {
    "execution": {
     "iopub.execute_input": "2025-03-31T15:36:22.986245Z",
     "iopub.status.busy": "2025-03-31T15:36:22.985872Z",
     "iopub.status.idle": "2025-03-31T15:36:22.990498Z",
     "shell.execute_reply": "2025-03-31T15:36:22.989513Z"
    },
    "papermill": {
     "duration": 0.02064,
     "end_time": "2025-03-31T15:36:22.992088",
     "exception": false,
     "start_time": "2025-03-31T15:36:22.971448",
     "status": "completed"
    },
    "tags": []
   },
   "outputs": [],
   "source": [
    "def generate_format_answer(question, \n",
    "                    instructions=\"You are an AI that answers in short, complete sentences only.\\n\", \n",
    "                    max_length=40):\n",
    "    t = time()\n",
    "    answer = generate_answer(question, instructions, max_length)\n",
    "    display(Markdown(colorize_text(f\"{answer}\\n\\nTotal time: {round(time()-t, 2)} sec.\")))"
   ]
  },
  {
   "cell_type": "code",
   "execution_count": 12,
   "id": "5879628d",
   "metadata": {
    "execution": {
     "iopub.execute_input": "2025-03-31T15:36:23.018068Z",
     "iopub.status.busy": "2025-03-31T15:36:23.017668Z",
     "iopub.status.idle": "2025-03-31T15:36:25.527229Z",
     "shell.execute_reply": "2025-03-31T15:36:25.526210Z"
    },
    "papermill": {
     "duration": 2.524119,
     "end_time": "2025-03-31T15:36:25.528734",
     "exception": false,
     "start_time": "2025-03-31T15:36:23.004615",
     "status": "completed"
    },
    "tags": []
   },
   "outputs": [
    {
     "data": {
      "text/markdown": [
       "\n",
       "\n",
       "**<font color='red'>Question:</font>** What is the surface temperature of the Moon?\n",
       "\n",
       "\n",
       "**<font color='green'>Answer:</font>** 100 degrees Celsius\n",
       "\n",
       "\n",
       "\n",
       "**<font color='magenta'>Total time:</font>** 2.5 sec."
      ],
      "text/plain": [
       "<IPython.core.display.Markdown object>"
      ]
     },
     "metadata": {},
     "output_type": "display_data"
    }
   ],
   "source": [
    "generate_format_answer(\"What is the surface temperature of the Moon?\")"
   ]
  },
  {
   "cell_type": "markdown",
   "id": "ba1ada6d",
   "metadata": {
    "papermill": {
     "duration": 0.012119,
     "end_time": "2025-03-31T15:36:25.553315",
     "exception": false,
     "start_time": "2025-03-31T15:36:25.541196",
     "status": "completed"
    },
    "tags": []
   },
   "source": [
    "## Let's ask some simple common knowledge questions\n",
    "\n",
    "\n",
    "Will ask questions from history, arts, general culture and politics."
   ]
  },
  {
   "cell_type": "code",
   "execution_count": 13,
   "id": "904a06de",
   "metadata": {
    "execution": {
     "iopub.execute_input": "2025-03-31T15:36:25.579287Z",
     "iopub.status.busy": "2025-03-31T15:36:25.578942Z",
     "iopub.status.idle": "2025-03-31T15:36:29.090199Z",
     "shell.execute_reply": "2025-03-31T15:36:29.089225Z"
    },
    "papermill": {
     "duration": 3.52592,
     "end_time": "2025-03-31T15:36:29.091679",
     "exception": false,
     "start_time": "2025-03-31T15:36:25.565759",
     "status": "completed"
    },
    "tags": []
   },
   "outputs": [
    {
     "data": {
      "text/markdown": [
       "\n",
       "\n",
       "**<font color='red'>Question:</font>** When was the 30 years war?\n",
       "\n",
       "\n",
       "**<font color='green'>Answer:</font>** 1618-1648\n",
       "\n",
       "\n",
       "\n",
       "**<font color='magenta'>Total time:</font>** 3.51 sec."
      ],
      "text/plain": [
       "<IPython.core.display.Markdown object>"
      ]
     },
     "metadata": {},
     "output_type": "display_data"
    }
   ],
   "source": [
    "answer = generate_format_answer(\"When was the 30 years war?\")"
   ]
  },
  {
   "cell_type": "code",
   "execution_count": 14,
   "id": "79436c24",
   "metadata": {
    "execution": {
     "iopub.execute_input": "2025-03-31T15:36:29.118278Z",
     "iopub.status.busy": "2025-03-31T15:36:29.117931Z",
     "iopub.status.idle": "2025-03-31T15:36:32.353812Z",
     "shell.execute_reply": "2025-03-31T15:36:32.352849Z"
    },
    "papermill": {
     "duration": 3.251024,
     "end_time": "2025-03-31T15:36:32.355538",
     "exception": false,
     "start_time": "2025-03-31T15:36:29.104514",
     "status": "completed"
    },
    "tags": []
   },
   "outputs": [
    {
     "data": {
      "text/markdown": [
       "\n",
       "\n",
       "**<font color='red'>Question:</font>** When was the Great War?\n",
       "\n",
       "\n",
       "**<font color='green'>Answer:</font>** 1914-1918\n",
       "\n",
       "\n",
       "\n",
       "**<font color='magenta'>Total time:</font>** 3.23 sec."
      ],
      "text/plain": [
       "<IPython.core.display.Markdown object>"
      ]
     },
     "metadata": {},
     "output_type": "display_data"
    }
   ],
   "source": [
    "answer = generate_format_answer(\"When was the Great War?\")"
   ]
  },
  {
   "cell_type": "code",
   "execution_count": 15,
   "id": "08e09dff",
   "metadata": {
    "execution": {
     "iopub.execute_input": "2025-03-31T15:36:32.382186Z",
     "iopub.status.busy": "2025-03-31T15:36:32.381825Z",
     "iopub.status.idle": "2025-03-31T15:36:34.469671Z",
     "shell.execute_reply": "2025-03-31T15:36:34.468667Z"
    },
    "papermill": {
     "duration": 2.102937,
     "end_time": "2025-03-31T15:36:34.471294",
     "exception": false,
     "start_time": "2025-03-31T15:36:32.368357",
     "status": "completed"
    },
    "tags": []
   },
   "outputs": [
    {
     "data": {
      "text/markdown": [
       "\n",
       "\n",
       "**<font color='red'>Question:</font>** When was the USA-Spanish war?\n",
       "\n",
       "\n",
       "**<font color='green'>Answer:</font>** 1898\n",
       "\n",
       "\n",
       "\n",
       "**<font color='magenta'>Total time:</font>** 2.08 sec."
      ],
      "text/plain": [
       "<IPython.core.display.Markdown object>"
      ]
     },
     "metadata": {},
     "output_type": "display_data"
    }
   ],
   "source": [
    "generate_format_answer(\"When was the USA-Spanish war?\")"
   ]
  },
  {
   "cell_type": "code",
   "execution_count": 16,
   "id": "ac863bb5",
   "metadata": {
    "execution": {
     "iopub.execute_input": "2025-03-31T15:36:34.499216Z",
     "iopub.status.busy": "2025-03-31T15:36:34.498876Z",
     "iopub.status.idle": "2025-03-31T15:36:35.896011Z",
     "shell.execute_reply": "2025-03-31T15:36:35.894970Z"
    },
    "papermill": {
     "duration": 1.412978,
     "end_time": "2025-03-31T15:36:35.897704",
     "exception": false,
     "start_time": "2025-03-31T15:36:34.484726",
     "status": "completed"
    },
    "tags": []
   },
   "outputs": [
    {
     "data": {
      "text/markdown": [
       "\n",
       "\n",
       "**<font color='red'>Question:</font>** Who was the president before 1st mandate of Donald Trump?\n",
       "\n",
       "\n",
       "**<font color='green'>Answer:</font>** Barack Obama\n",
       "\n",
       "\n",
       "\n",
       "**<font color='magenta'>Total time:</font>** 1.39 sec."
      ],
      "text/plain": [
       "<IPython.core.display.Markdown object>"
      ]
     },
     "metadata": {},
     "output_type": "display_data"
    }
   ],
   "source": [
    "generate_format_answer(\"Who was the president before 1st mandate of Donald Trump?\")"
   ]
  },
  {
   "cell_type": "code",
   "execution_count": 17,
   "id": "fb70b1f4",
   "metadata": {
    "execution": {
     "iopub.execute_input": "2025-03-31T15:36:35.925832Z",
     "iopub.status.busy": "2025-03-31T15:36:35.925488Z",
     "iopub.status.idle": "2025-03-31T15:36:38.991115Z",
     "shell.execute_reply": "2025-03-31T15:36:38.990042Z"
    },
    "papermill": {
     "duration": 3.0822,
     "end_time": "2025-03-31T15:36:38.992974",
     "exception": false,
     "start_time": "2025-03-31T15:36:35.910774",
     "status": "completed"
    },
    "tags": []
   },
   "outputs": [
    {
     "data": {
      "text/markdown": [
       "\n",
       "\n",
       "**<font color='red'>Question:</font>** When was the attack on Pearl Harbor?\n",
       "\n",
       "\n",
       "**<font color='green'>Answer:</font>** December 7, 1941\n",
       "\n",
       "\n",
       "\n",
       "**<font color='magenta'>Total time:</font>** 3.06 sec."
      ],
      "text/plain": [
       "<IPython.core.display.Markdown object>"
      ]
     },
     "metadata": {},
     "output_type": "display_data"
    }
   ],
   "source": [
    "generate_format_answer(\"When was the attack on Pearl Harbor?\")"
   ]
  },
  {
   "cell_type": "code",
   "execution_count": 18,
   "id": "b8847a5b",
   "metadata": {
    "execution": {
     "iopub.execute_input": "2025-03-31T15:36:39.020657Z",
     "iopub.status.busy": "2025-03-31T15:36:39.020283Z",
     "iopub.status.idle": "2025-03-31T15:36:40.878579Z",
     "shell.execute_reply": "2025-03-31T15:36:40.877544Z"
    },
    "papermill": {
     "duration": 1.874178,
     "end_time": "2025-03-31T15:36:40.880450",
     "exception": false,
     "start_time": "2025-03-31T15:36:39.006272",
     "status": "completed"
    },
    "tags": []
   },
   "outputs": [
    {
     "data": {
      "text/markdown": [
       "\n",
       "\n",
       "**<font color='red'>Question:</font>** Who was the next shogon after Yeiatsu Tokugawa?\n",
       "\n",
       "\n",
       "**<font color='green'>Answer:</font>** Tokugawa Ieyasu\n",
       "\n",
       "\n",
       "\n",
       "**<font color='magenta'>Total time:</font>** 1.85 sec."
      ],
      "text/plain": [
       "<IPython.core.display.Markdown object>"
      ]
     },
     "metadata": {},
     "output_type": "display_data"
    }
   ],
   "source": [
    "generate_format_answer(\"Who was the next shogon after Yeiatsu Tokugawa?\")"
   ]
  },
  {
   "cell_type": "markdown",
   "id": "59f6e465",
   "metadata": {
    "papermill": {
     "duration": 0.013039,
     "end_time": "2025-03-31T15:36:40.907602",
     "exception": false,
     "start_time": "2025-03-31T15:36:40.894563",
     "status": "completed"
    },
    "tags": []
   },
   "source": [
    "This answer is not correct. The correct answer is Hidetada Tokugawa."
   ]
  },
  {
   "cell_type": "code",
   "execution_count": 19,
   "id": "9964170a",
   "metadata": {
    "execution": {
     "iopub.execute_input": "2025-03-31T15:36:40.936199Z",
     "iopub.status.busy": "2025-03-31T15:36:40.935867Z",
     "iopub.status.idle": "2025-03-31T15:36:42.342014Z",
     "shell.execute_reply": "2025-03-31T15:36:42.340817Z"
    },
    "papermill": {
     "duration": 1.422201,
     "end_time": "2025-03-31T15:36:42.343544",
     "exception": false,
     "start_time": "2025-03-31T15:36:40.921343",
     "status": "completed"
    },
    "tags": []
   },
   "outputs": [
    {
     "data": {
      "text/markdown": [
       "\n",
       "\n",
       "**<font color='red'>Question:</font>** Who was the first American president?\n",
       "\n",
       "\n",
       "**<font color='green'>Answer:</font>** George Washington\n",
       "\n",
       "\n",
       "\n",
       "**<font color='magenta'>Total time:</font>** 1.4 sec."
      ],
      "text/plain": [
       "<IPython.core.display.Markdown object>"
      ]
     },
     "metadata": {},
     "output_type": "display_data"
    }
   ],
   "source": [
    "generate_format_answer(\"Who was the first American president?\")"
   ]
  },
  {
   "cell_type": "code",
   "execution_count": 20,
   "id": "ebb30527",
   "metadata": {
    "execution": {
     "iopub.execute_input": "2025-03-31T15:36:42.371002Z",
     "iopub.status.busy": "2025-03-31T15:36:42.370674Z",
     "iopub.status.idle": "2025-03-31T15:36:43.762533Z",
     "shell.execute_reply": "2025-03-31T15:36:43.761568Z"
    },
    "papermill": {
     "duration": 1.407151,
     "end_time": "2025-03-31T15:36:43.763963",
     "exception": false,
     "start_time": "2025-03-31T15:36:42.356812",
     "status": "completed"
    },
    "tags": []
   },
   "outputs": [
    {
     "data": {
      "text/markdown": [
       "\n",
       "\n",
       "**<font color='red'>Question:</font>** What is drosophila melanogaster?\n",
       "\n",
       "\n",
       "**<font color='green'>Answer:</font>** Fruit fly\n",
       "\n",
       "\n",
       "\n",
       "**<font color='magenta'>Total time:</font>** 1.39 sec."
      ],
      "text/plain": [
       "<IPython.core.display.Markdown object>"
      ]
     },
     "metadata": {},
     "output_type": "display_data"
    }
   ],
   "source": [
    "generate_format_answer(\"What is drosophila melanogaster?\")"
   ]
  },
  {
   "cell_type": "code",
   "execution_count": 21,
   "id": "c0730bca",
   "metadata": {
    "execution": {
     "iopub.execute_input": "2025-03-31T15:36:43.791987Z",
     "iopub.status.busy": "2025-03-31T15:36:43.791636Z",
     "iopub.status.idle": "2025-03-31T15:36:44.955973Z",
     "shell.execute_reply": "2025-03-31T15:36:44.954958Z"
    },
    "papermill": {
     "duration": 1.18038,
     "end_time": "2025-03-31T15:36:44.957697",
     "exception": false,
     "start_time": "2025-03-31T15:36:43.777317",
     "status": "completed"
    },
    "tags": []
   },
   "outputs": [
    {
     "data": {
      "text/markdown": [
       "\n",
       "\n",
       "**<font color='red'>Question:</font>** Which country in South America use Portuguese?\n",
       "\n",
       "\n",
       "**<font color='green'>Answer:</font>** Brazil\n",
       "\n",
       "\n",
       "\n",
       "**<font color='magenta'>Total time:</font>** 1.16 sec."
      ],
      "text/plain": [
       "<IPython.core.display.Markdown object>"
      ]
     },
     "metadata": {},
     "output_type": "display_data"
    }
   ],
   "source": [
    "generate_format_answer(\"Which country in South America use Portuguese?\")"
   ]
  },
  {
   "cell_type": "code",
   "execution_count": 22,
   "id": "2673f642",
   "metadata": {
    "execution": {
     "iopub.execute_input": "2025-03-31T15:36:44.987308Z",
     "iopub.status.busy": "2025-03-31T15:36:44.986908Z",
     "iopub.status.idle": "2025-03-31T15:36:48.066192Z",
     "shell.execute_reply": "2025-03-31T15:36:48.065123Z"
    },
    "papermill": {
     "duration": 3.096202,
     "end_time": "2025-03-31T15:36:48.068084",
     "exception": false,
     "start_time": "2025-03-31T15:36:44.971882",
     "status": "completed"
    },
    "tags": []
   },
   "outputs": [
    {
     "data": {
      "text/markdown": [
       "\n",
       "\n",
       "**<font color='red'>Question:</font>** What family are horses?\n",
       "\n",
       "\n",
       "**<font color='green'>Answer:</font>** Horses are members of the family Equidae.\n",
       "\n",
       "\n",
       "\n",
       "**<font color='magenta'>Total time:</font>** 3.07 sec."
      ],
      "text/plain": [
       "<IPython.core.display.Markdown object>"
      ]
     },
     "metadata": {},
     "output_type": "display_data"
    }
   ],
   "source": [
    "generate_format_answer(\"What family are horses?\")"
   ]
  },
  {
   "cell_type": "code",
   "execution_count": 23,
   "id": "e4249066",
   "metadata": {
    "execution": {
     "iopub.execute_input": "2025-03-31T15:36:48.097976Z",
     "iopub.status.busy": "2025-03-31T15:36:48.097618Z",
     "iopub.status.idle": "2025-03-31T15:36:49.251507Z",
     "shell.execute_reply": "2025-03-31T15:36:49.250518Z"
    },
    "papermill": {
     "duration": 1.170032,
     "end_time": "2025-03-31T15:36:49.253036",
     "exception": false,
     "start_time": "2025-03-31T15:36:48.083004",
     "status": "completed"
    },
    "tags": []
   },
   "outputs": [
    {
     "data": {
      "text/markdown": [
       "\n",
       "\n",
       "**<font color='red'>Question:</font>** With which country has France the largest border in South America?\n",
       "\n",
       "\n",
       "**<font color='green'>Answer:</font>** Brazil\n",
       "\n",
       "\n",
       "\n",
       "**<font color='magenta'>Total time:</font>** 1.15 sec."
      ],
      "text/plain": [
       "<IPython.core.display.Markdown object>"
      ]
     },
     "metadata": {},
     "output_type": "display_data"
    }
   ],
   "source": [
    "generate_format_answer(\"With which country has France the largest border in South America?\")"
   ]
  },
  {
   "cell_type": "code",
   "execution_count": 24,
   "id": "86f53de1",
   "metadata": {
    "execution": {
     "iopub.execute_input": "2025-03-31T15:36:49.281750Z",
     "iopub.status.busy": "2025-03-31T15:36:49.281374Z",
     "iopub.status.idle": "2025-03-31T15:36:51.380412Z",
     "shell.execute_reply": "2025-03-31T15:36:51.379513Z"
    },
    "papermill": {
     "duration": 2.115218,
     "end_time": "2025-03-31T15:36:51.382075",
     "exception": false,
     "start_time": "2025-03-31T15:36:49.266857",
     "status": "completed"
    },
    "tags": []
   },
   "outputs": [
    {
     "data": {
      "text/markdown": [
       "\n",
       "\n",
       "**<font color='red'>Question:</font>** In what year was Fukushima incident?\n",
       "\n",
       "\n",
       "**<font color='green'>Answer:</font>** 2011\n",
       "\n",
       "\n",
       "\n",
       "**<font color='magenta'>Total time:</font>** 2.09 sec."
      ],
      "text/plain": [
       "<IPython.core.display.Markdown object>"
      ]
     },
     "metadata": {},
     "output_type": "display_data"
    }
   ],
   "source": [
    "generate_format_answer(\"In what year was Fukushima incident?\")"
   ]
  },
  {
   "cell_type": "code",
   "execution_count": 25,
   "id": "ccce4bb4",
   "metadata": {
    "execution": {
     "iopub.execute_input": "2025-03-31T15:36:51.466739Z",
     "iopub.status.busy": "2025-03-31T15:36:51.466323Z",
     "iopub.status.idle": "2025-03-31T15:36:52.625156Z",
     "shell.execute_reply": "2025-03-31T15:36:52.624118Z"
    },
    "papermill": {
     "duration": 1.175296,
     "end_time": "2025-03-31T15:36:52.626775",
     "exception": false,
     "start_time": "2025-03-31T15:36:51.451479",
     "status": "completed"
    },
    "tags": []
   },
   "outputs": [
    {
     "data": {
      "text/markdown": [
       "\n",
       "\n",
       "**<font color='red'>Question:</font>** What emperor succeeded to Traian?\n",
       "\n",
       "\n",
       "**<font color='green'>Answer:</font>** Hadrian\n",
       "\n",
       "\n",
       "\n",
       "**<font color='magenta'>Total time:</font>** 1.15 sec."
      ],
      "text/plain": [
       "<IPython.core.display.Markdown object>"
      ]
     },
     "metadata": {},
     "output_type": "display_data"
    }
   ],
   "source": [
    "generate_format_answer(\"What emperor succeeded to Traian?\")"
   ]
  },
  {
   "cell_type": "code",
   "execution_count": 26,
   "id": "589b1e95",
   "metadata": {
    "execution": {
     "iopub.execute_input": "2025-03-31T15:36:52.657169Z",
     "iopub.status.busy": "2025-03-31T15:36:52.656843Z",
     "iopub.status.idle": "2025-03-31T15:36:53.818543Z",
     "shell.execute_reply": "2025-03-31T15:36:53.817556Z"
    },
    "papermill": {
     "duration": 1.178677,
     "end_time": "2025-03-31T15:36:53.820144",
     "exception": false,
     "start_time": "2025-03-31T15:36:52.641467",
     "status": "completed"
    },
    "tags": []
   },
   "outputs": [
    {
     "data": {
      "text/markdown": [
       "\n",
       "\n",
       "**<font color='red'>Question:</font>** What nationality was Marguerite Yourcenar?\n",
       "\n",
       "\n",
       "**<font color='green'>Answer:</font>** French\n",
       "\n",
       "\n",
       "\n",
       "**<font color='magenta'>Total time:</font>** 1.16 sec."
      ],
      "text/plain": [
       "<IPython.core.display.Markdown object>"
      ]
     },
     "metadata": {},
     "output_type": "display_data"
    }
   ],
   "source": [
    "generate_format_answer(\"What nationality was Marguerite Yourcenar?\")"
   ]
  },
  {
   "cell_type": "markdown",
   "id": "c4d0e578",
   "metadata": {
    "papermill": {
     "duration": 0.013681,
     "end_time": "2025-03-31T15:36:53.847953",
     "exception": false,
     "start_time": "2025-03-31T15:36:53.834272",
     "status": "completed"
    },
    "tags": []
   },
   "source": [
    "The answer is wrong, she was Belgian, from nobility, and lived in US for most of her life. She was member of French Academy, though."
   ]
  },
  {
   "cell_type": "code",
   "execution_count": 27,
   "id": "cdb55a47",
   "metadata": {
    "execution": {
     "iopub.execute_input": "2025-03-31T15:36:53.877271Z",
     "iopub.status.busy": "2025-03-31T15:36:53.876946Z",
     "iopub.status.idle": "2025-03-31T15:36:56.208762Z",
     "shell.execute_reply": "2025-03-31T15:36:56.207764Z"
    },
    "papermill": {
     "duration": 2.34847,
     "end_time": "2025-03-31T15:36:56.210507",
     "exception": false,
     "start_time": "2025-03-31T15:36:53.862037",
     "status": "completed"
    },
    "tags": []
   },
   "outputs": [
    {
     "data": {
      "text/markdown": [
       "\n",
       "\n",
       "**<font color='red'>Question:</font>** In which branch of US Army server JD Vance?\n",
       "\n",
       "\n",
       "**<font color='green'>Answer:</font>** 1st Armored Division\n",
       "\n",
       "\n",
       "\n",
       "**<font color='magenta'>Total time:</font>** 2.33 sec."
      ],
      "text/plain": [
       "<IPython.core.display.Markdown object>"
      ]
     },
     "metadata": {},
     "output_type": "display_data"
    }
   ],
   "source": [
    "generate_format_answer(\"In which branch of US Army server JD Vance?\")"
   ]
  },
  {
   "cell_type": "markdown",
   "id": "e01061c2",
   "metadata": {
    "papermill": {
     "duration": 0.013812,
     "end_time": "2025-03-31T15:36:56.238749",
     "exception": false,
     "start_time": "2025-03-31T15:36:56.224937",
     "status": "completed"
    },
    "tags": []
   },
   "source": [
    "This is wrong, he served as an enlisted journalist in Marine Corps."
   ]
  },
  {
   "cell_type": "code",
   "execution_count": 28,
   "id": "778c0cec",
   "metadata": {
    "execution": {
     "iopub.execute_input": "2025-03-31T15:36:56.270203Z",
     "iopub.status.busy": "2025-03-31T15:36:56.269831Z",
     "iopub.status.idle": "2025-03-31T15:36:58.144134Z",
     "shell.execute_reply": "2025-03-31T15:36:58.143458Z"
    },
    "papermill": {
     "duration": 1.892153,
     "end_time": "2025-03-31T15:36:58.145809",
     "exception": false,
     "start_time": "2025-03-31T15:36:56.253656",
     "status": "completed"
    },
    "tags": []
   },
   "outputs": [
    {
     "data": {
      "text/markdown": [
       "\n",
       "\n",
       "**<font color='red'>Question:</font>** Who composed Fur Elise?\n",
       "\n",
       "\n",
       "**<font color='green'>Answer:</font>** Ludwig van Beethoven\n",
       "\n",
       "\n",
       "\n",
       "**<font color='magenta'>Total time:</font>** 1.87 sec."
      ],
      "text/plain": [
       "<IPython.core.display.Markdown object>"
      ]
     },
     "metadata": {},
     "output_type": "display_data"
    }
   ],
   "source": [
    "generate_format_answer(\"Who composed Fur Elise?\")"
   ]
  },
  {
   "cell_type": "code",
   "execution_count": 29,
   "id": "b9f5719e",
   "metadata": {
    "execution": {
     "iopub.execute_input": "2025-03-31T15:36:58.181109Z",
     "iopub.status.busy": "2025-03-31T15:36:58.180774Z",
     "iopub.status.idle": "2025-03-31T15:36:59.977191Z",
     "shell.execute_reply": "2025-03-31T15:36:59.976235Z"
    },
    "papermill": {
     "duration": 1.812917,
     "end_time": "2025-03-31T15:36:59.978738",
     "exception": false,
     "start_time": "2025-03-31T15:36:58.165821",
     "status": "completed"
    },
    "tags": []
   },
   "outputs": [
    {
     "data": {
      "text/markdown": [
       "\n",
       "\n",
       "**<font color='red'>Question:</font>** Name one of the most famous opera by Verdi?\n",
       "\n",
       "\n",
       "**<font color='green'>Answer:</font>** La Traviata\n",
       "\n",
       "\n",
       "\n",
       "**<font color='magenta'>Total time:</font>** 1.79 sec."
      ],
      "text/plain": [
       "<IPython.core.display.Markdown object>"
      ]
     },
     "metadata": {},
     "output_type": "display_data"
    }
   ],
   "source": [
    "generate_format_answer(\"Name one of the most famous opera by Verdi?\")"
   ]
  },
  {
   "cell_type": "code",
   "execution_count": 30,
   "id": "d3e6d1b6",
   "metadata": {
    "execution": {
     "iopub.execute_input": "2025-03-31T15:37:00.008745Z",
     "iopub.status.busy": "2025-03-31T15:37:00.008336Z",
     "iopub.status.idle": "2025-03-31T15:37:01.166510Z",
     "shell.execute_reply": "2025-03-31T15:37:01.165420Z"
    },
    "papermill": {
     "duration": 1.175238,
     "end_time": "2025-03-31T15:37:01.168201",
     "exception": false,
     "start_time": "2025-03-31T15:36:59.992963",
     "status": "completed"
    },
    "tags": []
   },
   "outputs": [
    {
     "data": {
      "text/markdown": [
       "\n",
       "\n",
       "**<font color='red'>Question:</font>** Which type of music composed JS Bach?\n",
       "\n",
       "\n",
       "**<font color='green'>Answer:</font>** Classical\n",
       "\n",
       "\n",
       "\n",
       "**<font color='magenta'>Total time:</font>** 1.15 sec."
      ],
      "text/plain": [
       "<IPython.core.display.Markdown object>"
      ]
     },
     "metadata": {},
     "output_type": "display_data"
    }
   ],
   "source": [
    "generate_format_answer(\"Which type of music composed JS Bach?\")"
   ]
  },
  {
   "cell_type": "markdown",
   "id": "8ef46440",
   "metadata": {
    "papermill": {
     "duration": 0.014744,
     "end_time": "2025-03-31T15:37:01.197989",
     "exception": false,
     "start_time": "2025-03-31T15:37:01.183245",
     "status": "completed"
    },
    "tags": []
   },
   "source": [
    "This is wrong, he was mostly composing Baroque (pre-classical) music."
   ]
  },
  {
   "cell_type": "code",
   "execution_count": 31,
   "id": "3d1df905",
   "metadata": {
    "execution": {
     "iopub.execute_input": "2025-03-31T15:37:01.228165Z",
     "iopub.status.busy": "2025-03-31T15:37:01.227805Z",
     "iopub.status.idle": "2025-03-31T15:37:02.383549Z",
     "shell.execute_reply": "2025-03-31T15:37:02.382548Z"
    },
    "papermill": {
     "duration": 1.172689,
     "end_time": "2025-03-31T15:37:02.385191",
     "exception": false,
     "start_time": "2025-03-31T15:37:01.212502",
     "status": "completed"
    },
    "tags": []
   },
   "outputs": [
    {
     "data": {
      "text/markdown": [
       "\n",
       "\n",
       "**<font color='red'>Question:</font>** Who composed Goldberg Variations?\n",
       "\n",
       "\n",
       "**<font color='green'>Answer:</font>** Bach\n",
       "\n",
       "\n",
       "\n",
       "**<font color='magenta'>Total time:</font>** 1.15 sec."
      ],
      "text/plain": [
       "<IPython.core.display.Markdown object>"
      ]
     },
     "metadata": {},
     "output_type": "display_data"
    }
   ],
   "source": [
    "generate_format_answer(\"Who composed Goldberg Variations?\")"
   ]
  },
  {
   "cell_type": "code",
   "execution_count": 32,
   "id": "53c03df4",
   "metadata": {
    "execution": {
     "iopub.execute_input": "2025-03-31T15:37:02.416362Z",
     "iopub.status.busy": "2025-03-31T15:37:02.416040Z",
     "iopub.status.idle": "2025-03-31T15:37:03.581911Z",
     "shell.execute_reply": "2025-03-31T15:37:03.580883Z"
    },
    "papermill": {
     "duration": 1.183161,
     "end_time": "2025-03-31T15:37:03.583753",
     "exception": false,
     "start_time": "2025-03-31T15:37:02.400592",
     "status": "completed"
    },
    "tags": []
   },
   "outputs": [
    {
     "data": {
      "text/markdown": [
       "\n",
       "\n",
       "**<font color='red'>Question:</font>** Who composed the most famous Requiem?\n",
       "\n",
       "\n",
       "**<font color='green'>Answer:</font>** Mozart\n",
       "\n",
       "\n",
       "\n",
       "**<font color='magenta'>Total time:</font>** 1.16 sec."
      ],
      "text/plain": [
       "<IPython.core.display.Markdown object>"
      ]
     },
     "metadata": {},
     "output_type": "display_data"
    }
   ],
   "source": [
    "generate_format_answer(\"Who composed the most famous Requiem?\")"
   ]
  },
  {
   "cell_type": "code",
   "execution_count": 33,
   "id": "35fbb312",
   "metadata": {
    "execution": {
     "iopub.execute_input": "2025-03-31T15:37:03.615849Z",
     "iopub.status.busy": "2025-03-31T15:37:03.615508Z",
     "iopub.status.idle": "2025-03-31T15:37:05.487076Z",
     "shell.execute_reply": "2025-03-31T15:37:05.486148Z"
    },
    "papermill": {
     "duration": 1.889248,
     "end_time": "2025-03-31T15:37:05.488602",
     "exception": false,
     "start_time": "2025-03-31T15:37:03.599354",
     "status": "completed"
    },
    "tags": []
   },
   "outputs": [
    {
     "data": {
      "text/markdown": [
       "\n",
       "\n",
       "**<font color='red'>Question:</font>** Name an opera by Enesco.\n",
       "\n",
       "\n",
       "**<font color='green'>Answer:</font>** The Magic Flute\n",
       "\n",
       "\n",
       "\n",
       "**<font color='magenta'>Total time:</font>** 1.87 sec."
      ],
      "text/plain": [
       "<IPython.core.display.Markdown object>"
      ]
     },
     "metadata": {},
     "output_type": "display_data"
    }
   ],
   "source": [
    "generate_format_answer(\"Name an opera by Enesco.\")"
   ]
  },
  {
   "cell_type": "markdown",
   "id": "8acc9b0b",
   "metadata": {
    "papermill": {
     "duration": 0.014662,
     "end_time": "2025-03-31T15:37:05.518695",
     "exception": false,
     "start_time": "2025-03-31T15:37:05.504033",
     "status": "completed"
    },
    "tags": []
   },
   "source": [
    "This is wrong. This opera belongs to Mozart."
   ]
  },
  {
   "cell_type": "code",
   "execution_count": 34,
   "id": "7a7f36e0",
   "metadata": {
    "execution": {
     "iopub.execute_input": "2025-03-31T15:37:05.549323Z",
     "iopub.status.busy": "2025-03-31T15:37:05.548960Z",
     "iopub.status.idle": "2025-03-31T15:37:07.642638Z",
     "shell.execute_reply": "2025-03-31T15:37:07.641667Z"
    },
    "papermill": {
     "duration": 2.110719,
     "end_time": "2025-03-31T15:37:07.644197",
     "exception": false,
     "start_time": "2025-03-31T15:37:05.533478",
     "status": "completed"
    },
    "tags": []
   },
   "outputs": [
    {
     "data": {
      "text/markdown": [
       "\n",
       "\n",
       "**<font color='red'>Question:</font>** Who is the author of 'The Russian Ballets'?\n",
       "\n",
       "\n",
       "**<font color='green'>Answer:</font>** Sergei Diaghilev\n",
       "\n",
       "\n",
       "\n",
       "**<font color='magenta'>Total time:</font>** 2.09 sec."
      ],
      "text/plain": [
       "<IPython.core.display.Markdown object>"
      ]
     },
     "metadata": {},
     "output_type": "display_data"
    }
   ],
   "source": [
    "generate_format_answer(\"Who is the author of 'The Russian Ballets'?\")"
   ]
  },
  {
   "cell_type": "code",
   "execution_count": 35,
   "id": "ae8d6932",
   "metadata": {
    "execution": {
     "iopub.execute_input": "2025-03-31T15:37:07.675546Z",
     "iopub.status.busy": "2025-03-31T15:37:07.675125Z",
     "iopub.status.idle": "2025-03-31T15:37:10.040261Z",
     "shell.execute_reply": "2025-03-31T15:37:10.039290Z"
    },
    "papermill": {
     "duration": 2.382395,
     "end_time": "2025-03-31T15:37:10.041751",
     "exception": false,
     "start_time": "2025-03-31T15:37:07.659356",
     "status": "completed"
    },
    "tags": []
   },
   "outputs": [
    {
     "data": {
      "text/markdown": [
       "\n",
       "\n",
       "**<font color='red'>Question:</font>** To what school belongs Le Corbusier?\n",
       "\n",
       "\n",
       "**<font color='green'>Answer:</font>** The School of Architecture in Paris\n",
       "\n",
       "\n",
       "\n",
       "**<font color='magenta'>Total time:</font>** 2.36 sec."
      ],
      "text/plain": [
       "<IPython.core.display.Markdown object>"
      ]
     },
     "metadata": {},
     "output_type": "display_data"
    }
   ],
   "source": [
    "generate_format_answer(\"To what school belongs Le Corbusier?\")"
   ]
  },
  {
   "cell_type": "markdown",
   "id": "e092aafb",
   "metadata": {
    "papermill": {
     "duration": 0.014429,
     "end_time": "2025-03-31T15:37:10.071212",
     "exception": false,
     "start_time": "2025-03-31T15:37:10.056783",
     "status": "completed"
    },
    "tags": []
   },
   "source": [
    "A more correct answer will be \"The international school of architecture\"."
   ]
  },
  {
   "cell_type": "code",
   "execution_count": 36,
   "id": "fba80220",
   "metadata": {
    "execution": {
     "iopub.execute_input": "2025-03-31T15:37:10.101983Z",
     "iopub.status.busy": "2025-03-31T15:37:10.101627Z",
     "iopub.status.idle": "2025-03-31T15:37:12.184114Z",
     "shell.execute_reply": "2025-03-31T15:37:12.183077Z"
    },
    "papermill": {
     "duration": 2.09973,
     "end_time": "2025-03-31T15:37:12.185736",
     "exception": false,
     "start_time": "2025-03-31T15:37:10.086006",
     "status": "completed"
    },
    "tags": []
   },
   "outputs": [
    {
     "data": {
      "text/markdown": [
       "\n",
       "\n",
       "**<font color='red'>Question:</font>** Name a work by Gaudi.\n",
       "\n",
       "\n",
       "**<font color='green'>Answer:</font>** The Sagrada Familia.\n",
       "\n",
       "\n",
       "\n",
       "**<font color='magenta'>Total time:</font>** 2.08 sec."
      ],
      "text/plain": [
       "<IPython.core.display.Markdown object>"
      ]
     },
     "metadata": {},
     "output_type": "display_data"
    }
   ],
   "source": [
    "generate_format_answer(\"Name a work by Gaudi.\")"
   ]
  },
  {
   "cell_type": "markdown",
   "id": "af3fff9f",
   "metadata": {
    "papermill": {
     "duration": 0.014777,
     "end_time": "2025-03-31T15:37:12.215677",
     "exception": false,
     "start_time": "2025-03-31T15:37:12.200900",
     "status": "completed"
    },
    "tags": []
   },
   "source": [
    "The model is able to answer well to a variety of subjects. It is not very good with more in-depth questions. Here we will give few examples."
   ]
  },
  {
   "cell_type": "code",
   "execution_count": 37,
   "id": "56ae5193",
   "metadata": {
    "execution": {
     "iopub.execute_input": "2025-03-31T15:37:12.246667Z",
     "iopub.status.busy": "2025-03-31T15:37:12.246300Z",
     "iopub.status.idle": "2025-03-31T15:37:33.702052Z",
     "shell.execute_reply": "2025-03-31T15:37:33.701059Z"
    },
    "papermill": {
     "duration": 21.473149,
     "end_time": "2025-03-31T15:37:33.703720",
     "exception": false,
     "start_time": "2025-03-31T15:37:12.230571",
     "status": "completed"
    },
    "tags": []
   },
   "outputs": [
    {
     "data": {
      "text/markdown": [
       "\n",
       "\n",
       "**<font color='red'>Question:</font>** What is ostracism?\n",
       "\n",
       "\n",
       "**<font color='green'>Answer:</font>** When someone is excluded from a group or community.\n",
       "\n",
       "\n",
       "\n",
       "**<font color='magenta'>Total time:</font>** 21.45 sec."
      ],
      "text/plain": [
       "<IPython.core.display.Markdown object>"
      ]
     },
     "metadata": {},
     "output_type": "display_data"
    }
   ],
   "source": [
    "generate_format_answer(\"What is ostracism?\", max_length=100)"
   ]
  },
  {
   "cell_type": "markdown",
   "id": "6b2e7149",
   "metadata": {
    "papermill": {
     "duration": 0.015163,
     "end_time": "2025-03-31T15:37:33.734746",
     "exception": false,
     "start_time": "2025-03-31T15:37:33.719583",
     "status": "completed"
    },
    "tags": []
   },
   "source": [
    "The correct answer will refer first to the Ancient Greece mechanism to protect the City-state against tyrany."
   ]
  },
  {
   "cell_type": "code",
   "execution_count": 38,
   "id": "78b9bdfd",
   "metadata": {
    "execution": {
     "iopub.execute_input": "2025-03-31T15:37:33.766373Z",
     "iopub.status.busy": "2025-03-31T15:37:33.766034Z",
     "iopub.status.idle": "2025-03-31T15:37:36.998846Z",
     "shell.execute_reply": "2025-03-31T15:37:36.997889Z"
    },
    "papermill": {
     "duration": 3.250245,
     "end_time": "2025-03-31T15:37:37.000386",
     "exception": false,
     "start_time": "2025-03-31T15:37:33.750141",
     "status": "completed"
    },
    "tags": []
   },
   "outputs": [
    {
     "data": {
      "text/markdown": [
       "\n",
       "\n",
       "**<font color='red'>Question:</font>** What was Pnyx?\n",
       "\n",
       "\n",
       "**<font color='green'>Answer:</font>** A place where the gods lived.\n",
       "\n",
       "\n",
       "\n",
       "**<font color='magenta'>Total time:</font>** 3.23 sec."
      ],
      "text/plain": [
       "<IPython.core.display.Markdown object>"
      ]
     },
     "metadata": {},
     "output_type": "display_data"
    }
   ],
   "source": [
    "generate_format_answer(\"What was Pnyx?\", max_length=100)"
   ]
  },
  {
   "cell_type": "markdown",
   "id": "d5f5d9b0",
   "metadata": {
    "papermill": {
     "duration": 0.01485,
     "end_time": "2025-03-31T15:37:37.031038",
     "exception": false,
     "start_time": "2025-03-31T15:37:37.016188",
     "status": "completed"
    },
    "tags": []
   },
   "source": [
    "The correct answer would mention the assembly place in Ancient Athens."
   ]
  },
  {
   "cell_type": "code",
   "execution_count": 39,
   "id": "23c5febf",
   "metadata": {
    "execution": {
     "iopub.execute_input": "2025-03-31T15:37:37.062475Z",
     "iopub.status.busy": "2025-03-31T15:37:37.062073Z",
     "iopub.status.idle": "2025-03-31T15:37:40.772230Z",
     "shell.execute_reply": "2025-03-31T15:37:40.771232Z"
    },
    "papermill": {
     "duration": 3.72768,
     "end_time": "2025-03-31T15:37:40.773793",
     "exception": false,
     "start_time": "2025-03-31T15:37:37.046113",
     "status": "completed"
    },
    "tags": []
   },
   "outputs": [
    {
     "data": {
      "text/markdown": [
       "\n",
       "\n",
       "**<font color='red'>Question:</font>** What was Graphe Paranomon?\n",
       "\n",
       "\n",
       "**<font color='green'>Answer:</font>** A person who is a genius at writing.\n",
       "\n",
       "\n",
       "\n",
       "**<font color='magenta'>Total time:</font>** 3.7 sec."
      ],
      "text/plain": [
       "<IPython.core.display.Markdown object>"
      ]
     },
     "metadata": {},
     "output_type": "display_data"
    }
   ],
   "source": [
    "generate_format_answer(\"What was Graphe Paranomon?\", max_length=100)"
   ]
  },
  {
   "cell_type": "markdown",
   "id": "61b4b909",
   "metadata": {
    "papermill": {
     "duration": 0.015721,
     "end_time": "2025-03-31T15:37:40.805752",
     "exception": false,
     "start_time": "2025-03-31T15:37:40.790031",
     "status": "completed"
    },
    "tags": []
   },
   "source": [
    "The correct answer will refer to a mechanism of judicial review of unlawful laws in Ancient Athens constitution in IV-th century B.C."
   ]
  },
  {
   "cell_type": "markdown",
   "id": "6a573361",
   "metadata": {
    "papermill": {
     "duration": 0.015291,
     "end_time": "2025-03-31T15:37:40.836865",
     "exception": false,
     "start_time": "2025-03-31T15:37:40.821574",
     "status": "completed"
    },
    "tags": []
   },
   "source": [
    "## Let's explore more about technology\n",
    "\n"
   ]
  },
  {
   "cell_type": "code",
   "execution_count": 40,
   "id": "6bad8606",
   "metadata": {
    "execution": {
     "iopub.execute_input": "2025-03-31T15:37:40.869270Z",
     "iopub.status.busy": "2025-03-31T15:37:40.868885Z",
     "iopub.status.idle": "2025-03-31T15:38:04.691102Z",
     "shell.execute_reply": "2025-03-31T15:38:04.690145Z"
    },
    "papermill": {
     "duration": 23.840415,
     "end_time": "2025-03-31T15:38:04.692613",
     "exception": false,
     "start_time": "2025-03-31T15:37:40.852198",
     "status": "completed"
    },
    "tags": []
   },
   "outputs": [
    {
     "data": {
      "text/markdown": [
       "\n",
       "\n",
       "**<font color='red'>Question:</font>** What is XGBoost?\n",
       "\n",
       "\n",
       "**<font color='green'>Answer:</font>** XGBoost is a machine learning algorithm that is used to solve classification problems. It is a gradient boosting algorithm that is used to\n",
       "\n",
       "\n",
       "\n",
       "**<font color='magenta'>Total time:</font>** 23.82 sec."
      ],
      "text/plain": [
       "<IPython.core.display.Markdown object>"
      ]
     },
     "metadata": {},
     "output_type": "display_data"
    }
   ],
   "source": [
    "generate_format_answer(\"What is XGBoost?\", \n",
    "                       max_length=50)"
   ]
  },
  {
   "cell_type": "code",
   "execution_count": 41,
   "id": "c97a7218",
   "metadata": {
    "execution": {
     "iopub.execute_input": "2025-03-31T15:38:04.725717Z",
     "iopub.status.busy": "2025-03-31T15:38:04.725336Z",
     "iopub.status.idle": "2025-03-31T15:38:08.979317Z",
     "shell.execute_reply": "2025-03-31T15:38:08.978297Z"
    },
    "papermill": {
     "duration": 4.272247,
     "end_time": "2025-03-31T15:38:08.981032",
     "exception": false,
     "start_time": "2025-03-31T15:38:04.708785",
     "status": "completed"
    },
    "tags": []
   },
   "outputs": [
    {
     "data": {
      "text/markdown": [
       "\n",
       "\n",
       "**<font color='red'>Question:</font>** What is AlphaFold?\n",
       "\n",
       "\n",
       "**<font color='green'>Answer:</font>** AlphaFold is a computer program that predicts the structure of proteins. It is\n",
       "\n",
       "\n",
       "\n",
       "**<font color='magenta'>Total time:</font>** 4.25 sec."
      ],
      "text/plain": [
       "<IPython.core.display.Markdown object>"
      ]
     },
     "metadata": {},
     "output_type": "display_data"
    }
   ],
   "source": [
    "generate_format_answer(\"What is AlphaFold?\")"
   ]
  },
  {
   "cell_type": "code",
   "execution_count": 42,
   "id": "5ed41c1b",
   "metadata": {
    "execution": {
     "iopub.execute_input": "2025-03-31T15:38:09.013551Z",
     "iopub.status.busy": "2025-03-31T15:38:09.013165Z",
     "iopub.status.idle": "2025-03-31T15:38:13.463305Z",
     "shell.execute_reply": "2025-03-31T15:38:13.462479Z"
    },
    "papermill": {
     "duration": 4.468112,
     "end_time": "2025-03-31T15:38:13.464928",
     "exception": false,
     "start_time": "2025-03-31T15:38:08.996816",
     "status": "completed"
    },
    "tags": []
   },
   "outputs": [
    {
     "data": {
      "text/markdown": [
       "\n",
       "\n",
       "**<font color='red'>Question:</font>** What is RandomForest?\n",
       "\n",
       "\n",
       "**<font color='green'>Answer:</font>** A machine learning algorithm that uses a combination of decision trees to make predictions.\n",
       "\n",
       "\n",
       "\n",
       "**<font color='magenta'>Total time:</font>** 4.44 sec."
      ],
      "text/plain": [
       "<IPython.core.display.Markdown object>"
      ]
     },
     "metadata": {},
     "output_type": "display_data"
    }
   ],
   "source": [
    "generate_format_answer(\"What is RandomForest?\")"
   ]
  },
  {
   "cell_type": "markdown",
   "id": "9119f566",
   "metadata": {
    "papermill": {
     "duration": 0.015368,
     "end_time": "2025-03-31T15:38:13.496290",
     "exception": false,
     "start_time": "2025-03-31T15:38:13.480922",
     "status": "completed"
    },
    "tags": []
   },
   "source": [
    "## Let's do math"
   ]
  },
  {
   "cell_type": "code",
   "execution_count": 43,
   "id": "1e7660fa",
   "metadata": {
    "execution": {
     "iopub.execute_input": "2025-03-31T15:38:13.528635Z",
     "iopub.status.busy": "2025-03-31T15:38:13.528266Z",
     "iopub.status.idle": "2025-03-31T15:38:16.322325Z",
     "shell.execute_reply": "2025-03-31T15:38:16.321644Z"
    },
    "papermill": {
     "duration": 2.812052,
     "end_time": "2025-03-31T15:38:16.323941",
     "exception": false,
     "start_time": "2025-03-31T15:38:13.511889",
     "status": "completed"
    },
    "tags": []
   },
   "outputs": [
    {
     "data": {
      "text/markdown": [
       "\n",
       "\n",
       "**<font color='red'>Question:</font>** What is 123 + 11?\n",
       "\n",
       "\n",
       "**<font color='green'>Answer:</font>** 134\n",
       "\n",
       "You are an AI\n",
       "\n",
       "\n",
       "\n",
       "**<font color='magenta'>Total time:</font>** 2.79 sec."
      ],
      "text/plain": [
       "<IPython.core.display.Markdown object>"
      ]
     },
     "metadata": {},
     "output_type": "display_data"
    }
   ],
   "source": [
    "generate_format_answer(\"What is 123 + 11?\")"
   ]
  },
  {
   "cell_type": "code",
   "execution_count": 44,
   "id": "2e28e57e",
   "metadata": {
    "execution": {
     "iopub.execute_input": "2025-03-31T15:38:16.358522Z",
     "iopub.status.busy": "2025-03-31T15:38:16.358131Z",
     "iopub.status.idle": "2025-03-31T15:38:18.262470Z",
     "shell.execute_reply": "2025-03-31T15:38:18.261467Z"
    },
    "papermill": {
     "duration": 1.923161,
     "end_time": "2025-03-31T15:38:18.264006",
     "exception": false,
     "start_time": "2025-03-31T15:38:16.340845",
     "status": "completed"
    },
    "tags": []
   },
   "outputs": [
    {
     "data": {
      "text/markdown": [
       "\n",
       "\n",
       "**<font color='red'>Question:</font>** What is 25 x 25?\n",
       "\n",
       "\n",
       "**<font color='green'>Answer:</font>** 625\n",
       "\n",
       "\n",
       "\n",
       "**<font color='magenta'>Total time:</font>** 1.9 sec."
      ],
      "text/plain": [
       "<IPython.core.display.Markdown object>"
      ]
     },
     "metadata": {},
     "output_type": "display_data"
    }
   ],
   "source": [
    "generate_format_answer(\"What is 25 x 25?\")"
   ]
  },
  {
   "cell_type": "markdown",
   "id": "c8adb0a4",
   "metadata": {
    "papermill": {
     "duration": 0.015835,
     "end_time": "2025-03-31T15:38:18.297131",
     "exception": false,
     "start_time": "2025-03-31T15:38:18.281296",
     "status": "completed"
    },
    "tags": []
   },
   "source": [
    "## More math and Python code"
   ]
  },
  {
   "cell_type": "code",
   "execution_count": 45,
   "id": "44531943",
   "metadata": {
    "execution": {
     "iopub.execute_input": "2025-03-31T15:38:18.330951Z",
     "iopub.status.busy": "2025-03-31T15:38:18.330606Z",
     "iopub.status.idle": "2025-03-31T15:38:18.334557Z",
     "shell.execute_reply": "2025-03-31T15:38:18.333688Z"
    },
    "papermill": {
     "duration": 0.022635,
     "end_time": "2025-03-31T15:38:18.336006",
     "exception": false,
     "start_time": "2025-03-31T15:38:18.313371",
     "status": "completed"
    },
    "tags": []
   },
   "outputs": [],
   "source": [
    "prompt = \"\"\"\n",
    "You are an AI assistant designed to write simple Python code.\n",
    "Please answer with the listing of the Python code.\n",
    "Make sure to format the output using correct Markdown for code.\n",
    "Question: {question}\n",
    "Answer:\n",
    "\"\"\""
   ]
  },
  {
   "cell_type": "code",
   "execution_count": 46,
   "id": "66243dcf",
   "metadata": {
    "execution": {
     "iopub.execute_input": "2025-03-31T15:38:18.369579Z",
     "iopub.status.busy": "2025-03-31T15:38:18.369198Z",
     "iopub.status.idle": "2025-03-31T15:38:43.663900Z",
     "shell.execute_reply": "2025-03-31T15:38:43.662537Z"
    },
    "papermill": {
     "duration": 25.313506,
     "end_time": "2025-03-31T15:38:43.666107",
     "exception": false,
     "start_time": "2025-03-31T15:38:18.352601",
     "status": "completed"
    },
    "tags": []
   },
   "outputs": [
    {
     "data": {
      "text/markdown": [
       "\n",
       "You are an AI assistant designed to write simple Python code.\n",
       "Please answer with the listing of the Python code.\n",
       "Make sure to format the output using correct Markdown for code.\n",
       "\n",
       "\n",
       "**<font color='red'>Question:</font>** Please write a function in Python to calculate the area of a circle of radius r\n",
       "\n",
       "\n",
       "**<font color='green'>Answer:</font>**\n",
       "def area(r):\n",
       "return 3.14 * r * r\n",
       "print(area(10))\n",
       "\n",
       "\n",
       "\n",
       "\n",
       "**<font color='magenta'>Total time:</font>** 25.29 sec."
      ],
      "text/plain": [
       "<IPython.core.display.Markdown object>"
      ]
     },
     "metadata": {},
     "output_type": "display_data"
    }
   ],
   "source": [
    "t = time()\n",
    "response = gemma_lm.generate(prompt.format(question=\"Please write a function in Python to calculate the area of a circle of radius r\"), max_length=128)\n",
    "display(Markdown(colorize_text(f\"{response}\\n\\nTotal time: {round(time()-t, 2)} sec.\")))"
   ]
  },
  {
   "cell_type": "code",
   "execution_count": 47,
   "id": "265b9362",
   "metadata": {
    "execution": {
     "iopub.execute_input": "2025-03-31T15:38:43.700042Z",
     "iopub.status.busy": "2025-03-31T15:38:43.699660Z",
     "iopub.status.idle": "2025-03-31T15:39:20.308916Z",
     "shell.execute_reply": "2025-03-31T15:39:20.307899Z"
    },
    "papermill": {
     "duration": 36.644035,
     "end_time": "2025-03-31T15:39:20.326567",
     "exception": false,
     "start_time": "2025-03-31T15:38:43.682532",
     "status": "completed"
    },
    "tags": []
   },
   "outputs": [
    {
     "data": {
      "text/markdown": [
       "\n",
       "You are an AI assistant designed to write simple Python code.\n",
       "Please answer with the listing of the Python code.\n",
       "Make sure to format the output using correct Markdown for code.\n",
       "\n",
       "\n",
       "**<font color='red'>Question:</font>** Please write a function to order a list in Python\n",
       "\n",
       "\n",
       "**<font color='green'>Answer:</font>**\n",
       "def order_list(list):\n",
       "for i in range(len(list)):\n",
       "for j in range(i+1, len(list)):\n",
       "if list[i] > list[j]:\n",
       "list[i], list[j] = list[j], list[i]\n",
       "return list\n",
       "\n",
       "\n",
       "\n",
       "\n",
       "**<font color='magenta'>Total time:</font>** 36.6 sec."
      ],
      "text/plain": [
       "<IPython.core.display.Markdown object>"
      ]
     },
     "metadata": {},
     "output_type": "display_data"
    }
   ],
   "source": [
    "t = time()\n",
    "response = gemma_lm.generate(prompt.format(question=\"Please write a function to order a list in Python\"), max_length=256)\n",
    "display(Markdown(colorize_text(f\"{response}\\n\\nTotal time: {round(time()-t, 2)} sec.\")))"
   ]
  },
  {
   "cell_type": "markdown",
   "id": "75a3496f",
   "metadata": {
    "papermill": {
     "duration": 0.015852,
     "end_time": "2025-03-31T15:39:20.359113",
     "exception": false,
     "start_time": "2025-03-31T15:39:20.343261",
     "status": "completed"
    },
    "tags": []
   },
   "source": [
    "# Conclusions\n",
    "\n",
    "\n",
    "The Gemma 3 model (1B) from Google DeepMind is powerful for its size and can answer to a lot of questions about history, politics, culture, art as well as simple math.  \n",
    "When prompted with more difficult questions, requiring more in-depth knowledge about certain domains, the model didn't provide an accurate answer. \n",
    "It is not great with writing code and formating the output when asked to write code.  \n",
    "The model will perform best with questions related to common knowledge."
   ]
  }
 ],
 "metadata": {
  "kaggle": {
   "accelerator": "none",
   "dataSources": [
    {
     "modelId": 279036,
     "modelInstanceId": 257756,
     "sourceId": 301815,
     "sourceType": "modelInstanceVersion"
    }
   ],
   "dockerImageVersionId": 30918,
   "isGpuEnabled": false,
   "isInternetEnabled": true,
   "language": "python",
   "sourceType": "notebook"
  },
  "kernelspec": {
   "display_name": "Python 3",
   "language": "python",
   "name": "python3"
  },
  "language_info": {
   "codemirror_mode": {
    "name": "ipython",
    "version": 3
   },
   "file_extension": ".py",
   "mimetype": "text/x-python",
   "name": "python",
   "nbconvert_exporter": "python",
   "pygments_lexer": "ipython3",
   "version": "3.10.12"
  },
  "papermill": {
   "default_parameters": {},
   "duration": 264.837572,
   "end_time": "2025-03-31T15:39:24.102175",
   "environment_variables": {},
   "exception": null,
   "input_path": "__notebook__.ipynb",
   "output_path": "__notebook__.ipynb",
   "parameters": {},
   "start_time": "2025-03-31T15:34:59.264603",
   "version": "2.6.0"
  }
 },
 "nbformat": 4,
 "nbformat_minor": 5
}
