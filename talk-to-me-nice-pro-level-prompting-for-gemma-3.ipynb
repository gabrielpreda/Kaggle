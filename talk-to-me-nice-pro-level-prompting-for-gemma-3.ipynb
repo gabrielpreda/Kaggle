{
 "cells": [
  {
   "cell_type": "markdown",
   "id": "9d2d1916",
   "metadata": {
    "_cell_guid": "b1076dfc-b9ad-4769-8c92-a6c4dae69d19",
    "_uuid": "8f2839f25d086af736a60e9eeb907d3b93b6e0e5",
    "papermill": {
     "duration": 0.013663,
     "end_time": "2025-04-02T20:45:43.320722",
     "exception": false,
     "start_time": "2025-04-02T20:45:43.307059",
     "status": "completed"
    },
    "tags": []
   },
   "source": [
    "\n",
    "<center><img src=\"https://www.geeky-gadgets.com/wp-content/uploads/2025/03/google-gemma-3-advanced-ai-models.webp\"></img></center>\n",
    "\n",
    "# Introduction\n",
    "This Notebook will explore how to prompt Gemma 3, using KerasNLP. \n",
    "At this point, Keras version of Gemma 3 is quite new, and the code to run it is not yet documented.\n",
    "\n",
    "\n",
    "## What is Gemma?\n",
    "Gemma is a family of lightweight, state-of-the art open models built from the same research and technology used to create the Gemini models. At the 3rd generation now, Gemma 3 comes in 4 sizes, **1B**, **4B**, **12B** and **27B**, both pretrained and instruction finetuned versions.   \n",
    "\n",
    "Models **4B**, **12B**, **27B** brings an extended context window (up to **128K**) as well as **multi-modality** (text and image). \n",
    "\n",
    "The **1B** model, although incredibly compact, is not only very fast but is also quite powerful.\n",
    "\n",
    "Will use the **1B** model, on CPU only, without any accelerator.\n",
    "\n",
    "\n",
    "# Prerequisites\n",
    "\n",
    "## Install packages\n",
    "\n",
    "We will install Keras and KerasNLP."
   ]
  },
  {
   "cell_type": "code",
   "execution_count": 1,
   "id": "e15eea66",
   "metadata": {
    "execution": {
     "iopub.execute_input": "2025-04-02T20:45:43.345926Z",
     "iopub.status.busy": "2025-04-02T20:45:43.345505Z",
     "iopub.status.idle": "2025-04-02T20:45:57.892121Z",
     "shell.execute_reply": "2025-04-02T20:45:57.890552Z"
    },
    "papermill": {
     "duration": 14.561644,
     "end_time": "2025-04-02T20:45:57.894335",
     "exception": false,
     "start_time": "2025-04-02T20:45:43.332691",
     "status": "completed"
    },
    "tags": []
   },
   "outputs": [
    {
     "name": "stdout",
     "output_type": "stream",
     "text": [
      "\u001b[2K   \u001b[90m━━━━━━━━━━━━━━━━━━━━━━━━━━━━━━━━━━━━━━━━\u001b[0m \u001b[32m731.3/731.3 kB\u001b[0m \u001b[31m9.6 MB/s\u001b[0m eta \u001b[36m0:00:00\u001b[0m\r\n",
      "\u001b[2K   \u001b[90m━━━━━━━━━━━━━━━━━━━━━━━━━━━━━━━━━━━━━━━━\u001b[0m \u001b[32m1.3/1.3 MB\u001b[0m \u001b[31m15.4 MB/s\u001b[0m eta \u001b[36m0:00:00\u001b[0m\r\n",
      "\u001b[?25h\u001b[31mERROR: pip's dependency resolver does not currently take into account all the packages that are installed. This behaviour is the source of the following dependency conflicts.\r\n",
      "tensorflow-decision-forests 1.10.0 requires tensorflow==2.17.0, but you have tensorflow 2.17.1 which is incompatible.\u001b[0m\u001b[31m\r\n",
      "\u001b[0m"
     ]
    }
   ],
   "source": [
    "!pip install -q -U keras-nlp\n",
    "!pip install -q -U keras"
   ]
  },
  {
   "cell_type": "markdown",
   "id": "173d45f6",
   "metadata": {
    "papermill": {
     "duration": 0.012014,
     "end_time": "2025-04-02T20:45:57.919188",
     "exception": false,
     "start_time": "2025-04-02T20:45:57.907174",
     "status": "completed"
    },
    "tags": []
   },
   "source": [
    "## Import packages"
   ]
  },
  {
   "cell_type": "code",
   "execution_count": 2,
   "id": "3136b073",
   "metadata": {
    "execution": {
     "iopub.execute_input": "2025-04-02T20:45:57.945245Z",
     "iopub.status.busy": "2025-04-02T20:45:57.944845Z",
     "iopub.status.idle": "2025-04-02T20:46:17.280654Z",
     "shell.execute_reply": "2025-04-02T20:46:17.279553Z"
    },
    "papermill": {
     "duration": 19.351339,
     "end_time": "2025-04-02T20:46:17.282856",
     "exception": false,
     "start_time": "2025-04-02T20:45:57.931517",
     "status": "completed"
    },
    "tags": []
   },
   "outputs": [],
   "source": [
    "import keras\n",
    "import keras_nlp\n",
    "from keras_nlp.samplers import TopKSampler\n",
    "from time import time"
   ]
  },
  {
   "cell_type": "markdown",
   "id": "d4fee255",
   "metadata": {
    "papermill": {
     "duration": 0.011837,
     "end_time": "2025-04-02T20:46:17.307434",
     "exception": false,
     "start_time": "2025-04-02T20:46:17.295597",
     "status": "completed"
    },
    "tags": []
   },
   "source": [
    "Select the backend. Keras is a high-level, multi-framework deep learning API designed for simplicity and ease of use. Keras 3 lets you choose the backend: TensorFlow, JAX, or PyTorch. For this Notebook, we will choose jax as backend."
   ]
  },
  {
   "cell_type": "code",
   "execution_count": 3,
   "id": "c1159891",
   "metadata": {
    "execution": {
     "iopub.execute_input": "2025-04-02T20:46:17.335328Z",
     "iopub.status.busy": "2025-04-02T20:46:17.334656Z",
     "iopub.status.idle": "2025-04-02T20:46:17.339865Z",
     "shell.execute_reply": "2025-04-02T20:46:17.338497Z"
    },
    "papermill": {
     "duration": 0.022238,
     "end_time": "2025-04-02T20:46:17.342090",
     "exception": false,
     "start_time": "2025-04-02T20:46:17.319852",
     "status": "completed"
    },
    "tags": []
   },
   "outputs": [],
   "source": [
    "import os\n",
    "os.environ[\"KERAS_BACKEND\"] = \"jax\"\n",
    "os.environ[\"XLA_PYTHON_CLIENT_MEM_FRACTION\"] = \"0.9\""
   ]
  },
  {
   "cell_type": "markdown",
   "id": "caadf9d2",
   "metadata": {
    "papermill": {
     "duration": 0.013069,
     "end_time": "2025-04-02T20:46:17.369579",
     "exception": false,
     "start_time": "2025-04-02T20:46:17.356510",
     "status": "completed"
    },
    "tags": []
   },
   "source": [
    "## Initialize the model\n",
    "\n",
    "Make sure to use `Gemma3CausalLM` to initialize the model, not the `GemmaCausalLM`. Otherwise the Gemma3 backbone will not be recognized."
   ]
  },
  {
   "cell_type": "code",
   "execution_count": 4,
   "id": "cf712fb7",
   "metadata": {
    "execution": {
     "iopub.execute_input": "2025-04-02T20:46:17.396580Z",
     "iopub.status.busy": "2025-04-02T20:46:17.396169Z",
     "iopub.status.idle": "2025-04-02T20:46:48.287438Z",
     "shell.execute_reply": "2025-04-02T20:46:48.286083Z"
    },
    "papermill": {
     "duration": 30.90649,
     "end_time": "2025-04-02T20:46:48.289508",
     "exception": false,
     "start_time": "2025-04-02T20:46:17.383018",
     "status": "completed"
    },
    "tags": []
   },
   "outputs": [],
   "source": [
    "gemma_lm = keras_nlp.models.Gemma3CausalLM.from_preset(\"/kaggle/input/gemma3/keras/gemma3_1b/1\")"
   ]
  },
  {
   "cell_type": "code",
   "execution_count": 5,
   "id": "0456e635",
   "metadata": {
    "execution": {
     "iopub.execute_input": "2025-04-02T20:46:48.322462Z",
     "iopub.status.busy": "2025-04-02T20:46:48.322070Z",
     "iopub.status.idle": "2025-04-02T20:46:48.666911Z",
     "shell.execute_reply": "2025-04-02T20:46:48.662595Z"
    },
    "papermill": {
     "duration": 0.365703,
     "end_time": "2025-04-02T20:46:48.672014",
     "exception": false,
     "start_time": "2025-04-02T20:46:48.306311",
     "status": "completed"
    },
    "tags": []
   },
   "outputs": [],
   "source": [
    "tokenizer = keras_nlp.models.Gemma3Tokenizer.from_preset(\"/kaggle/input/gemma3/keras/gemma3_1b/1\")"
   ]
  },
  {
   "cell_type": "markdown",
   "id": "b088017f",
   "metadata": {
    "papermill": {
     "duration": 0.018155,
     "end_time": "2025-04-02T20:46:48.712518",
     "exception": false,
     "start_time": "2025-04-02T20:46:48.694363",
     "status": "completed"
    },
    "tags": []
   },
   "source": [
    "Let's verify the model now."
   ]
  },
  {
   "cell_type": "code",
   "execution_count": 6,
   "id": "6a2552c7",
   "metadata": {
    "execution": {
     "iopub.execute_input": "2025-04-02T20:46:48.747730Z",
     "iopub.status.busy": "2025-04-02T20:46:48.747280Z",
     "iopub.status.idle": "2025-04-02T20:46:48.789522Z",
     "shell.execute_reply": "2025-04-02T20:46:48.788406Z"
    },
    "papermill": {
     "duration": 0.060996,
     "end_time": "2025-04-02T20:46:48.791332",
     "exception": false,
     "start_time": "2025-04-02T20:46:48.730336",
     "status": "completed"
    },
    "tags": []
   },
   "outputs": [
    {
     "data": {
      "text/html": [
       "<pre style=\"white-space:pre;overflow-x:auto;line-height:normal;font-family:Menlo,'DejaVu Sans Mono',consolas,'Courier New',monospace\"><span style=\"font-weight: bold\">Preprocessor: \"gemma3_causal_lm_preprocessor\"</span>\n",
       "</pre>\n"
      ],
      "text/plain": [
       "\u001b[1mPreprocessor: \"gemma3_causal_lm_preprocessor\"\u001b[0m\n"
      ]
     },
     "metadata": {},
     "output_type": "display_data"
    },
    {
     "data": {
      "text/html": [
       "<pre style=\"white-space:pre;overflow-x:auto;line-height:normal;font-family:Menlo,'DejaVu Sans Mono',consolas,'Courier New',monospace\">┏━━━━━━━━━━━━━━━━━━━━━━━━━━━━━━━━━━━━━━━━━━━━━━━━━━━━━━━━━━━━━━━┳━━━━━━━━━━━━━━━━━━━━━━━━━━━━━━━━━━━━━━━━━━┓\n",
       "┃<span style=\"font-weight: bold\"> Layer (type)                                                  </span>┃<span style=\"font-weight: bold\">                                   Config </span>┃\n",
       "┡━━━━━━━━━━━━━━━━━━━━━━━━━━━━━━━━━━━━━━━━━━━━━━━━━━━━━━━━━━━━━━━╇━━━━━━━━━━━━━━━━━━━━━━━━━━━━━━━━━━━━━━━━━━┩\n",
       "│ gemma3_tokenizer (<span style=\"color: #0087ff; text-decoration-color: #0087ff\">Gemma3Tokenizer</span>)                            │                      Vocab size: <span style=\"color: #00af00; text-decoration-color: #00af00\">262,144</span> │\n",
       "└───────────────────────────────────────────────────────────────┴──────────────────────────────────────────┘\n",
       "</pre>\n"
      ],
      "text/plain": [
       "┏━━━━━━━━━━━━━━━━━━━━━━━━━━━━━━━━━━━━━━━━━━━━━━━━━━━━━━━━━━━━━━━┳━━━━━━━━━━━━━━━━━━━━━━━━━━━━━━━━━━━━━━━━━━┓\n",
       "┃\u001b[1m \u001b[0m\u001b[1mLayer (type)                                                 \u001b[0m\u001b[1m \u001b[0m┃\u001b[1m \u001b[0m\u001b[1m                                  Config\u001b[0m\u001b[1m \u001b[0m┃\n",
       "┡━━━━━━━━━━━━━━━━━━━━━━━━━━━━━━━━━━━━━━━━━━━━━━━━━━━━━━━━━━━━━━━╇━━━━━━━━━━━━━━━━━━━━━━━━━━━━━━━━━━━━━━━━━━┩\n",
       "│ gemma3_tokenizer (\u001b[38;5;33mGemma3Tokenizer\u001b[0m)                            │                      Vocab size: \u001b[38;5;34m262,144\u001b[0m │\n",
       "└───────────────────────────────────────────────────────────────┴──────────────────────────────────────────┘\n"
      ]
     },
     "metadata": {},
     "output_type": "display_data"
    },
    {
     "data": {
      "text/html": [
       "<pre style=\"white-space:pre;overflow-x:auto;line-height:normal;font-family:Menlo,'DejaVu Sans Mono',consolas,'Courier New',monospace\"><span style=\"font-weight: bold\">Model: \"gemma3_causal_lm\"</span>\n",
       "</pre>\n"
      ],
      "text/plain": [
       "\u001b[1mModel: \"gemma3_causal_lm\"\u001b[0m\n"
      ]
     },
     "metadata": {},
     "output_type": "display_data"
    },
    {
     "data": {
      "text/html": [
       "<pre style=\"white-space:pre;overflow-x:auto;line-height:normal;font-family:Menlo,'DejaVu Sans Mono',consolas,'Courier New',monospace\">┏━━━━━━━━━━━━━━━━━━━━━━━━━━━━━━━┳━━━━━━━━━━━━━━━━━━━━━━━━━━━┳━━━━━━━━━━━━━━━━━┳━━━━━━━━━━━━━━━━━━━━━━━━━━━━┓\n",
       "┃<span style=\"font-weight: bold\"> Layer (type)                  </span>┃<span style=\"font-weight: bold\"> Output Shape              </span>┃<span style=\"font-weight: bold\">         Param # </span>┃<span style=\"font-weight: bold\"> Connected to               </span>┃\n",
       "┡━━━━━━━━━━━━━━━━━━━━━━━━━━━━━━━╇━━━━━━━━━━━━━━━━━━━━━━━━━━━╇━━━━━━━━━━━━━━━━━╇━━━━━━━━━━━━━━━━━━━━━━━━━━━━┩\n",
       "│ padding_mask (<span style=\"color: #0087ff; text-decoration-color: #0087ff\">InputLayer</span>)     │ (<span style=\"color: #00d7ff; text-decoration-color: #00d7ff\">None</span>, <span style=\"color: #00d7ff; text-decoration-color: #00d7ff\">None</span>)              │               <span style=\"color: #00af00; text-decoration-color: #00af00\">0</span> │ -                          │\n",
       "├───────────────────────────────┼───────────────────────────┼─────────────────┼────────────────────────────┤\n",
       "│ token_ids (<span style=\"color: #0087ff; text-decoration-color: #0087ff\">InputLayer</span>)        │ (<span style=\"color: #00d7ff; text-decoration-color: #00d7ff\">None</span>, <span style=\"color: #00d7ff; text-decoration-color: #00d7ff\">None</span>)              │               <span style=\"color: #00af00; text-decoration-color: #00af00\">0</span> │ -                          │\n",
       "├───────────────────────────────┼───────────────────────────┼─────────────────┼────────────────────────────┤\n",
       "│ gemma3_backbone               │ (<span style=\"color: #00d7ff; text-decoration-color: #00d7ff\">None</span>, <span style=\"color: #00d7ff; text-decoration-color: #00d7ff\">None</span>, <span style=\"color: #00af00; text-decoration-color: #00af00\">1152</span>)        │     <span style=\"color: #00af00; text-decoration-color: #00af00\">999,885,952</span> │ padding_mask[<span style=\"color: #00af00; text-decoration-color: #00af00\">0</span>][<span style=\"color: #00af00; text-decoration-color: #00af00\">0</span>],        │\n",
       "│ (<span style=\"color: #0087ff; text-decoration-color: #0087ff\">Gemma3Backbone</span>)              │                           │                 │ token_ids[<span style=\"color: #00af00; text-decoration-color: #00af00\">0</span>][<span style=\"color: #00af00; text-decoration-color: #00af00\">0</span>]            │\n",
       "├───────────────────────────────┼───────────────────────────┼─────────────────┼────────────────────────────┤\n",
       "│ token_embedding               │ (<span style=\"color: #00d7ff; text-decoration-color: #00d7ff\">None</span>, <span style=\"color: #00d7ff; text-decoration-color: #00d7ff\">None</span>, <span style=\"color: #00af00; text-decoration-color: #00af00\">262144</span>)      │     <span style=\"color: #00af00; text-decoration-color: #00af00\">301,989,888</span> │ gemma3_backbone[<span style=\"color: #00af00; text-decoration-color: #00af00\">0</span>][<span style=\"color: #00af00; text-decoration-color: #00af00\">0</span>]      │\n",
       "│ (<span style=\"color: #0087ff; text-decoration-color: #0087ff\">ReversibleEmbedding</span>)         │                           │                 │                            │\n",
       "└───────────────────────────────┴───────────────────────────┴─────────────────┴────────────────────────────┘\n",
       "</pre>\n"
      ],
      "text/plain": [
       "┏━━━━━━━━━━━━━━━━━━━━━━━━━━━━━━━┳━━━━━━━━━━━━━━━━━━━━━━━━━━━┳━━━━━━━━━━━━━━━━━┳━━━━━━━━━━━━━━━━━━━━━━━━━━━━┓\n",
       "┃\u001b[1m \u001b[0m\u001b[1mLayer (type)                 \u001b[0m\u001b[1m \u001b[0m┃\u001b[1m \u001b[0m\u001b[1mOutput Shape             \u001b[0m\u001b[1m \u001b[0m┃\u001b[1m \u001b[0m\u001b[1m        Param #\u001b[0m\u001b[1m \u001b[0m┃\u001b[1m \u001b[0m\u001b[1mConnected to              \u001b[0m\u001b[1m \u001b[0m┃\n",
       "┡━━━━━━━━━━━━━━━━━━━━━━━━━━━━━━━╇━━━━━━━━━━━━━━━━━━━━━━━━━━━╇━━━━━━━━━━━━━━━━━╇━━━━━━━━━━━━━━━━━━━━━━━━━━━━┩\n",
       "│ padding_mask (\u001b[38;5;33mInputLayer\u001b[0m)     │ (\u001b[38;5;45mNone\u001b[0m, \u001b[38;5;45mNone\u001b[0m)              │               \u001b[38;5;34m0\u001b[0m │ -                          │\n",
       "├───────────────────────────────┼───────────────────────────┼─────────────────┼────────────────────────────┤\n",
       "│ token_ids (\u001b[38;5;33mInputLayer\u001b[0m)        │ (\u001b[38;5;45mNone\u001b[0m, \u001b[38;5;45mNone\u001b[0m)              │               \u001b[38;5;34m0\u001b[0m │ -                          │\n",
       "├───────────────────────────────┼───────────────────────────┼─────────────────┼────────────────────────────┤\n",
       "│ gemma3_backbone               │ (\u001b[38;5;45mNone\u001b[0m, \u001b[38;5;45mNone\u001b[0m, \u001b[38;5;34m1152\u001b[0m)        │     \u001b[38;5;34m999,885,952\u001b[0m │ padding_mask[\u001b[38;5;34m0\u001b[0m][\u001b[38;5;34m0\u001b[0m],        │\n",
       "│ (\u001b[38;5;33mGemma3Backbone\u001b[0m)              │                           │                 │ token_ids[\u001b[38;5;34m0\u001b[0m][\u001b[38;5;34m0\u001b[0m]            │\n",
       "├───────────────────────────────┼───────────────────────────┼─────────────────┼────────────────────────────┤\n",
       "│ token_embedding               │ (\u001b[38;5;45mNone\u001b[0m, \u001b[38;5;45mNone\u001b[0m, \u001b[38;5;34m262144\u001b[0m)      │     \u001b[38;5;34m301,989,888\u001b[0m │ gemma3_backbone[\u001b[38;5;34m0\u001b[0m][\u001b[38;5;34m0\u001b[0m]      │\n",
       "│ (\u001b[38;5;33mReversibleEmbedding\u001b[0m)         │                           │                 │                            │\n",
       "└───────────────────────────────┴───────────────────────────┴─────────────────┴────────────────────────────┘\n"
      ]
     },
     "metadata": {},
     "output_type": "display_data"
    },
    {
     "data": {
      "text/html": [
       "<pre style=\"white-space:pre;overflow-x:auto;line-height:normal;font-family:Menlo,'DejaVu Sans Mono',consolas,'Courier New',monospace\"><span style=\"font-weight: bold\"> Total params: </span><span style=\"color: #00af00; text-decoration-color: #00af00\">999,885,952</span> (3.72 GB)\n",
       "</pre>\n"
      ],
      "text/plain": [
       "\u001b[1m Total params: \u001b[0m\u001b[38;5;34m999,885,952\u001b[0m (3.72 GB)\n"
      ]
     },
     "metadata": {},
     "output_type": "display_data"
    },
    {
     "data": {
      "text/html": [
       "<pre style=\"white-space:pre;overflow-x:auto;line-height:normal;font-family:Menlo,'DejaVu Sans Mono',consolas,'Courier New',monospace\"><span style=\"font-weight: bold\"> Trainable params: </span><span style=\"color: #00af00; text-decoration-color: #00af00\">999,885,952</span> (3.72 GB)\n",
       "</pre>\n"
      ],
      "text/plain": [
       "\u001b[1m Trainable params: \u001b[0m\u001b[38;5;34m999,885,952\u001b[0m (3.72 GB)\n"
      ]
     },
     "metadata": {},
     "output_type": "display_data"
    },
    {
     "data": {
      "text/html": [
       "<pre style=\"white-space:pre;overflow-x:auto;line-height:normal;font-family:Menlo,'DejaVu Sans Mono',consolas,'Courier New',monospace\"><span style=\"font-weight: bold\"> Non-trainable params: </span><span style=\"color: #00af00; text-decoration-color: #00af00\">0</span> (0.00 B)\n",
       "</pre>\n"
      ],
      "text/plain": [
       "\u001b[1m Non-trainable params: \u001b[0m\u001b[38;5;34m0\u001b[0m (0.00 B)\n"
      ]
     },
     "metadata": {},
     "output_type": "display_data"
    }
   ],
   "source": [
    "gemma_lm.summary()"
   ]
  },
  {
   "cell_type": "markdown",
   "id": "79778d30",
   "metadata": {
    "papermill": {
     "duration": 0.013613,
     "end_time": "2025-04-02T20:46:48.819541",
     "exception": false,
     "start_time": "2025-04-02T20:46:48.805928",
     "status": "completed"
    },
    "tags": []
   },
   "source": [
    "We observe that the model is indeed under 1GB.\n",
    "\n",
    "# Test the model\n",
    "\n",
    "Let's define a simple prompt."
   ]
  },
  {
   "cell_type": "code",
   "execution_count": 7,
   "id": "2a35de75",
   "metadata": {
    "execution": {
     "iopub.execute_input": "2025-04-02T20:46:48.850799Z",
     "iopub.status.busy": "2025-04-02T20:46:48.850259Z",
     "iopub.status.idle": "2025-04-02T20:47:17.346842Z",
     "shell.execute_reply": "2025-04-02T20:47:17.345112Z"
    },
    "papermill": {
     "duration": 28.517125,
     "end_time": "2025-04-02T20:47:17.351251",
     "exception": false,
     "start_time": "2025-04-02T20:46:48.834126",
     "status": "completed"
    },
    "tags": []
   },
   "outputs": [],
   "source": [
    "instructions = \"You are an AI that answers in short, complete sentences only.\\n\"\n",
    "prompt = (\n",
    "    f\"{instructions}\"\n",
    "    \"Question: {question}\\n\"\n",
    "    \"Answer:\"\n",
    ")\n",
    "\n",
    "output = gemma_lm.generate(\n",
    "    prompt.format(question=\"What is the temperature of the Moon?\"),\n",
    "    max_length=40, \n",
    "    stop_token_ids=[tokenizer.token_to_id(\"\\n\")]\n",
    ")\n"
   ]
  },
  {
   "cell_type": "code",
   "execution_count": 8,
   "id": "bb90ade2",
   "metadata": {
    "execution": {
     "iopub.execute_input": "2025-04-02T20:47:17.384658Z",
     "iopub.status.busy": "2025-04-02T20:47:17.384264Z",
     "iopub.status.idle": "2025-04-02T20:47:17.389741Z",
     "shell.execute_reply": "2025-04-02T20:47:17.388325Z"
    },
    "papermill": {
     "duration": 0.023059,
     "end_time": "2025-04-02T20:47:17.391620",
     "exception": false,
     "start_time": "2025-04-02T20:47:17.368561",
     "status": "completed"
    },
    "tags": []
   },
   "outputs": [
    {
     "name": "stdout",
     "output_type": "stream",
     "text": [
      "Question: What is the temperature of the Moon?\n",
      "Answer: The temperature of the Moon is 100 degrees Celsius\n"
     ]
    }
   ],
   "source": [
    "answer = output.replace(instructions, \"\").strip()\n",
    "print(answer)"
   ]
  },
  {
   "cell_type": "markdown",
   "id": "48fd2e13",
   "metadata": {
    "papermill": {
     "duration": 0.013809,
     "end_time": "2025-04-02T20:47:17.418757",
     "exception": false,
     "start_time": "2025-04-02T20:47:17.404948",
     "status": "completed"
    },
    "tags": []
   },
   "source": [
    "## Functions to generate and format the output\n",
    "\n",
    "We define a function to generate the answer."
   ]
  },
  {
   "cell_type": "code",
   "execution_count": 9,
   "id": "5aafcdc8",
   "metadata": {
    "execution": {
     "iopub.execute_input": "2025-04-02T20:47:17.447086Z",
     "iopub.status.busy": "2025-04-02T20:47:17.446731Z",
     "iopub.status.idle": "2025-04-02T20:47:17.452328Z",
     "shell.execute_reply": "2025-04-02T20:47:17.451225Z"
    },
    "papermill": {
     "duration": 0.021927,
     "end_time": "2025-04-02T20:47:17.454152",
     "exception": false,
     "start_time": "2025-04-02T20:47:17.432225",
     "status": "completed"
    },
    "tags": []
   },
   "outputs": [],
   "source": [
    "def generate_answer(question, \n",
    "                    instructions=\"You are an AI that answers in short, complete sentences only.\\n\", \n",
    "                    max_length=40):\n",
    "    prompt = (\n",
    "        f\"{instructions}\"\n",
    "        \"Question: {question}\\n\"\n",
    "        \"Answer:\"\n",
    "    )\n",
    "    output = gemma_lm.generate(\n",
    "        prompt.format(question=question),\n",
    "        max_length=max_length, \n",
    "        stop_token_ids=[tokenizer.token_to_id(\"\\n\")]\n",
    "    )    \n",
    "    answer = output.replace(instructions, \"\").strip()\n",
    "    return answer"
   ]
  },
  {
   "cell_type": "markdown",
   "id": "fbb1ba80",
   "metadata": {
    "papermill": {
     "duration": 0.013006,
     "end_time": "2025-04-02T20:47:17.480585",
     "exception": false,
     "start_time": "2025-04-02T20:47:17.467579",
     "status": "completed"
    },
    "tags": []
   },
   "source": [
    "We define a function to format the output."
   ]
  },
  {
   "cell_type": "code",
   "execution_count": 10,
   "id": "33fe794f",
   "metadata": {
    "execution": {
     "iopub.execute_input": "2025-04-02T20:47:17.515881Z",
     "iopub.status.busy": "2025-04-02T20:47:17.515332Z",
     "iopub.status.idle": "2025-04-02T20:47:17.520772Z",
     "shell.execute_reply": "2025-04-02T20:47:17.519624Z"
    },
    "papermill": {
     "duration": 0.027545,
     "end_time": "2025-04-02T20:47:17.522508",
     "exception": false,
     "start_time": "2025-04-02T20:47:17.494963",
     "status": "completed"
    },
    "tags": []
   },
   "outputs": [],
   "source": [
    "from IPython.display import display, Markdown\n",
    "\n",
    "def colorize_text(text):\n",
    "    for word, color in zip([\"Reasoning\", \"Question\", \"Answer\", \"Explanation\", \"Total time\"], [\"blue\", \"red\", \"green\", \"darkblue\",  \"magenta\"]):\n",
    "        text = text.replace(f\"{word}:\", f\"\\n\\n**<font color='{color}'>{word}:</font>**\")\n",
    "    return text"
   ]
  },
  {
   "cell_type": "markdown",
   "id": "6aea8935",
   "metadata": {
    "papermill": {
     "duration": 0.013289,
     "end_time": "2025-04-02T20:47:17.549990",
     "exception": false,
     "start_time": "2025-04-02T20:47:17.536701",
     "status": "completed"
    },
    "tags": []
   },
   "source": [
    "Now let's combine both."
   ]
  },
  {
   "cell_type": "code",
   "execution_count": 11,
   "id": "815d2a78",
   "metadata": {
    "execution": {
     "iopub.execute_input": "2025-04-02T20:47:17.578287Z",
     "iopub.status.busy": "2025-04-02T20:47:17.577860Z",
     "iopub.status.idle": "2025-04-02T20:47:17.583023Z",
     "shell.execute_reply": "2025-04-02T20:47:17.581869Z"
    },
    "papermill": {
     "duration": 0.021856,
     "end_time": "2025-04-02T20:47:17.585060",
     "exception": false,
     "start_time": "2025-04-02T20:47:17.563204",
     "status": "completed"
    },
    "tags": []
   },
   "outputs": [],
   "source": [
    "def generate_format_answer(question, \n",
    "                    instructions=\"You are an AI that answers in short, complete sentences only.\\n\", \n",
    "                    max_length=40):\n",
    "    t = time()\n",
    "    answer = generate_answer(question, instructions, max_length)\n",
    "    display(Markdown(colorize_text(f\"{answer}\\n\\nTotal time: {round(time()-t, 2)} sec.\")))"
   ]
  },
  {
   "cell_type": "code",
   "execution_count": 12,
   "id": "3c3399d3",
   "metadata": {
    "execution": {
     "iopub.execute_input": "2025-04-02T20:47:17.614562Z",
     "iopub.status.busy": "2025-04-02T20:47:17.614121Z",
     "iopub.status.idle": "2025-04-02T20:47:20.454779Z",
     "shell.execute_reply": "2025-04-02T20:47:20.453317Z"
    },
    "papermill": {
     "duration": 2.858281,
     "end_time": "2025-04-02T20:47:20.456835",
     "exception": false,
     "start_time": "2025-04-02T20:47:17.598554",
     "status": "completed"
    },
    "tags": []
   },
   "outputs": [
    {
     "data": {
      "text/markdown": [
       "\n",
       "\n",
       "**<font color='red'>Question:</font>** What is the surface temperature of the Moon?\n",
       "\n",
       "\n",
       "**<font color='green'>Answer:</font>** 100 degrees Celsius\n",
       "\n",
       "\n",
       "\n",
       "**<font color='magenta'>Total time:</font>** 2.83 sec."
      ],
      "text/plain": [
       "<IPython.core.display.Markdown object>"
      ]
     },
     "metadata": {},
     "output_type": "display_data"
    }
   ],
   "source": [
    "generate_format_answer(\"What is the surface temperature of the Moon?\")"
   ]
  },
  {
   "cell_type": "markdown",
   "id": "57c324c7",
   "metadata": {
    "papermill": {
     "duration": 0.013939,
     "end_time": "2025-04-02T20:47:20.485279",
     "exception": false,
     "start_time": "2025-04-02T20:47:20.471340",
     "status": "completed"
    },
    "tags": []
   },
   "source": [
    "## Let's ask some simple common knowledge questions\n",
    "\n",
    "\n",
    "Will ask questions from history, arts, general culture and politics."
   ]
  },
  {
   "cell_type": "code",
   "execution_count": 13,
   "id": "f357b986",
   "metadata": {
    "execution": {
     "iopub.execute_input": "2025-04-02T20:47:20.514465Z",
     "iopub.status.busy": "2025-04-02T20:47:20.514060Z",
     "iopub.status.idle": "2025-04-02T20:47:24.233617Z",
     "shell.execute_reply": "2025-04-02T20:47:24.232302Z"
    },
    "papermill": {
     "duration": 3.736362,
     "end_time": "2025-04-02T20:47:24.235659",
     "exception": false,
     "start_time": "2025-04-02T20:47:20.499297",
     "status": "completed"
    },
    "tags": []
   },
   "outputs": [
    {
     "data": {
      "text/markdown": [
       "\n",
       "\n",
       "**<font color='red'>Question:</font>** When was the 30 years war?\n",
       "\n",
       "\n",
       "**<font color='green'>Answer:</font>** 1618-1648\n",
       "\n",
       "\n",
       "\n",
       "**<font color='magenta'>Total time:</font>** 3.71 sec."
      ],
      "text/plain": [
       "<IPython.core.display.Markdown object>"
      ]
     },
     "metadata": {},
     "output_type": "display_data"
    }
   ],
   "source": [
    "answer = generate_format_answer(\"When was the 30 years war?\")"
   ]
  },
  {
   "cell_type": "code",
   "execution_count": 14,
   "id": "d84c22f5",
   "metadata": {
    "execution": {
     "iopub.execute_input": "2025-04-02T20:47:24.264530Z",
     "iopub.status.busy": "2025-04-02T20:47:24.264135Z",
     "iopub.status.idle": "2025-04-02T20:47:27.376319Z",
     "shell.execute_reply": "2025-04-02T20:47:27.375150Z"
    },
    "papermill": {
     "duration": 3.128629,
     "end_time": "2025-04-02T20:47:27.378245",
     "exception": false,
     "start_time": "2025-04-02T20:47:24.249616",
     "status": "completed"
    },
    "tags": []
   },
   "outputs": [
    {
     "data": {
      "text/markdown": [
       "\n",
       "\n",
       "**<font color='red'>Question:</font>** When was founded Rome?\n",
       "\n",
       "\n",
       "**<font color='green'>Answer:</font>** 753 B.C.\n",
       "\n",
       "\n",
       "\n",
       "**<font color='magenta'>Total time:</font>** 3.11 sec."
      ],
      "text/plain": [
       "<IPython.core.display.Markdown object>"
      ]
     },
     "metadata": {},
     "output_type": "display_data"
    }
   ],
   "source": [
    "answer = generate_format_answer(\"When was founded Rome?\")"
   ]
  },
  {
   "cell_type": "code",
   "execution_count": 15,
   "id": "0adff4d3",
   "metadata": {
    "execution": {
     "iopub.execute_input": "2025-04-02T20:47:27.407794Z",
     "iopub.status.busy": "2025-04-02T20:47:27.407434Z",
     "iopub.status.idle": "2025-04-02T20:47:29.843046Z",
     "shell.execute_reply": "2025-04-02T20:47:29.841855Z"
    },
    "papermill": {
     "duration": 2.453019,
     "end_time": "2025-04-02T20:47:29.845121",
     "exception": false,
     "start_time": "2025-04-02T20:47:27.392102",
     "status": "completed"
    },
    "tags": []
   },
   "outputs": [
    {
     "data": {
      "text/markdown": [
       "\n",
       "\n",
       "**<font color='red'>Question:</font>** In what year was the Fall of Constantinopole?\n",
       "\n",
       "\n",
       "**<font color='green'>Answer:</font>** 1453\n",
       "\n",
       "\n",
       "\n",
       "**<font color='magenta'>Total time:</font>** 2.43 sec."
      ],
      "text/plain": [
       "<IPython.core.display.Markdown object>"
      ]
     },
     "metadata": {},
     "output_type": "display_data"
    }
   ],
   "source": [
    "answer = generate_format_answer(\"In what year was the Fall of Constantinopole?\")"
   ]
  },
  {
   "cell_type": "code",
   "execution_count": 16,
   "id": "74dec00c",
   "metadata": {
    "execution": {
     "iopub.execute_input": "2025-04-02T20:47:29.877014Z",
     "iopub.status.busy": "2025-04-02T20:47:29.876628Z",
     "iopub.status.idle": "2025-04-02T20:47:32.210897Z",
     "shell.execute_reply": "2025-04-02T20:47:32.209666Z"
    },
    "papermill": {
     "duration": 2.353102,
     "end_time": "2025-04-02T20:47:32.212682",
     "exception": false,
     "start_time": "2025-04-02T20:47:29.859580",
     "status": "completed"
    },
    "tags": []
   },
   "outputs": [
    {
     "data": {
      "text/markdown": [
       "\n",
       "\n",
       "**<font color='red'>Question:</font>** When was America discovered by Columb?\n",
       "\n",
       "\n",
       "**<font color='green'>Answer:</font>** 1492\n",
       "\n",
       "\n",
       "\n",
       "**<font color='magenta'>Total time:</font>** 2.33 sec."
      ],
      "text/plain": [
       "<IPython.core.display.Markdown object>"
      ]
     },
     "metadata": {},
     "output_type": "display_data"
    }
   ],
   "source": [
    "answer = generate_format_answer(\"When was America discovered by Columb?\")"
   ]
  },
  {
   "cell_type": "code",
   "execution_count": 17,
   "id": "009e9535",
   "metadata": {
    "execution": {
     "iopub.execute_input": "2025-04-02T20:47:32.242815Z",
     "iopub.status.busy": "2025-04-02T20:47:32.242437Z",
     "iopub.status.idle": "2025-04-02T20:47:35.881124Z",
     "shell.execute_reply": "2025-04-02T20:47:35.880056Z"
    },
    "papermill": {
     "duration": 3.656094,
     "end_time": "2025-04-02T20:47:35.882996",
     "exception": false,
     "start_time": "2025-04-02T20:47:32.226902",
     "status": "completed"
    },
    "tags": []
   },
   "outputs": [
    {
     "data": {
      "text/markdown": [
       "\n",
       "\n",
       "**<font color='red'>Question:</font>** When was the Great War?\n",
       "\n",
       "\n",
       "**<font color='green'>Answer:</font>** 1914-1918\n",
       "\n",
       "\n",
       "\n",
       "**<font color='magenta'>Total time:</font>** 3.63 sec."
      ],
      "text/plain": [
       "<IPython.core.display.Markdown object>"
      ]
     },
     "metadata": {},
     "output_type": "display_data"
    }
   ],
   "source": [
    "answer = generate_format_answer(\"When was the Great War?\")"
   ]
  },
  {
   "cell_type": "code",
   "execution_count": 18,
   "id": "a6168c28",
   "metadata": {
    "execution": {
     "iopub.execute_input": "2025-04-02T20:47:35.912250Z",
     "iopub.status.busy": "2025-04-02T20:47:35.911866Z",
     "iopub.status.idle": "2025-04-02T20:47:38.254031Z",
     "shell.execute_reply": "2025-04-02T20:47:38.252519Z"
    },
    "papermill": {
     "duration": 2.358977,
     "end_time": "2025-04-02T20:47:38.255970",
     "exception": false,
     "start_time": "2025-04-02T20:47:35.896993",
     "status": "completed"
    },
    "tags": []
   },
   "outputs": [
    {
     "data": {
      "text/markdown": [
       "\n",
       "\n",
       "**<font color='red'>Question:</font>** When was the USA-Spanish war?\n",
       "\n",
       "\n",
       "**<font color='green'>Answer:</font>** 1898\n",
       "\n",
       "\n",
       "\n",
       "**<font color='magenta'>Total time:</font>** 2.34 sec."
      ],
      "text/plain": [
       "<IPython.core.display.Markdown object>"
      ]
     },
     "metadata": {},
     "output_type": "display_data"
    }
   ],
   "source": [
    "generate_format_answer(\"When was the USA-Spanish war?\")"
   ]
  },
  {
   "cell_type": "code",
   "execution_count": 19,
   "id": "8e75ae1c",
   "metadata": {
    "execution": {
     "iopub.execute_input": "2025-04-02T20:47:38.285596Z",
     "iopub.status.busy": "2025-04-02T20:47:38.285200Z",
     "iopub.status.idle": "2025-04-02T20:47:39.865005Z",
     "shell.execute_reply": "2025-04-02T20:47:39.863800Z"
    },
    "papermill": {
     "duration": 1.597,
     "end_time": "2025-04-02T20:47:39.867127",
     "exception": false,
     "start_time": "2025-04-02T20:47:38.270127",
     "status": "completed"
    },
    "tags": []
   },
   "outputs": [
    {
     "data": {
      "text/markdown": [
       "\n",
       "\n",
       "**<font color='red'>Question:</font>** Who was the president before 1st mandate of Donald Trump?\n",
       "\n",
       "\n",
       "**<font color='green'>Answer:</font>** Barack Obama\n",
       "\n",
       "\n",
       "\n",
       "**<font color='magenta'>Total time:</font>** 1.57 sec."
      ],
      "text/plain": [
       "<IPython.core.display.Markdown object>"
      ]
     },
     "metadata": {},
     "output_type": "display_data"
    }
   ],
   "source": [
    "generate_format_answer(\"Who was the president before 1st mandate of Donald Trump?\")"
   ]
  },
  {
   "cell_type": "code",
   "execution_count": 20,
   "id": "ce170bdd",
   "metadata": {
    "execution": {
     "iopub.execute_input": "2025-04-02T20:47:39.899105Z",
     "iopub.status.busy": "2025-04-02T20:47:39.898676Z",
     "iopub.status.idle": "2025-04-02T20:47:43.379281Z",
     "shell.execute_reply": "2025-04-02T20:47:43.378101Z"
    },
    "papermill": {
     "duration": 3.499267,
     "end_time": "2025-04-02T20:47:43.381346",
     "exception": false,
     "start_time": "2025-04-02T20:47:39.882079",
     "status": "completed"
    },
    "tags": []
   },
   "outputs": [
    {
     "data": {
      "text/markdown": [
       "\n",
       "\n",
       "**<font color='red'>Question:</font>** When was the attack on Pearl Harbor?\n",
       "\n",
       "\n",
       "**<font color='green'>Answer:</font>** December 7, 1941\n",
       "\n",
       "\n",
       "\n",
       "**<font color='magenta'>Total time:</font>** 3.47 sec."
      ],
      "text/plain": [
       "<IPython.core.display.Markdown object>"
      ]
     },
     "metadata": {},
     "output_type": "display_data"
    }
   ],
   "source": [
    "generate_format_answer(\"When was the attack on Pearl Harbor?\")"
   ]
  },
  {
   "cell_type": "code",
   "execution_count": 21,
   "id": "cb8e57e7",
   "metadata": {
    "execution": {
     "iopub.execute_input": "2025-04-02T20:47:43.413892Z",
     "iopub.status.busy": "2025-04-02T20:47:43.413515Z",
     "iopub.status.idle": "2025-04-02T20:47:45.768325Z",
     "shell.execute_reply": "2025-04-02T20:47:45.767166Z"
    },
    "papermill": {
     "duration": 2.372932,
     "end_time": "2025-04-02T20:47:45.770723",
     "exception": false,
     "start_time": "2025-04-02T20:47:43.397791",
     "status": "completed"
    },
    "tags": []
   },
   "outputs": [
    {
     "data": {
      "text/markdown": [
       "\n",
       "\n",
       "**<font color='red'>Question:</font>** Who was the next shogon after Yeiatsu Tokugawa?\n",
       "\n",
       "\n",
       "**<font color='green'>Answer:</font>** Tokugawa Ieyasu\n",
       "\n",
       "\n",
       "\n",
       "**<font color='magenta'>Total time:</font>** 2.35 sec."
      ],
      "text/plain": [
       "<IPython.core.display.Markdown object>"
      ]
     },
     "metadata": {},
     "output_type": "display_data"
    }
   ],
   "source": [
    "generate_format_answer(\"Who was the next shogon after Yeiatsu Tokugawa?\")"
   ]
  },
  {
   "cell_type": "markdown",
   "id": "371f2011",
   "metadata": {
    "papermill": {
     "duration": 0.014428,
     "end_time": "2025-04-02T20:47:45.800131",
     "exception": false,
     "start_time": "2025-04-02T20:47:45.785703",
     "status": "completed"
    },
    "tags": []
   },
   "source": [
    "This answer is not correct. The correct answer is Hidetada Tokugawa."
   ]
  },
  {
   "cell_type": "code",
   "execution_count": 22,
   "id": "e7f9598d",
   "metadata": {
    "execution": {
     "iopub.execute_input": "2025-04-02T20:47:45.830230Z",
     "iopub.status.busy": "2025-04-02T20:47:45.829852Z",
     "iopub.status.idle": "2025-04-02T20:47:47.342327Z",
     "shell.execute_reply": "2025-04-02T20:47:47.340964Z"
    },
    "papermill": {
     "duration": 1.529794,
     "end_time": "2025-04-02T20:47:47.344300",
     "exception": false,
     "start_time": "2025-04-02T20:47:45.814506",
     "status": "completed"
    },
    "tags": []
   },
   "outputs": [
    {
     "data": {
      "text/markdown": [
       "\n",
       "\n",
       "**<font color='red'>Question:</font>** Who was the first American president?\n",
       "\n",
       "\n",
       "**<font color='green'>Answer:</font>** George Washington\n",
       "\n",
       "\n",
       "\n",
       "**<font color='magenta'>Total time:</font>** 1.51 sec."
      ],
      "text/plain": [
       "<IPython.core.display.Markdown object>"
      ]
     },
     "metadata": {},
     "output_type": "display_data"
    }
   ],
   "source": [
    "generate_format_answer(\"Who was the first American president?\")"
   ]
  },
  {
   "cell_type": "code",
   "execution_count": 23,
   "id": "c523224c",
   "metadata": {
    "execution": {
     "iopub.execute_input": "2025-04-02T20:47:47.374765Z",
     "iopub.status.busy": "2025-04-02T20:47:47.374363Z",
     "iopub.status.idle": "2025-04-02T20:47:48.945045Z",
     "shell.execute_reply": "2025-04-02T20:47:48.943873Z"
    },
    "papermill": {
     "duration": 1.588093,
     "end_time": "2025-04-02T20:47:48.946993",
     "exception": false,
     "start_time": "2025-04-02T20:47:47.358900",
     "status": "completed"
    },
    "tags": []
   },
   "outputs": [
    {
     "data": {
      "text/markdown": [
       "\n",
       "\n",
       "**<font color='red'>Question:</font>** What is drosophila melanogaster?\n",
       "\n",
       "\n",
       "**<font color='green'>Answer:</font>** Fruit fly\n",
       "\n",
       "\n",
       "\n",
       "**<font color='magenta'>Total time:</font>** 1.56 sec."
      ],
      "text/plain": [
       "<IPython.core.display.Markdown object>"
      ]
     },
     "metadata": {},
     "output_type": "display_data"
    }
   ],
   "source": [
    "generate_format_answer(\"What is drosophila melanogaster?\")"
   ]
  },
  {
   "cell_type": "code",
   "execution_count": 24,
   "id": "404eaef8",
   "metadata": {
    "execution": {
     "iopub.execute_input": "2025-04-02T20:47:49.081678Z",
     "iopub.status.busy": "2025-04-02T20:47:49.081279Z",
     "iopub.status.idle": "2025-04-02T20:47:50.359499Z",
     "shell.execute_reply": "2025-04-02T20:47:50.358320Z"
    },
    "papermill": {
     "duration": 1.399734,
     "end_time": "2025-04-02T20:47:50.361617",
     "exception": false,
     "start_time": "2025-04-02T20:47:48.961883",
     "status": "completed"
    },
    "tags": []
   },
   "outputs": [
    {
     "data": {
      "text/markdown": [
       "\n",
       "\n",
       "**<font color='red'>Question:</font>** Which country in South America use Portuguese?\n",
       "\n",
       "\n",
       "**<font color='green'>Answer:</font>** Brazil\n",
       "\n",
       "\n",
       "\n",
       "**<font color='magenta'>Total time:</font>** 1.27 sec."
      ],
      "text/plain": [
       "<IPython.core.display.Markdown object>"
      ]
     },
     "metadata": {},
     "output_type": "display_data"
    }
   ],
   "source": [
    "generate_format_answer(\"Which country in South America use Portuguese?\")"
   ]
  },
  {
   "cell_type": "code",
   "execution_count": 25,
   "id": "97ad0c6f",
   "metadata": {
    "execution": {
     "iopub.execute_input": "2025-04-02T20:47:50.394543Z",
     "iopub.status.busy": "2025-04-02T20:47:50.394098Z",
     "iopub.status.idle": "2025-04-02T20:47:53.811732Z",
     "shell.execute_reply": "2025-04-02T20:47:53.810517Z"
    },
    "papermill": {
     "duration": 3.436236,
     "end_time": "2025-04-02T20:47:53.813806",
     "exception": false,
     "start_time": "2025-04-02T20:47:50.377570",
     "status": "completed"
    },
    "tags": []
   },
   "outputs": [
    {
     "data": {
      "text/markdown": [
       "\n",
       "\n",
       "**<font color='red'>Question:</font>** What family are horses?\n",
       "\n",
       "\n",
       "**<font color='green'>Answer:</font>** Horses are members of the family Equidae.\n",
       "\n",
       "\n",
       "\n",
       "**<font color='magenta'>Total time:</font>** 3.41 sec."
      ],
      "text/plain": [
       "<IPython.core.display.Markdown object>"
      ]
     },
     "metadata": {},
     "output_type": "display_data"
    }
   ],
   "source": [
    "generate_format_answer(\"What family are horses?\")"
   ]
  },
  {
   "cell_type": "code",
   "execution_count": 26,
   "id": "6a71c562",
   "metadata": {
    "execution": {
     "iopub.execute_input": "2025-04-02T20:47:53.845993Z",
     "iopub.status.busy": "2025-04-02T20:47:53.845568Z",
     "iopub.status.idle": "2025-04-02T20:47:55.162575Z",
     "shell.execute_reply": "2025-04-02T20:47:55.161298Z"
    },
    "papermill": {
     "duration": 1.33511,
     "end_time": "2025-04-02T20:47:55.164353",
     "exception": false,
     "start_time": "2025-04-02T20:47:53.829243",
     "status": "completed"
    },
    "tags": []
   },
   "outputs": [
    {
     "data": {
      "text/markdown": [
       "\n",
       "\n",
       "**<font color='red'>Question:</font>** With which country has France the largest border in South America?\n",
       "\n",
       "\n",
       "**<font color='green'>Answer:</font>** Brazil\n",
       "\n",
       "\n",
       "\n",
       "**<font color='magenta'>Total time:</font>** 1.31 sec."
      ],
      "text/plain": [
       "<IPython.core.display.Markdown object>"
      ]
     },
     "metadata": {},
     "output_type": "display_data"
    }
   ],
   "source": [
    "generate_format_answer(\"With which country has France the largest border in South America?\")"
   ]
  },
  {
   "cell_type": "code",
   "execution_count": 27,
   "id": "3ef6302d",
   "metadata": {
    "execution": {
     "iopub.execute_input": "2025-04-02T20:47:55.195659Z",
     "iopub.status.busy": "2025-04-02T20:47:55.195253Z",
     "iopub.status.idle": "2025-04-02T20:47:57.486130Z",
     "shell.execute_reply": "2025-04-02T20:47:57.484500Z"
    },
    "papermill": {
     "duration": 2.308288,
     "end_time": "2025-04-02T20:47:57.487819",
     "exception": false,
     "start_time": "2025-04-02T20:47:55.179531",
     "status": "completed"
    },
    "tags": []
   },
   "outputs": [
    {
     "data": {
      "text/markdown": [
       "\n",
       "\n",
       "**<font color='red'>Question:</font>** In what year was Fukushima incident?\n",
       "\n",
       "\n",
       "**<font color='green'>Answer:</font>** 2011\n",
       "\n",
       "\n",
       "\n",
       "**<font color='magenta'>Total time:</font>** 2.28 sec."
      ],
      "text/plain": [
       "<IPython.core.display.Markdown object>"
      ]
     },
     "metadata": {},
     "output_type": "display_data"
    }
   ],
   "source": [
    "generate_format_answer(\"In what year was Fukushima incident?\")"
   ]
  },
  {
   "cell_type": "code",
   "execution_count": 28,
   "id": "26e7c8be",
   "metadata": {
    "execution": {
     "iopub.execute_input": "2025-04-02T20:47:57.522143Z",
     "iopub.status.busy": "2025-04-02T20:47:57.521725Z",
     "iopub.status.idle": "2025-04-02T20:47:58.805325Z",
     "shell.execute_reply": "2025-04-02T20:47:58.804296Z"
    },
    "papermill": {
     "duration": 1.301823,
     "end_time": "2025-04-02T20:47:58.807045",
     "exception": false,
     "start_time": "2025-04-02T20:47:57.505222",
     "status": "completed"
    },
    "tags": []
   },
   "outputs": [
    {
     "data": {
      "text/markdown": [
       "\n",
       "\n",
       "**<font color='red'>Question:</font>** What emperor succeeded to Traian?\n",
       "\n",
       "\n",
       "**<font color='green'>Answer:</font>** Hadrian\n",
       "\n",
       "\n",
       "\n",
       "**<font color='magenta'>Total time:</font>** 1.28 sec."
      ],
      "text/plain": [
       "<IPython.core.display.Markdown object>"
      ]
     },
     "metadata": {},
     "output_type": "display_data"
    }
   ],
   "source": [
    "generate_format_answer(\"What emperor succeeded to Traian?\")"
   ]
  },
  {
   "cell_type": "code",
   "execution_count": 29,
   "id": "66479491",
   "metadata": {
    "execution": {
     "iopub.execute_input": "2025-04-02T20:47:58.840097Z",
     "iopub.status.busy": "2025-04-02T20:47:58.839583Z",
     "iopub.status.idle": "2025-04-02T20:48:00.097325Z",
     "shell.execute_reply": "2025-04-02T20:48:00.096215Z"
    },
    "papermill": {
     "duration": 1.276364,
     "end_time": "2025-04-02T20:48:00.099365",
     "exception": false,
     "start_time": "2025-04-02T20:47:58.823001",
     "status": "completed"
    },
    "tags": []
   },
   "outputs": [
    {
     "data": {
      "text/markdown": [
       "\n",
       "\n",
       "**<font color='red'>Question:</font>** What nationality was Marguerite Yourcenar?\n",
       "\n",
       "\n",
       "**<font color='green'>Answer:</font>** French\n",
       "\n",
       "\n",
       "\n",
       "**<font color='magenta'>Total time:</font>** 1.25 sec."
      ],
      "text/plain": [
       "<IPython.core.display.Markdown object>"
      ]
     },
     "metadata": {},
     "output_type": "display_data"
    }
   ],
   "source": [
    "generate_format_answer(\"What nationality was Marguerite Yourcenar?\")"
   ]
  },
  {
   "cell_type": "markdown",
   "id": "47a83ff9",
   "metadata": {
    "papermill": {
     "duration": 0.015362,
     "end_time": "2025-04-02T20:48:00.130078",
     "exception": false,
     "start_time": "2025-04-02T20:48:00.114716",
     "status": "completed"
    },
    "tags": []
   },
   "source": [
    "The answer is wrong, she was Belgian, from nobility, and lived in US for most of her life. She was member of French Academy, though."
   ]
  },
  {
   "cell_type": "code",
   "execution_count": 30,
   "id": "4942977e",
   "metadata": {
    "execution": {
     "iopub.execute_input": "2025-04-02T20:48:00.161486Z",
     "iopub.status.busy": "2025-04-02T20:48:00.161082Z",
     "iopub.status.idle": "2025-04-02T20:48:02.690505Z",
     "shell.execute_reply": "2025-04-02T20:48:02.689095Z"
    },
    "papermill": {
     "duration": 2.547362,
     "end_time": "2025-04-02T20:48:02.692467",
     "exception": false,
     "start_time": "2025-04-02T20:48:00.145105",
     "status": "completed"
    },
    "tags": []
   },
   "outputs": [
    {
     "data": {
      "text/markdown": [
       "\n",
       "\n",
       "**<font color='red'>Question:</font>** In which branch of US Army server JD Vance?\n",
       "\n",
       "\n",
       "**<font color='green'>Answer:</font>** 1st Armored Division\n",
       "\n",
       "\n",
       "\n",
       "**<font color='magenta'>Total time:</font>** 2.52 sec."
      ],
      "text/plain": [
       "<IPython.core.display.Markdown object>"
      ]
     },
     "metadata": {},
     "output_type": "display_data"
    }
   ],
   "source": [
    "generate_format_answer(\"In which branch of US Army server JD Vance?\")"
   ]
  },
  {
   "cell_type": "markdown",
   "id": "b279bb1d",
   "metadata": {
    "papermill": {
     "duration": 0.015255,
     "end_time": "2025-04-02T20:48:02.723366",
     "exception": false,
     "start_time": "2025-04-02T20:48:02.708111",
     "status": "completed"
    },
    "tags": []
   },
   "source": [
    "This is wrong, he served as an enlisted journalist in Marine Corps."
   ]
  },
  {
   "cell_type": "code",
   "execution_count": 31,
   "id": "3ebbd743",
   "metadata": {
    "execution": {
     "iopub.execute_input": "2025-04-02T20:48:02.757358Z",
     "iopub.status.busy": "2025-04-02T20:48:02.756958Z",
     "iopub.status.idle": "2025-04-02T20:48:04.571639Z",
     "shell.execute_reply": "2025-04-02T20:48:04.570466Z"
    },
    "papermill": {
     "duration": 1.833866,
     "end_time": "2025-04-02T20:48:04.573555",
     "exception": false,
     "start_time": "2025-04-02T20:48:02.739689",
     "status": "completed"
    },
    "tags": []
   },
   "outputs": [
    {
     "data": {
      "text/markdown": [
       "\n",
       "\n",
       "**<font color='red'>Question:</font>** Who composed Fur Elise?\n",
       "\n",
       "\n",
       "**<font color='green'>Answer:</font>** Ludwig van Beethoven\n",
       "\n",
       "\n",
       "\n",
       "**<font color='magenta'>Total time:</font>** 1.81 sec."
      ],
      "text/plain": [
       "<IPython.core.display.Markdown object>"
      ]
     },
     "metadata": {},
     "output_type": "display_data"
    }
   ],
   "source": [
    "generate_format_answer(\"Who composed Fur Elise?\")"
   ]
  },
  {
   "cell_type": "code",
   "execution_count": 32,
   "id": "e22e45f7",
   "metadata": {
    "execution": {
     "iopub.execute_input": "2025-04-02T20:48:04.605999Z",
     "iopub.status.busy": "2025-04-02T20:48:04.605657Z",
     "iopub.status.idle": "2025-04-02T20:48:06.413397Z",
     "shell.execute_reply": "2025-04-02T20:48:06.412223Z"
    },
    "papermill": {
     "duration": 1.826169,
     "end_time": "2025-04-02T20:48:06.415397",
     "exception": false,
     "start_time": "2025-04-02T20:48:04.589228",
     "status": "completed"
    },
    "tags": []
   },
   "outputs": [
    {
     "data": {
      "text/markdown": [
       "\n",
       "\n",
       "**<font color='red'>Question:</font>** Name one of the most famous opera by Verdi?\n",
       "\n",
       "\n",
       "**<font color='green'>Answer:</font>** La Traviata\n",
       "\n",
       "\n",
       "\n",
       "**<font color='magenta'>Total time:</font>** 1.8 sec."
      ],
      "text/plain": [
       "<IPython.core.display.Markdown object>"
      ]
     },
     "metadata": {},
     "output_type": "display_data"
    }
   ],
   "source": [
    "generate_format_answer(\"Name one of the most famous opera by Verdi?\")"
   ]
  },
  {
   "cell_type": "code",
   "execution_count": 33,
   "id": "b534bfa4",
   "metadata": {
    "execution": {
     "iopub.execute_input": "2025-04-02T20:48:06.449793Z",
     "iopub.status.busy": "2025-04-02T20:48:06.449397Z",
     "iopub.status.idle": "2025-04-02T20:48:07.749672Z",
     "shell.execute_reply": "2025-04-02T20:48:07.748393Z"
    },
    "papermill": {
     "duration": 1.318788,
     "end_time": "2025-04-02T20:48:07.751603",
     "exception": false,
     "start_time": "2025-04-02T20:48:06.432815",
     "status": "completed"
    },
    "tags": []
   },
   "outputs": [
    {
     "data": {
      "text/markdown": [
       "\n",
       "\n",
       "**<font color='red'>Question:</font>** Which type of music composed JS Bach?\n",
       "\n",
       "\n",
       "**<font color='green'>Answer:</font>** Classical\n",
       "\n",
       "\n",
       "\n",
       "**<font color='magenta'>Total time:</font>** 1.29 sec."
      ],
      "text/plain": [
       "<IPython.core.display.Markdown object>"
      ]
     },
     "metadata": {},
     "output_type": "display_data"
    }
   ],
   "source": [
    "generate_format_answer(\"Which type of music composed JS Bach?\")"
   ]
  },
  {
   "cell_type": "markdown",
   "id": "1cf9857d",
   "metadata": {
    "papermill": {
     "duration": 0.015605,
     "end_time": "2025-04-02T20:48:07.790078",
     "exception": false,
     "start_time": "2025-04-02T20:48:07.774473",
     "status": "completed"
    },
    "tags": []
   },
   "source": [
    "This is wrong, he was mostly composing Baroque (pre-classical) music."
   ]
  },
  {
   "cell_type": "code",
   "execution_count": 34,
   "id": "d7db4abe",
   "metadata": {
    "execution": {
     "iopub.execute_input": "2025-04-02T20:48:07.823972Z",
     "iopub.status.busy": "2025-04-02T20:48:07.823624Z",
     "iopub.status.idle": "2025-04-02T20:48:09.098582Z",
     "shell.execute_reply": "2025-04-02T20:48:09.097333Z"
    },
    "papermill": {
     "duration": 1.294335,
     "end_time": "2025-04-02T20:48:09.100577",
     "exception": false,
     "start_time": "2025-04-02T20:48:07.806242",
     "status": "completed"
    },
    "tags": []
   },
   "outputs": [
    {
     "data": {
      "text/markdown": [
       "\n",
       "\n",
       "**<font color='red'>Question:</font>** Who composed Goldberg Variations?\n",
       "\n",
       "\n",
       "**<font color='green'>Answer:</font>** Bach\n",
       "\n",
       "\n",
       "\n",
       "**<font color='magenta'>Total time:</font>** 1.27 sec."
      ],
      "text/plain": [
       "<IPython.core.display.Markdown object>"
      ]
     },
     "metadata": {},
     "output_type": "display_data"
    }
   ],
   "source": [
    "generate_format_answer(\"Who composed Goldberg Variations?\")"
   ]
  },
  {
   "cell_type": "code",
   "execution_count": 35,
   "id": "4bcfbf30",
   "metadata": {
    "execution": {
     "iopub.execute_input": "2025-04-02T20:48:09.135626Z",
     "iopub.status.busy": "2025-04-02T20:48:09.135230Z",
     "iopub.status.idle": "2025-04-02T20:48:10.383319Z",
     "shell.execute_reply": "2025-04-02T20:48:10.382206Z"
    },
    "papermill": {
     "duration": 1.267067,
     "end_time": "2025-04-02T20:48:10.385071",
     "exception": false,
     "start_time": "2025-04-02T20:48:09.118004",
     "status": "completed"
    },
    "tags": []
   },
   "outputs": [
    {
     "data": {
      "text/markdown": [
       "\n",
       "\n",
       "**<font color='red'>Question:</font>** Who composed the most famous Requiem?\n",
       "\n",
       "\n",
       "**<font color='green'>Answer:</font>** Mozart\n",
       "\n",
       "\n",
       "\n",
       "**<font color='magenta'>Total time:</font>** 1.24 sec."
      ],
      "text/plain": [
       "<IPython.core.display.Markdown object>"
      ]
     },
     "metadata": {},
     "output_type": "display_data"
    }
   ],
   "source": [
    "generate_format_answer(\"Who composed the most famous Requiem?\")"
   ]
  },
  {
   "cell_type": "code",
   "execution_count": 36,
   "id": "4c023f00",
   "metadata": {
    "execution": {
     "iopub.execute_input": "2025-04-02T20:48:10.419895Z",
     "iopub.status.busy": "2025-04-02T20:48:10.419525Z",
     "iopub.status.idle": "2025-04-02T20:48:12.456258Z",
     "shell.execute_reply": "2025-04-02T20:48:12.455139Z"
    },
    "papermill": {
     "duration": 2.05597,
     "end_time": "2025-04-02T20:48:12.457830",
     "exception": false,
     "start_time": "2025-04-02T20:48:10.401860",
     "status": "completed"
    },
    "tags": []
   },
   "outputs": [
    {
     "data": {
      "text/markdown": [
       "\n",
       "\n",
       "**<font color='red'>Question:</font>** Name an opera by Enesco.\n",
       "\n",
       "\n",
       "**<font color='green'>Answer:</font>** The Magic Flute\n",
       "\n",
       "\n",
       "\n",
       "**<font color='magenta'>Total time:</font>** 2.03 sec."
      ],
      "text/plain": [
       "<IPython.core.display.Markdown object>"
      ]
     },
     "metadata": {},
     "output_type": "display_data"
    }
   ],
   "source": [
    "generate_format_answer(\"Name an opera by Enesco.\")"
   ]
  },
  {
   "cell_type": "markdown",
   "id": "94f3477c",
   "metadata": {
    "papermill": {
     "duration": 0.016419,
     "end_time": "2025-04-02T20:48:12.491510",
     "exception": false,
     "start_time": "2025-04-02T20:48:12.475091",
     "status": "completed"
    },
    "tags": []
   },
   "source": [
    "This is wrong. This opera belongs to Mozart."
   ]
  },
  {
   "cell_type": "code",
   "execution_count": 37,
   "id": "851bf13d",
   "metadata": {
    "execution": {
     "iopub.execute_input": "2025-04-02T20:48:12.525353Z",
     "iopub.status.busy": "2025-04-02T20:48:12.524919Z",
     "iopub.status.idle": "2025-04-02T20:48:14.815909Z",
     "shell.execute_reply": "2025-04-02T20:48:14.814660Z"
    },
    "papermill": {
     "duration": 2.310477,
     "end_time": "2025-04-02T20:48:14.817966",
     "exception": false,
     "start_time": "2025-04-02T20:48:12.507489",
     "status": "completed"
    },
    "tags": []
   },
   "outputs": [
    {
     "data": {
      "text/markdown": [
       "\n",
       "\n",
       "**<font color='red'>Question:</font>** Who is the author of 'The Russian Ballets'?\n",
       "\n",
       "\n",
       "**<font color='green'>Answer:</font>** Sergei Diaghilev\n",
       "\n",
       "\n",
       "\n",
       "**<font color='magenta'>Total time:</font>** 2.28 sec."
      ],
      "text/plain": [
       "<IPython.core.display.Markdown object>"
      ]
     },
     "metadata": {},
     "output_type": "display_data"
    }
   ],
   "source": [
    "generate_format_answer(\"Who is the author of 'The Russian Ballets'?\")"
   ]
  },
  {
   "cell_type": "code",
   "execution_count": 38,
   "id": "d0681e9a",
   "metadata": {
    "execution": {
     "iopub.execute_input": "2025-04-02T20:48:14.851978Z",
     "iopub.status.busy": "2025-04-02T20:48:14.851569Z",
     "iopub.status.idle": "2025-04-02T20:48:17.798677Z",
     "shell.execute_reply": "2025-04-02T20:48:17.797460Z"
    },
    "papermill": {
     "duration": 2.966781,
     "end_time": "2025-04-02T20:48:17.800973",
     "exception": false,
     "start_time": "2025-04-02T20:48:14.834192",
     "status": "completed"
    },
    "tags": []
   },
   "outputs": [
    {
     "data": {
      "text/markdown": [
       "\n",
       "\n",
       "**<font color='red'>Question:</font>** To what school belongs Le Corbusier?\n",
       "\n",
       "\n",
       "**<font color='green'>Answer:</font>** The School of Architecture in Paris\n",
       "\n",
       "\n",
       "\n",
       "**<font color='magenta'>Total time:</font>** 2.94 sec."
      ],
      "text/plain": [
       "<IPython.core.display.Markdown object>"
      ]
     },
     "metadata": {},
     "output_type": "display_data"
    }
   ],
   "source": [
    "generate_format_answer(\"To what school belongs Le Corbusier?\")"
   ]
  },
  {
   "cell_type": "markdown",
   "id": "7d0b768a",
   "metadata": {
    "papermill": {
     "duration": 0.016846,
     "end_time": "2025-04-02T20:48:17.835169",
     "exception": false,
     "start_time": "2025-04-02T20:48:17.818323",
     "status": "completed"
    },
    "tags": []
   },
   "source": [
    "A more correct answer will be \"The international school of architecture\"."
   ]
  },
  {
   "cell_type": "code",
   "execution_count": 39,
   "id": "525e8510",
   "metadata": {
    "execution": {
     "iopub.execute_input": "2025-04-02T20:48:17.870000Z",
     "iopub.status.busy": "2025-04-02T20:48:17.869598Z",
     "iopub.status.idle": "2025-04-02T20:48:20.198512Z",
     "shell.execute_reply": "2025-04-02T20:48:20.197350Z"
    },
    "papermill": {
     "duration": 2.348681,
     "end_time": "2025-04-02T20:48:20.200447",
     "exception": false,
     "start_time": "2025-04-02T20:48:17.851766",
     "status": "completed"
    },
    "tags": []
   },
   "outputs": [
    {
     "data": {
      "text/markdown": [
       "\n",
       "\n",
       "**<font color='red'>Question:</font>** Name a work by Gaudi.\n",
       "\n",
       "\n",
       "**<font color='green'>Answer:</font>** The Sagrada Familia.\n",
       "\n",
       "\n",
       "\n",
       "**<font color='magenta'>Total time:</font>** 2.32 sec."
      ],
      "text/plain": [
       "<IPython.core.display.Markdown object>"
      ]
     },
     "metadata": {},
     "output_type": "display_data"
    }
   ],
   "source": [
    "generate_format_answer(\"Name a work by Gaudi.\")"
   ]
  },
  {
   "cell_type": "markdown",
   "id": "d797989b",
   "metadata": {
    "papermill": {
     "duration": 0.017833,
     "end_time": "2025-04-02T20:48:20.234897",
     "exception": false,
     "start_time": "2025-04-02T20:48:20.217064",
     "status": "completed"
    },
    "tags": []
   },
   "source": [
    "The model is able to answer well to a variety of subjects. It is not very good with more in-depth questions. Here we will give few examples."
   ]
  },
  {
   "cell_type": "code",
   "execution_count": 40,
   "id": "51f40432",
   "metadata": {
    "execution": {
     "iopub.execute_input": "2025-04-02T20:48:20.270285Z",
     "iopub.status.busy": "2025-04-02T20:48:20.269933Z",
     "iopub.status.idle": "2025-04-02T20:48:43.098229Z",
     "shell.execute_reply": "2025-04-02T20:48:43.097039Z"
    },
    "papermill": {
     "duration": 22.848173,
     "end_time": "2025-04-02T20:48:43.100101",
     "exception": false,
     "start_time": "2025-04-02T20:48:20.251928",
     "status": "completed"
    },
    "tags": []
   },
   "outputs": [
    {
     "data": {
      "text/markdown": [
       "\n",
       "\n",
       "**<font color='red'>Question:</font>** What is ostracism?\n",
       "\n",
       "\n",
       "**<font color='green'>Answer:</font>** When someone is excluded from a group or community.\n",
       "\n",
       "\n",
       "\n",
       "**<font color='magenta'>Total time:</font>** 22.82 sec."
      ],
      "text/plain": [
       "<IPython.core.display.Markdown object>"
      ]
     },
     "metadata": {},
     "output_type": "display_data"
    }
   ],
   "source": [
    "generate_format_answer(\"What is ostracism?\", max_length=100)"
   ]
  },
  {
   "cell_type": "markdown",
   "id": "a74b0992",
   "metadata": {
    "papermill": {
     "duration": 0.016288,
     "end_time": "2025-04-02T20:48:43.133090",
     "exception": false,
     "start_time": "2025-04-02T20:48:43.116802",
     "status": "completed"
    },
    "tags": []
   },
   "source": [
    "The correct answer will refer first to the Ancient Greece mechanism to protect the City-state against tyrany."
   ]
  },
  {
   "cell_type": "code",
   "execution_count": 41,
   "id": "d2951837",
   "metadata": {
    "execution": {
     "iopub.execute_input": "2025-04-02T20:48:43.168942Z",
     "iopub.status.busy": "2025-04-02T20:48:43.168578Z",
     "iopub.status.idle": "2025-04-02T20:48:46.664782Z",
     "shell.execute_reply": "2025-04-02T20:48:46.663554Z"
    },
    "papermill": {
     "duration": 3.51651,
     "end_time": "2025-04-02T20:48:46.666648",
     "exception": false,
     "start_time": "2025-04-02T20:48:43.150138",
     "status": "completed"
    },
    "tags": []
   },
   "outputs": [
    {
     "data": {
      "text/markdown": [
       "\n",
       "\n",
       "**<font color='red'>Question:</font>** What was Pnyx?\n",
       "\n",
       "\n",
       "**<font color='green'>Answer:</font>** A place where the gods lived.\n",
       "\n",
       "\n",
       "\n",
       "**<font color='magenta'>Total time:</font>** 3.49 sec."
      ],
      "text/plain": [
       "<IPython.core.display.Markdown object>"
      ]
     },
     "metadata": {},
     "output_type": "display_data"
    }
   ],
   "source": [
    "generate_format_answer(\"What was Pnyx?\", max_length=100)"
   ]
  },
  {
   "cell_type": "markdown",
   "id": "bf94bec4",
   "metadata": {
    "papermill": {
     "duration": 0.016785,
     "end_time": "2025-04-02T20:48:46.700537",
     "exception": false,
     "start_time": "2025-04-02T20:48:46.683752",
     "status": "completed"
    },
    "tags": []
   },
   "source": [
    "The correct answer would mention the assembly place in Ancient Athens."
   ]
  },
  {
   "cell_type": "code",
   "execution_count": 42,
   "id": "ff948582",
   "metadata": {
    "execution": {
     "iopub.execute_input": "2025-04-02T20:48:46.736001Z",
     "iopub.status.busy": "2025-04-02T20:48:46.735604Z",
     "iopub.status.idle": "2025-04-02T20:48:51.180298Z",
     "shell.execute_reply": "2025-04-02T20:48:51.178984Z"
    },
    "papermill": {
     "duration": 4.465127,
     "end_time": "2025-04-02T20:48:51.182329",
     "exception": false,
     "start_time": "2025-04-02T20:48:46.717202",
     "status": "completed"
    },
    "tags": []
   },
   "outputs": [
    {
     "data": {
      "text/markdown": [
       "\n",
       "\n",
       "**<font color='red'>Question:</font>** What was Graphe Paranomon?\n",
       "\n",
       "\n",
       "**<font color='green'>Answer:</font>** A person who is a genius at writing.\n",
       "\n",
       "\n",
       "\n",
       "**<font color='magenta'>Total time:</font>** 4.44 sec."
      ],
      "text/plain": [
       "<IPython.core.display.Markdown object>"
      ]
     },
     "metadata": {},
     "output_type": "display_data"
    }
   ],
   "source": [
    "generate_format_answer(\"What was Graphe Paranomon?\", max_length=100)"
   ]
  },
  {
   "cell_type": "markdown",
   "id": "00cc1405",
   "metadata": {
    "papermill": {
     "duration": 0.01774,
     "end_time": "2025-04-02T20:48:51.217321",
     "exception": false,
     "start_time": "2025-04-02T20:48:51.199581",
     "status": "completed"
    },
    "tags": []
   },
   "source": [
    "The correct answer will refer to a mechanism of judicial review of unlawful laws in Ancient Athens constitution in IV-th century B.C."
   ]
  },
  {
   "cell_type": "markdown",
   "id": "4846f286",
   "metadata": {
    "papermill": {
     "duration": 0.016521,
     "end_time": "2025-04-02T20:48:51.251157",
     "exception": false,
     "start_time": "2025-04-02T20:48:51.234636",
     "status": "completed"
    },
    "tags": []
   },
   "source": [
    "## Let's explore more about technology\n",
    "\n"
   ]
  },
  {
   "cell_type": "code",
   "execution_count": 43,
   "id": "4a2d9238",
   "metadata": {
    "execution": {
     "iopub.execute_input": "2025-04-02T20:48:51.286170Z",
     "iopub.status.busy": "2025-04-02T20:48:51.285779Z",
     "iopub.status.idle": "2025-04-02T20:49:16.741161Z",
     "shell.execute_reply": "2025-04-02T20:49:16.739979Z"
    },
    "papermill": {
     "duration": 25.475129,
     "end_time": "2025-04-02T20:49:16.743035",
     "exception": false,
     "start_time": "2025-04-02T20:48:51.267906",
     "status": "completed"
    },
    "tags": []
   },
   "outputs": [
    {
     "data": {
      "text/markdown": [
       "\n",
       "\n",
       "**<font color='red'>Question:</font>** What is XGBoost?\n",
       "\n",
       "\n",
       "**<font color='green'>Answer:</font>** XGBoost is a machine learning algorithm that is used to solve classification problems. It is a gradient boosting algorithm that is used to\n",
       "\n",
       "\n",
       "\n",
       "**<font color='magenta'>Total time:</font>** 25.45 sec."
      ],
      "text/plain": [
       "<IPython.core.display.Markdown object>"
      ]
     },
     "metadata": {},
     "output_type": "display_data"
    }
   ],
   "source": [
    "generate_format_answer(\"What is XGBoost?\", \n",
    "                       max_length=50)"
   ]
  },
  {
   "cell_type": "code",
   "execution_count": 44,
   "id": "d97f2afe",
   "metadata": {
    "execution": {
     "iopub.execute_input": "2025-04-02T20:49:16.778807Z",
     "iopub.status.busy": "2025-04-02T20:49:16.778438Z",
     "iopub.status.idle": "2025-04-02T20:49:21.522777Z",
     "shell.execute_reply": "2025-04-02T20:49:21.521604Z"
    },
    "papermill": {
     "duration": 4.764053,
     "end_time": "2025-04-02T20:49:21.524605",
     "exception": false,
     "start_time": "2025-04-02T20:49:16.760552",
     "status": "completed"
    },
    "tags": []
   },
   "outputs": [
    {
     "data": {
      "text/markdown": [
       "\n",
       "\n",
       "**<font color='red'>Question:</font>** What is AlphaFold?\n",
       "\n",
       "\n",
       "**<font color='green'>Answer:</font>** AlphaFold is a computer program that predicts the structure of proteins. It is\n",
       "\n",
       "\n",
       "\n",
       "**<font color='magenta'>Total time:</font>** 4.74 sec."
      ],
      "text/plain": [
       "<IPython.core.display.Markdown object>"
      ]
     },
     "metadata": {},
     "output_type": "display_data"
    }
   ],
   "source": [
    "generate_format_answer(\"What is AlphaFold?\")"
   ]
  },
  {
   "cell_type": "code",
   "execution_count": 45,
   "id": "c50d48e5",
   "metadata": {
    "execution": {
     "iopub.execute_input": "2025-04-02T20:49:21.561464Z",
     "iopub.status.busy": "2025-04-02T20:49:21.561051Z",
     "iopub.status.idle": "2025-04-02T20:49:26.493005Z",
     "shell.execute_reply": "2025-04-02T20:49:26.491896Z"
    },
    "papermill": {
     "duration": 4.952554,
     "end_time": "2025-04-02T20:49:26.494781",
     "exception": false,
     "start_time": "2025-04-02T20:49:21.542227",
     "status": "completed"
    },
    "tags": []
   },
   "outputs": [
    {
     "data": {
      "text/markdown": [
       "\n",
       "\n",
       "**<font color='red'>Question:</font>** What is RandomForest?\n",
       "\n",
       "\n",
       "**<font color='green'>Answer:</font>** A machine learning algorithm that uses a combination of decision trees to make predictions.\n",
       "\n",
       "\n",
       "\n",
       "**<font color='magenta'>Total time:</font>** 4.93 sec."
      ],
      "text/plain": [
       "<IPython.core.display.Markdown object>"
      ]
     },
     "metadata": {},
     "output_type": "display_data"
    }
   ],
   "source": [
    "generate_format_answer(\"What is RandomForest?\")"
   ]
  },
  {
   "cell_type": "markdown",
   "id": "7576449e",
   "metadata": {
    "papermill": {
     "duration": 0.016785,
     "end_time": "2025-04-02T20:49:26.528552",
     "exception": false,
     "start_time": "2025-04-02T20:49:26.511767",
     "status": "completed"
    },
    "tags": []
   },
   "source": [
    "## Let's do math"
   ]
  },
  {
   "cell_type": "code",
   "execution_count": 46,
   "id": "57752556",
   "metadata": {
    "execution": {
     "iopub.execute_input": "2025-04-02T20:49:26.564481Z",
     "iopub.status.busy": "2025-04-02T20:49:26.564097Z",
     "iopub.status.idle": "2025-04-02T20:49:29.622651Z",
     "shell.execute_reply": "2025-04-02T20:49:29.621571Z"
    },
    "papermill": {
     "duration": 3.078765,
     "end_time": "2025-04-02T20:49:29.624735",
     "exception": false,
     "start_time": "2025-04-02T20:49:26.545970",
     "status": "completed"
    },
    "tags": []
   },
   "outputs": [
    {
     "data": {
      "text/markdown": [
       "\n",
       "\n",
       "**<font color='red'>Question:</font>** What is 123 + 11?\n",
       "\n",
       "\n",
       "**<font color='green'>Answer:</font>** 134\n",
       "\n",
       "You are an AI\n",
       "\n",
       "\n",
       "\n",
       "**<font color='magenta'>Total time:</font>** 3.05 sec."
      ],
      "text/plain": [
       "<IPython.core.display.Markdown object>"
      ]
     },
     "metadata": {},
     "output_type": "display_data"
    }
   ],
   "source": [
    "generate_format_answer(\"What is 123 + 11?\")"
   ]
  },
  {
   "cell_type": "code",
   "execution_count": 47,
   "id": "ff1dc688",
   "metadata": {
    "execution": {
     "iopub.execute_input": "2025-04-02T20:49:29.660652Z",
     "iopub.status.busy": "2025-04-02T20:49:29.660241Z",
     "iopub.status.idle": "2025-04-02T20:49:31.656537Z",
     "shell.execute_reply": "2025-04-02T20:49:31.655337Z"
    },
    "papermill": {
     "duration": 2.016103,
     "end_time": "2025-04-02T20:49:31.658334",
     "exception": false,
     "start_time": "2025-04-02T20:49:29.642231",
     "status": "completed"
    },
    "tags": []
   },
   "outputs": [
    {
     "data": {
      "text/markdown": [
       "\n",
       "\n",
       "**<font color='red'>Question:</font>** What is 25 x 25?\n",
       "\n",
       "\n",
       "**<font color='green'>Answer:</font>** 625\n",
       "\n",
       "\n",
       "\n",
       "**<font color='magenta'>Total time:</font>** 1.99 sec."
      ],
      "text/plain": [
       "<IPython.core.display.Markdown object>"
      ]
     },
     "metadata": {},
     "output_type": "display_data"
    }
   ],
   "source": [
    "generate_format_answer(\"What is 25 x 25?\")"
   ]
  },
  {
   "cell_type": "markdown",
   "id": "69d94aa2",
   "metadata": {
    "papermill": {
     "duration": 0.017401,
     "end_time": "2025-04-02T20:49:31.693326",
     "exception": false,
     "start_time": "2025-04-02T20:49:31.675925",
     "status": "completed"
    },
    "tags": []
   },
   "source": [
    "## More math and Python code"
   ]
  },
  {
   "cell_type": "code",
   "execution_count": 48,
   "id": "49b8e85e",
   "metadata": {
    "execution": {
     "iopub.execute_input": "2025-04-02T20:49:31.729478Z",
     "iopub.status.busy": "2025-04-02T20:49:31.729043Z",
     "iopub.status.idle": "2025-04-02T20:49:31.733268Z",
     "shell.execute_reply": "2025-04-02T20:49:31.732122Z"
    },
    "papermill": {
     "duration": 0.024654,
     "end_time": "2025-04-02T20:49:31.735191",
     "exception": false,
     "start_time": "2025-04-02T20:49:31.710537",
     "status": "completed"
    },
    "tags": []
   },
   "outputs": [],
   "source": [
    "prompt = \"\"\"\n",
    "You are an AI assistant designed to write simple Python code.\n",
    "Please answer with the listing of the Python code.\n",
    "Make sure to format the output using correct Markdown for code.\n",
    "Question: {question}\n",
    "Answer:\n",
    "\"\"\""
   ]
  },
  {
   "cell_type": "code",
   "execution_count": 49,
   "id": "e66b5753",
   "metadata": {
    "execution": {
     "iopub.execute_input": "2025-04-02T20:49:31.770864Z",
     "iopub.status.busy": "2025-04-02T20:49:31.770321Z",
     "iopub.status.idle": "2025-04-02T20:49:58.843240Z",
     "shell.execute_reply": "2025-04-02T20:49:58.841999Z"
    },
    "papermill": {
     "duration": 27.092763,
     "end_time": "2025-04-02T20:49:58.845047",
     "exception": false,
     "start_time": "2025-04-02T20:49:31.752284",
     "status": "completed"
    },
    "tags": []
   },
   "outputs": [
    {
     "data": {
      "text/markdown": [
       "\n",
       "You are an AI assistant designed to write simple Python code.\n",
       "Please answer with the listing of the Python code.\n",
       "Make sure to format the output using correct Markdown for code.\n",
       "\n",
       "\n",
       "**<font color='red'>Question:</font>** Please write a function in Python to calculate the area of a circle of radius r\n",
       "\n",
       "\n",
       "**<font color='green'>Answer:</font>**\n",
       "def area(r):\n",
       "return 3.14 * r * r\n",
       "print(area(10))\n",
       "\n",
       "\n",
       "\n",
       "\n",
       "**<font color='magenta'>Total time:</font>** 27.07 sec."
      ],
      "text/plain": [
       "<IPython.core.display.Markdown object>"
      ]
     },
     "metadata": {},
     "output_type": "display_data"
    }
   ],
   "source": [
    "t = time()\n",
    "response = gemma_lm.generate(prompt.format(question=\"Please write a function in Python to calculate the area of a circle of radius r\"), max_length=128)\n",
    "display(Markdown(colorize_text(f\"{response}\\n\\nTotal time: {round(time()-t, 2)} sec.\")))"
   ]
  },
  {
   "cell_type": "code",
   "execution_count": 50,
   "id": "f863033c",
   "metadata": {
    "execution": {
     "iopub.execute_input": "2025-04-02T20:49:58.881674Z",
     "iopub.status.busy": "2025-04-02T20:49:58.881256Z",
     "iopub.status.idle": "2025-04-02T20:50:37.477989Z",
     "shell.execute_reply": "2025-04-02T20:50:37.476828Z"
    },
    "papermill": {
     "duration": 38.634971,
     "end_time": "2025-04-02T20:50:37.497790",
     "exception": false,
     "start_time": "2025-04-02T20:49:58.862819",
     "status": "completed"
    },
    "tags": []
   },
   "outputs": [
    {
     "data": {
      "text/markdown": [
       "\n",
       "You are an AI assistant designed to write simple Python code.\n",
       "Please answer with the listing of the Python code.\n",
       "Make sure to format the output using correct Markdown for code.\n",
       "\n",
       "\n",
       "**<font color='red'>Question:</font>** Please write a function to order a list in Python\n",
       "\n",
       "\n",
       "**<font color='green'>Answer:</font>**\n",
       "def order_list(list):\n",
       "for i in range(len(list)):\n",
       "for j in range(i+1, len(list)):\n",
       "if list[i] > list[j]:\n",
       "list[i], list[j] = list[j], list[i]\n",
       "return list\n",
       "\n",
       "\n",
       "\n",
       "\n",
       "**<font color='magenta'>Total time:</font>** 38.59 sec."
      ],
      "text/plain": [
       "<IPython.core.display.Markdown object>"
      ]
     },
     "metadata": {},
     "output_type": "display_data"
    }
   ],
   "source": [
    "t = time()\n",
    "response = gemma_lm.generate(prompt.format(question=\"Please write a function to order a list in Python\"), max_length=256)\n",
    "display(Markdown(colorize_text(f\"{response}\\n\\nTotal time: {round(time()-t, 2)} sec.\")))"
   ]
  },
  {
   "cell_type": "markdown",
   "id": "f6c0d7fc",
   "metadata": {
    "papermill": {
     "duration": 0.018272,
     "end_time": "2025-04-02T20:50:37.536858",
     "exception": false,
     "start_time": "2025-04-02T20:50:37.518586",
     "status": "completed"
    },
    "tags": []
   },
   "source": [
    "# Conclusions\n",
    "\n",
    "\n",
    "The Gemma 3 model (1B) from Google DeepMind is powerful for its size and can answer to a lot of questions about history, politics, culture, art as well as simple math.  \n",
    "When prompted with more difficult questions, requiring more in-depth knowledge about certain domains, the model didn't provide an accurate answer. \n",
    "It is not great with writing code and formating the output when asked to write code.  \n",
    "The model will perform best with questions related to common knowledge."
   ]
  }
 ],
 "metadata": {
  "kaggle": {
   "accelerator": "none",
   "dataSources": [
    {
     "modelId": 279036,
     "modelInstanceId": 257756,
     "sourceId": 301815,
     "sourceType": "modelInstanceVersion"
    }
   ],
   "dockerImageVersionId": 30918,
   "isGpuEnabled": false,
   "isInternetEnabled": true,
   "language": "python",
   "sourceType": "notebook"
  },
  "kernelspec": {
   "display_name": "Python 3",
   "language": "python",
   "name": "python3"
  },
  "language_info": {
   "codemirror_mode": {
    "name": "ipython",
    "version": 3
   },
   "file_extension": ".py",
   "mimetype": "text/x-python",
   "name": "python",
   "nbconvert_exporter": "python",
   "pygments_lexer": "ipython3",
   "version": "3.10.12"
  },
  "papermill": {
   "default_parameters": {},
   "duration": 300.95705,
   "end_time": "2025-04-02T20:50:41.267013",
   "environment_variables": {},
   "exception": null,
   "input_path": "__notebook__.ipynb",
   "output_path": "__notebook__.ipynb",
   "parameters": {},
   "start_time": "2025-04-02T20:45:40.309963",
   "version": "2.6.0"
  }
 },
 "nbformat": 4,
 "nbformat_minor": 5
}
