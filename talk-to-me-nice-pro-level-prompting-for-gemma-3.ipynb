{
 "cells": [
  {
   "cell_type": "markdown",
   "id": "233bcae7",
   "metadata": {
    "_cell_guid": "b1076dfc-b9ad-4769-8c92-a6c4dae69d19",
    "_uuid": "8f2839f25d086af736a60e9eeb907d3b93b6e0e5",
    "papermill": {
     "duration": 0.012477,
     "end_time": "2025-04-04T14:59:02.425748",
     "exception": false,
     "start_time": "2025-04-04T14:59:02.413271",
     "status": "completed"
    },
    "tags": []
   },
   "source": [
    "\n",
    "<center><img src=\"https://www.geeky-gadgets.com/wp-content/uploads/2025/03/google-gemma-3-advanced-ai-models.webp\"></img></center>\n",
    "\n",
    "# Introduction\n",
    "This Notebook will explore how to prompt Gemma 3, using KerasNLP. \n",
    "At this point, Keras version of Gemma 3 is quite new, and the code to run it is not yet documented.\n",
    "\n",
    "\n",
    "## What is Gemma?\n",
    "Gemma is a family of lightweight, state-of-the art open models built from the same research and technology used to create the Gemini models. At the 3rd generation now, Gemma 3 comes in 4 sizes, **1B**, **4B**, **12B** and **27B**, both pretrained and instruction finetuned versions.   \n",
    "\n",
    "Models **4B**, **12B**, **27B** brings an extended context window (up to **128K**) as well as **multi-modality** (text and image). \n",
    "\n",
    "The **1B** model, although incredibly compact, is not only very fast but is also quite powerful.\n",
    "\n",
    "Will use the **1B** model, on CPU only, without any accelerator.\n",
    "\n",
    "\n",
    "# Prerequisites\n",
    "\n",
    "## Install packages\n",
    "\n",
    "We will install Keras and KerasNLP."
   ]
  },
  {
   "cell_type": "code",
   "execution_count": 1,
   "id": "0272964d",
   "metadata": {
    "execution": {
     "iopub.execute_input": "2025-04-04T14:59:02.452599Z",
     "iopub.status.busy": "2025-04-04T14:59:02.452189Z",
     "iopub.status.idle": "2025-04-04T14:59:18.671549Z",
     "shell.execute_reply": "2025-04-04T14:59:18.669525Z"
    },
    "papermill": {
     "duration": 16.235058,
     "end_time": "2025-04-04T14:59:18.674118",
     "exception": false,
     "start_time": "2025-04-04T14:59:02.439060",
     "status": "completed"
    },
    "tags": []
   },
   "outputs": [
    {
     "name": "stdout",
     "output_type": "stream",
     "text": [
      "\u001b[2K   \u001b[90m━━━━━━━━━━━━━━━━━━━━━━━━━━━━━━━━━━━━━━━━\u001b[0m \u001b[32m792.1/792.1 kB\u001b[0m \u001b[31m10.1 MB/s\u001b[0m eta \u001b[36m0:00:00\u001b[0m\r\n",
      "\u001b[2K   \u001b[90m━━━━━━━━━━━━━━━━━━━━━━━━━━━━━━━━━━━━━━━━\u001b[0m \u001b[32m1.3/1.3 MB\u001b[0m \u001b[31m14.8 MB/s\u001b[0m eta \u001b[36m0:00:00\u001b[0m\r\n",
      "\u001b[?25h\u001b[31mERROR: pip's dependency resolver does not currently take into account all the packages that are installed. This behaviour is the source of the following dependency conflicts.\r\n",
      "tensorflow-decision-forests 1.10.0 requires tensorflow==2.17.0, but you have tensorflow 2.17.1 which is incompatible.\u001b[0m\u001b[31m\r\n",
      "\u001b[0m"
     ]
    }
   ],
   "source": [
    "!pip install -q -U keras-nlp\n",
    "!pip install -q -U keras"
   ]
  },
  {
   "cell_type": "markdown",
   "id": "2a2e2925",
   "metadata": {
    "papermill": {
     "duration": 0.01422,
     "end_time": "2025-04-04T14:59:18.703770",
     "exception": false,
     "start_time": "2025-04-04T14:59:18.689550",
     "status": "completed"
    },
    "tags": []
   },
   "source": [
    "## Import packages"
   ]
  },
  {
   "cell_type": "code",
   "execution_count": 2,
   "id": "562b63b8",
   "metadata": {
    "execution": {
     "iopub.execute_input": "2025-04-04T14:59:18.738326Z",
     "iopub.status.busy": "2025-04-04T14:59:18.737762Z",
     "iopub.status.idle": "2025-04-04T14:59:40.950911Z",
     "shell.execute_reply": "2025-04-04T14:59:40.949221Z"
    },
    "papermill": {
     "duration": 22.235783,
     "end_time": "2025-04-04T14:59:40.953881",
     "exception": false,
     "start_time": "2025-04-04T14:59:18.718098",
     "status": "completed"
    },
    "tags": []
   },
   "outputs": [],
   "source": [
    "import keras\n",
    "import keras_nlp\n",
    "from keras_nlp.samplers import TopKSampler\n",
    "from time import time"
   ]
  },
  {
   "cell_type": "markdown",
   "id": "15c8377e",
   "metadata": {
    "papermill": {
     "duration": 0.013612,
     "end_time": "2025-04-04T14:59:40.982003",
     "exception": false,
     "start_time": "2025-04-04T14:59:40.968391",
     "status": "completed"
    },
    "tags": []
   },
   "source": [
    "Select the backend. Keras is a high-level, multi-framework deep learning API designed for simplicity and ease of use. Keras 3 lets you choose the backend: TensorFlow, JAX, or PyTorch. For this Notebook, we will choose jax as backend."
   ]
  },
  {
   "cell_type": "code",
   "execution_count": 3,
   "id": "f8d166a5",
   "metadata": {
    "execution": {
     "iopub.execute_input": "2025-04-04T14:59:41.013340Z",
     "iopub.status.busy": "2025-04-04T14:59:41.012256Z",
     "iopub.status.idle": "2025-04-04T14:59:41.019900Z",
     "shell.execute_reply": "2025-04-04T14:59:41.018543Z"
    },
    "papermill": {
     "duration": 0.025662,
     "end_time": "2025-04-04T14:59:41.022024",
     "exception": false,
     "start_time": "2025-04-04T14:59:40.996362",
     "status": "completed"
    },
    "tags": []
   },
   "outputs": [],
   "source": [
    "import os\n",
    "os.environ[\"KERAS_BACKEND\"] = \"jax\"\n",
    "os.environ[\"XLA_PYTHON_CLIENT_MEM_FRACTION\"] = \"0.9\""
   ]
  },
  {
   "cell_type": "markdown",
   "id": "b876963f",
   "metadata": {
    "papermill": {
     "duration": 0.012185,
     "end_time": "2025-04-04T14:59:41.047914",
     "exception": false,
     "start_time": "2025-04-04T14:59:41.035729",
     "status": "completed"
    },
    "tags": []
   },
   "source": [
    "## Initialize the model\n",
    "\n",
    "Make sure to use `Gemma3CausalLM` to initialize the model, not the `GemmaCausalLM`. Otherwise the Gemma3 backbone will not be recognized."
   ]
  },
  {
   "cell_type": "code",
   "execution_count": 4,
   "id": "755e26f6",
   "metadata": {
    "execution": {
     "iopub.execute_input": "2025-04-04T14:59:41.076880Z",
     "iopub.status.busy": "2025-04-04T14:59:41.076444Z",
     "iopub.status.idle": "2025-04-04T15:00:13.620946Z",
     "shell.execute_reply": "2025-04-04T15:00:13.619024Z"
    },
    "papermill": {
     "duration": 32.563003,
     "end_time": "2025-04-04T15:00:13.624145",
     "exception": false,
     "start_time": "2025-04-04T14:59:41.061142",
     "status": "completed"
    },
    "tags": []
   },
   "outputs": [],
   "source": [
    "gemma_lm = keras_nlp.models.Gemma3CausalLM.from_preset(\"/kaggle/input/gemma3/keras/gemma3_1b/1\")"
   ]
  },
  {
   "cell_type": "code",
   "execution_count": 5,
   "id": "1bfe31b1",
   "metadata": {
    "execution": {
     "iopub.execute_input": "2025-04-04T15:00:13.654532Z",
     "iopub.status.busy": "2025-04-04T15:00:13.654075Z",
     "iopub.status.idle": "2025-04-04T15:00:14.062061Z",
     "shell.execute_reply": "2025-04-04T15:00:14.057739Z"
    },
    "papermill": {
     "duration": 0.428336,
     "end_time": "2025-04-04T15:00:14.067446",
     "exception": false,
     "start_time": "2025-04-04T15:00:13.639110",
     "status": "completed"
    },
    "tags": []
   },
   "outputs": [],
   "source": [
    "tokenizer = keras_nlp.models.Gemma3Tokenizer.from_preset(\"/kaggle/input/gemma3/keras/gemma3_1b/1\")"
   ]
  },
  {
   "cell_type": "markdown",
   "id": "37f2d507",
   "metadata": {
    "papermill": {
     "duration": 0.015505,
     "end_time": "2025-04-04T15:00:14.109082",
     "exception": false,
     "start_time": "2025-04-04T15:00:14.093577",
     "status": "completed"
    },
    "tags": []
   },
   "source": [
    "Let's verify the model now."
   ]
  },
  {
   "cell_type": "code",
   "execution_count": 6,
   "id": "6a97bf3e",
   "metadata": {
    "execution": {
     "iopub.execute_input": "2025-04-04T15:00:14.139091Z",
     "iopub.status.busy": "2025-04-04T15:00:14.138698Z",
     "iopub.status.idle": "2025-04-04T15:00:14.194681Z",
     "shell.execute_reply": "2025-04-04T15:00:14.192640Z"
    },
    "papermill": {
     "duration": 0.075978,
     "end_time": "2025-04-04T15:00:14.198165",
     "exception": false,
     "start_time": "2025-04-04T15:00:14.122187",
     "status": "completed"
    },
    "tags": []
   },
   "outputs": [
    {
     "data": {
      "text/html": [
       "<pre style=\"white-space:pre;overflow-x:auto;line-height:normal;font-family:Menlo,'DejaVu Sans Mono',consolas,'Courier New',monospace\"><span style=\"font-weight: bold\">Preprocessor: \"gemma3_causal_lm_preprocessor\"</span>\n",
       "</pre>\n"
      ],
      "text/plain": [
       "\u001b[1mPreprocessor: \"gemma3_causal_lm_preprocessor\"\u001b[0m\n"
      ]
     },
     "metadata": {},
     "output_type": "display_data"
    },
    {
     "data": {
      "text/html": [
       "<pre style=\"white-space:pre;overflow-x:auto;line-height:normal;font-family:Menlo,'DejaVu Sans Mono',consolas,'Courier New',monospace\">┏━━━━━━━━━━━━━━━━━━━━━━━━━━━━━━━━━━━━━━━━━━━━━━━━━━━━━━━━━━━━━━━┳━━━━━━━━━━━━━━━━━━━━━━━━━━━━━━━━━━━━━━━━━━┓\n",
       "┃<span style=\"font-weight: bold\"> Layer (type)                                                  </span>┃<span style=\"font-weight: bold\">                                   Config </span>┃\n",
       "┡━━━━━━━━━━━━━━━━━━━━━━━━━━━━━━━━━━━━━━━━━━━━━━━━━━━━━━━━━━━━━━━╇━━━━━━━━━━━━━━━━━━━━━━━━━━━━━━━━━━━━━━━━━━┩\n",
       "│ gemma3_tokenizer (<span style=\"color: #0087ff; text-decoration-color: #0087ff\">Gemma3Tokenizer</span>)                            │                      Vocab size: <span style=\"color: #00af00; text-decoration-color: #00af00\">262,144</span> │\n",
       "└───────────────────────────────────────────────────────────────┴──────────────────────────────────────────┘\n",
       "</pre>\n"
      ],
      "text/plain": [
       "┏━━━━━━━━━━━━━━━━━━━━━━━━━━━━━━━━━━━━━━━━━━━━━━━━━━━━━━━━━━━━━━━┳━━━━━━━━━━━━━━━━━━━━━━━━━━━━━━━━━━━━━━━━━━┓\n",
       "┃\u001b[1m \u001b[0m\u001b[1mLayer (type)                                                 \u001b[0m\u001b[1m \u001b[0m┃\u001b[1m \u001b[0m\u001b[1m                                  Config\u001b[0m\u001b[1m \u001b[0m┃\n",
       "┡━━━━━━━━━━━━━━━━━━━━━━━━━━━━━━━━━━━━━━━━━━━━━━━━━━━━━━━━━━━━━━━╇━━━━━━━━━━━━━━━━━━━━━━━━━━━━━━━━━━━━━━━━━━┩\n",
       "│ gemma3_tokenizer (\u001b[38;5;33mGemma3Tokenizer\u001b[0m)                            │                      Vocab size: \u001b[38;5;34m262,144\u001b[0m │\n",
       "└───────────────────────────────────────────────────────────────┴──────────────────────────────────────────┘\n"
      ]
     },
     "metadata": {},
     "output_type": "display_data"
    },
    {
     "data": {
      "text/html": [
       "<pre style=\"white-space:pre;overflow-x:auto;line-height:normal;font-family:Menlo,'DejaVu Sans Mono',consolas,'Courier New',monospace\"><span style=\"font-weight: bold\">Model: \"gemma3_causal_lm\"</span>\n",
       "</pre>\n"
      ],
      "text/plain": [
       "\u001b[1mModel: \"gemma3_causal_lm\"\u001b[0m\n"
      ]
     },
     "metadata": {},
     "output_type": "display_data"
    },
    {
     "data": {
      "text/html": [
       "<pre style=\"white-space:pre;overflow-x:auto;line-height:normal;font-family:Menlo,'DejaVu Sans Mono',consolas,'Courier New',monospace\">┏━━━━━━━━━━━━━━━━━━━━━━━━━━━━━━━┳━━━━━━━━━━━━━━━━━━━━━━━━━━━┳━━━━━━━━━━━━━━━━━┳━━━━━━━━━━━━━━━━━━━━━━━━━━━━┓\n",
       "┃<span style=\"font-weight: bold\"> Layer (type)                  </span>┃<span style=\"font-weight: bold\"> Output Shape              </span>┃<span style=\"font-weight: bold\">         Param # </span>┃<span style=\"font-weight: bold\"> Connected to               </span>┃\n",
       "┡━━━━━━━━━━━━━━━━━━━━━━━━━━━━━━━╇━━━━━━━━━━━━━━━━━━━━━━━━━━━╇━━━━━━━━━━━━━━━━━╇━━━━━━━━━━━━━━━━━━━━━━━━━━━━┩\n",
       "│ padding_mask (<span style=\"color: #0087ff; text-decoration-color: #0087ff\">InputLayer</span>)     │ (<span style=\"color: #00d7ff; text-decoration-color: #00d7ff\">None</span>, <span style=\"color: #00d7ff; text-decoration-color: #00d7ff\">None</span>)              │               <span style=\"color: #00af00; text-decoration-color: #00af00\">0</span> │ -                          │\n",
       "├───────────────────────────────┼───────────────────────────┼─────────────────┼────────────────────────────┤\n",
       "│ token_ids (<span style=\"color: #0087ff; text-decoration-color: #0087ff\">InputLayer</span>)        │ (<span style=\"color: #00d7ff; text-decoration-color: #00d7ff\">None</span>, <span style=\"color: #00d7ff; text-decoration-color: #00d7ff\">None</span>)              │               <span style=\"color: #00af00; text-decoration-color: #00af00\">0</span> │ -                          │\n",
       "├───────────────────────────────┼───────────────────────────┼─────────────────┼────────────────────────────┤\n",
       "│ gemma3_backbone               │ (<span style=\"color: #00d7ff; text-decoration-color: #00d7ff\">None</span>, <span style=\"color: #00d7ff; text-decoration-color: #00d7ff\">None</span>, <span style=\"color: #00af00; text-decoration-color: #00af00\">1152</span>)        │     <span style=\"color: #00af00; text-decoration-color: #00af00\">999,885,952</span> │ padding_mask[<span style=\"color: #00af00; text-decoration-color: #00af00\">0</span>][<span style=\"color: #00af00; text-decoration-color: #00af00\">0</span>],        │\n",
       "│ (<span style=\"color: #0087ff; text-decoration-color: #0087ff\">Gemma3Backbone</span>)              │                           │                 │ token_ids[<span style=\"color: #00af00; text-decoration-color: #00af00\">0</span>][<span style=\"color: #00af00; text-decoration-color: #00af00\">0</span>]            │\n",
       "├───────────────────────────────┼───────────────────────────┼─────────────────┼────────────────────────────┤\n",
       "│ token_embedding               │ (<span style=\"color: #00d7ff; text-decoration-color: #00d7ff\">None</span>, <span style=\"color: #00d7ff; text-decoration-color: #00d7ff\">None</span>, <span style=\"color: #00af00; text-decoration-color: #00af00\">262144</span>)      │     <span style=\"color: #00af00; text-decoration-color: #00af00\">301,989,888</span> │ gemma3_backbone[<span style=\"color: #00af00; text-decoration-color: #00af00\">0</span>][<span style=\"color: #00af00; text-decoration-color: #00af00\">0</span>]      │\n",
       "│ (<span style=\"color: #0087ff; text-decoration-color: #0087ff\">ReversibleEmbedding</span>)         │                           │                 │                            │\n",
       "└───────────────────────────────┴───────────────────────────┴─────────────────┴────────────────────────────┘\n",
       "</pre>\n"
      ],
      "text/plain": [
       "┏━━━━━━━━━━━━━━━━━━━━━━━━━━━━━━━┳━━━━━━━━━━━━━━━━━━━━━━━━━━━┳━━━━━━━━━━━━━━━━━┳━━━━━━━━━━━━━━━━━━━━━━━━━━━━┓\n",
       "┃\u001b[1m \u001b[0m\u001b[1mLayer (type)                 \u001b[0m\u001b[1m \u001b[0m┃\u001b[1m \u001b[0m\u001b[1mOutput Shape             \u001b[0m\u001b[1m \u001b[0m┃\u001b[1m \u001b[0m\u001b[1m        Param #\u001b[0m\u001b[1m \u001b[0m┃\u001b[1m \u001b[0m\u001b[1mConnected to              \u001b[0m\u001b[1m \u001b[0m┃\n",
       "┡━━━━━━━━━━━━━━━━━━━━━━━━━━━━━━━╇━━━━━━━━━━━━━━━━━━━━━━━━━━━╇━━━━━━━━━━━━━━━━━╇━━━━━━━━━━━━━━━━━━━━━━━━━━━━┩\n",
       "│ padding_mask (\u001b[38;5;33mInputLayer\u001b[0m)     │ (\u001b[38;5;45mNone\u001b[0m, \u001b[38;5;45mNone\u001b[0m)              │               \u001b[38;5;34m0\u001b[0m │ -                          │\n",
       "├───────────────────────────────┼───────────────────────────┼─────────────────┼────────────────────────────┤\n",
       "│ token_ids (\u001b[38;5;33mInputLayer\u001b[0m)        │ (\u001b[38;5;45mNone\u001b[0m, \u001b[38;5;45mNone\u001b[0m)              │               \u001b[38;5;34m0\u001b[0m │ -                          │\n",
       "├───────────────────────────────┼───────────────────────────┼─────────────────┼────────────────────────────┤\n",
       "│ gemma3_backbone               │ (\u001b[38;5;45mNone\u001b[0m, \u001b[38;5;45mNone\u001b[0m, \u001b[38;5;34m1152\u001b[0m)        │     \u001b[38;5;34m999,885,952\u001b[0m │ padding_mask[\u001b[38;5;34m0\u001b[0m][\u001b[38;5;34m0\u001b[0m],        │\n",
       "│ (\u001b[38;5;33mGemma3Backbone\u001b[0m)              │                           │                 │ token_ids[\u001b[38;5;34m0\u001b[0m][\u001b[38;5;34m0\u001b[0m]            │\n",
       "├───────────────────────────────┼───────────────────────────┼─────────────────┼────────────────────────────┤\n",
       "│ token_embedding               │ (\u001b[38;5;45mNone\u001b[0m, \u001b[38;5;45mNone\u001b[0m, \u001b[38;5;34m262144\u001b[0m)      │     \u001b[38;5;34m301,989,888\u001b[0m │ gemma3_backbone[\u001b[38;5;34m0\u001b[0m][\u001b[38;5;34m0\u001b[0m]      │\n",
       "│ (\u001b[38;5;33mReversibleEmbedding\u001b[0m)         │                           │                 │                            │\n",
       "└───────────────────────────────┴───────────────────────────┴─────────────────┴────────────────────────────┘\n"
      ]
     },
     "metadata": {},
     "output_type": "display_data"
    },
    {
     "data": {
      "text/html": [
       "<pre style=\"white-space:pre;overflow-x:auto;line-height:normal;font-family:Menlo,'DejaVu Sans Mono',consolas,'Courier New',monospace\"><span style=\"font-weight: bold\"> Total params: </span><span style=\"color: #00af00; text-decoration-color: #00af00\">999,885,952</span> (3.72 GB)\n",
       "</pre>\n"
      ],
      "text/plain": [
       "\u001b[1m Total params: \u001b[0m\u001b[38;5;34m999,885,952\u001b[0m (3.72 GB)\n"
      ]
     },
     "metadata": {},
     "output_type": "display_data"
    },
    {
     "data": {
      "text/html": [
       "<pre style=\"white-space:pre;overflow-x:auto;line-height:normal;font-family:Menlo,'DejaVu Sans Mono',consolas,'Courier New',monospace\"><span style=\"font-weight: bold\"> Trainable params: </span><span style=\"color: #00af00; text-decoration-color: #00af00\">999,885,952</span> (3.72 GB)\n",
       "</pre>\n"
      ],
      "text/plain": [
       "\u001b[1m Trainable params: \u001b[0m\u001b[38;5;34m999,885,952\u001b[0m (3.72 GB)\n"
      ]
     },
     "metadata": {},
     "output_type": "display_data"
    },
    {
     "data": {
      "text/html": [
       "<pre style=\"white-space:pre;overflow-x:auto;line-height:normal;font-family:Menlo,'DejaVu Sans Mono',consolas,'Courier New',monospace\"><span style=\"font-weight: bold\"> Non-trainable params: </span><span style=\"color: #00af00; text-decoration-color: #00af00\">0</span> (0.00 B)\n",
       "</pre>\n"
      ],
      "text/plain": [
       "\u001b[1m Non-trainable params: \u001b[0m\u001b[38;5;34m0\u001b[0m (0.00 B)\n"
      ]
     },
     "metadata": {},
     "output_type": "display_data"
    }
   ],
   "source": [
    "gemma_lm.summary()"
   ]
  },
  {
   "cell_type": "markdown",
   "id": "73d6f7b2",
   "metadata": {
    "papermill": {
     "duration": 0.020635,
     "end_time": "2025-04-04T15:00:14.241551",
     "exception": false,
     "start_time": "2025-04-04T15:00:14.220916",
     "status": "completed"
    },
    "tags": []
   },
   "source": [
    "We observe that the model is indeed under 1GB.\n",
    "\n",
    "# Test the model\n",
    "\n",
    "Let's define a simple prompt."
   ]
  },
  {
   "cell_type": "code",
   "execution_count": 7,
   "id": "bf3da2d5",
   "metadata": {
    "execution": {
     "iopub.execute_input": "2025-04-04T15:00:14.283375Z",
     "iopub.status.busy": "2025-04-04T15:00:14.282762Z",
     "iopub.status.idle": "2025-04-04T15:00:47.117227Z",
     "shell.execute_reply": "2025-04-04T15:00:47.115640Z"
    },
    "papermill": {
     "duration": 32.859679,
     "end_time": "2025-04-04T15:00:47.121831",
     "exception": false,
     "start_time": "2025-04-04T15:00:14.262152",
     "status": "completed"
    },
    "tags": []
   },
   "outputs": [],
   "source": [
    "instructions = \"You are an AI that answers in short, complete sentences only.\\n\"\n",
    "prompt = (\n",
    "    f\"{instructions}\"\n",
    "    \"Question: {question}\\n\"\n",
    "    \"Answer:\"\n",
    ")\n",
    "\n",
    "output = gemma_lm.generate(\n",
    "    prompt.format(question=\"What is the temperature of the Moon?\"),\n",
    "    max_length=40, \n",
    "    stop_token_ids=[tokenizer.token_to_id(\"\\n\")]\n",
    ")\n"
   ]
  },
  {
   "cell_type": "code",
   "execution_count": 8,
   "id": "b6db772f",
   "metadata": {
    "execution": {
     "iopub.execute_input": "2025-04-04T15:00:47.155377Z",
     "iopub.status.busy": "2025-04-04T15:00:47.154851Z",
     "iopub.status.idle": "2025-04-04T15:00:47.161058Z",
     "shell.execute_reply": "2025-04-04T15:00:47.159749Z"
    },
    "papermill": {
     "duration": 0.023432,
     "end_time": "2025-04-04T15:00:47.163215",
     "exception": false,
     "start_time": "2025-04-04T15:00:47.139783",
     "status": "completed"
    },
    "tags": []
   },
   "outputs": [
    {
     "name": "stdout",
     "output_type": "stream",
     "text": [
      "Question: What is the temperature of the Moon?\n",
      "Answer: The temperature of the Moon is 100 degrees Celsius\n"
     ]
    }
   ],
   "source": [
    "answer = output.replace(instructions, \"\").strip()\n",
    "print(answer)"
   ]
  },
  {
   "cell_type": "markdown",
   "id": "c8c0cf58",
   "metadata": {
    "papermill": {
     "duration": 0.012921,
     "end_time": "2025-04-04T15:00:47.189724",
     "exception": false,
     "start_time": "2025-04-04T15:00:47.176803",
     "status": "completed"
    },
    "tags": []
   },
   "source": [
    "## Functions to generate and format the output\n",
    "\n",
    "We define a function to generate the answer."
   ]
  },
  {
   "cell_type": "code",
   "execution_count": 9,
   "id": "dbb3a591",
   "metadata": {
    "execution": {
     "iopub.execute_input": "2025-04-04T15:00:47.219282Z",
     "iopub.status.busy": "2025-04-04T15:00:47.218898Z",
     "iopub.status.idle": "2025-04-04T15:00:47.225208Z",
     "shell.execute_reply": "2025-04-04T15:00:47.223627Z"
    },
    "papermill": {
     "duration": 0.023934,
     "end_time": "2025-04-04T15:00:47.227355",
     "exception": false,
     "start_time": "2025-04-04T15:00:47.203421",
     "status": "completed"
    },
    "tags": []
   },
   "outputs": [],
   "source": [
    "def generate_answer(question, \n",
    "                    instructions=\"You are an AI that answers in short, complete sentences only.\\n\", \n",
    "                    max_length=40):\n",
    "    prompt = (\n",
    "        f\"{instructions}\"\n",
    "        \"Question: {question}\\n\"\n",
    "        \"Answer:\"\n",
    "    )\n",
    "    output = gemma_lm.generate(\n",
    "        prompt.format(question=question),\n",
    "        max_length=max_length, \n",
    "        stop_token_ids=[tokenizer.token_to_id(\"\\n\")]\n",
    "    )    \n",
    "    answer = output.replace(instructions, \"\").strip()\n",
    "    return answer"
   ]
  },
  {
   "cell_type": "markdown",
   "id": "86904848",
   "metadata": {
    "papermill": {
     "duration": 0.013581,
     "end_time": "2025-04-04T15:00:47.255350",
     "exception": false,
     "start_time": "2025-04-04T15:00:47.241769",
     "status": "completed"
    },
    "tags": []
   },
   "source": [
    "We define a function to format the output."
   ]
  },
  {
   "cell_type": "code",
   "execution_count": 10,
   "id": "460e0217",
   "metadata": {
    "execution": {
     "iopub.execute_input": "2025-04-04T15:00:47.285180Z",
     "iopub.status.busy": "2025-04-04T15:00:47.284692Z",
     "iopub.status.idle": "2025-04-04T15:00:47.290658Z",
     "shell.execute_reply": "2025-04-04T15:00:47.289443Z"
    },
    "papermill": {
     "duration": 0.024141,
     "end_time": "2025-04-04T15:00:47.292869",
     "exception": false,
     "start_time": "2025-04-04T15:00:47.268728",
     "status": "completed"
    },
    "tags": []
   },
   "outputs": [],
   "source": [
    "from IPython.display import display, Markdown\n",
    "\n",
    "def colorize_text(text):\n",
    "    for word, color in zip([\"Reasoning\", \"Question\", \"Answer\", \"Explanation\", \"Total time\"], [\"blue\", \"red\", \"green\", \"darkblue\",  \"magenta\"]):\n",
    "        text = text.replace(f\"{word}:\", f\"\\n\\n**<font color='{color}'>{word}:</font>**\")\n",
    "    return text"
   ]
  },
  {
   "cell_type": "markdown",
   "id": "afab6d08",
   "metadata": {
    "papermill": {
     "duration": 0.013928,
     "end_time": "2025-04-04T15:00:47.320716",
     "exception": false,
     "start_time": "2025-04-04T15:00:47.306788",
     "status": "completed"
    },
    "tags": []
   },
   "source": [
    "Now let's combine both."
   ]
  },
  {
   "cell_type": "code",
   "execution_count": 11,
   "id": "d41beee6",
   "metadata": {
    "execution": {
     "iopub.execute_input": "2025-04-04T15:00:47.351694Z",
     "iopub.status.busy": "2025-04-04T15:00:47.351272Z",
     "iopub.status.idle": "2025-04-04T15:00:47.357117Z",
     "shell.execute_reply": "2025-04-04T15:00:47.355453Z"
    },
    "papermill": {
     "duration": 0.022907,
     "end_time": "2025-04-04T15:00:47.359355",
     "exception": false,
     "start_time": "2025-04-04T15:00:47.336448",
     "status": "completed"
    },
    "tags": []
   },
   "outputs": [],
   "source": [
    "def generate_format_answer(question, \n",
    "                    instructions=\"You are an AI that answers in short, complete sentences only.\\n\", \n",
    "                    max_length=40):\n",
    "    t = time()\n",
    "    answer = generate_answer(question, instructions, max_length)\n",
    "    display(Markdown(colorize_text(f\"{answer}\\n\\nTotal time: {round(time()-t, 2)} sec.\")))"
   ]
  },
  {
   "cell_type": "code",
   "execution_count": 12,
   "id": "467373da",
   "metadata": {
    "execution": {
     "iopub.execute_input": "2025-04-04T15:00:47.388322Z",
     "iopub.status.busy": "2025-04-04T15:00:47.387933Z",
     "iopub.status.idle": "2025-04-04T15:00:51.026838Z",
     "shell.execute_reply": "2025-04-04T15:00:51.023255Z"
    },
    "papermill": {
     "duration": 3.657326,
     "end_time": "2025-04-04T15:00:51.030106",
     "exception": false,
     "start_time": "2025-04-04T15:00:47.372780",
     "status": "completed"
    },
    "tags": []
   },
   "outputs": [
    {
     "data": {
      "text/markdown": [
       "\n",
       "\n",
       "**<font color='red'>Question:</font>** What is the surface temperature of the Moon?\n",
       "\n",
       "\n",
       "**<font color='green'>Answer:</font>** 100 degrees Celsius\n",
       "\n",
       "\n",
       "\n",
       "**<font color='magenta'>Total time:</font>** 3.63 sec."
      ],
      "text/plain": [
       "<IPython.core.display.Markdown object>"
      ]
     },
     "metadata": {},
     "output_type": "display_data"
    }
   ],
   "source": [
    "generate_format_answer(\"What is the surface temperature of the Moon?\")"
   ]
  },
  {
   "cell_type": "markdown",
   "id": "3799ce0c",
   "metadata": {
    "papermill": {
     "duration": 0.028447,
     "end_time": "2025-04-04T15:00:51.078216",
     "exception": false,
     "start_time": "2025-04-04T15:00:51.049769",
     "status": "completed"
    },
    "tags": []
   },
   "source": [
    "## Let's ask some simple common knowledge questions\n",
    "\n",
    "\n",
    "Will ask questions from history, arts, general culture and politics."
   ]
  },
  {
   "cell_type": "code",
   "execution_count": 13,
   "id": "da1d589d",
   "metadata": {
    "execution": {
     "iopub.execute_input": "2025-04-04T15:00:51.114498Z",
     "iopub.status.busy": "2025-04-04T15:00:51.114070Z",
     "iopub.status.idle": "2025-04-04T15:00:55.974127Z",
     "shell.execute_reply": "2025-04-04T15:00:55.969420Z"
    },
    "papermill": {
     "duration": 4.882477,
     "end_time": "2025-04-04T15:00:55.978423",
     "exception": false,
     "start_time": "2025-04-04T15:00:51.095946",
     "status": "completed"
    },
    "tags": []
   },
   "outputs": [
    {
     "data": {
      "text/markdown": [
       "\n",
       "\n",
       "**<font color='red'>Question:</font>** When was the 30 years war?\n",
       "\n",
       "\n",
       "**<font color='green'>Answer:</font>** 1618-1648\n",
       "\n",
       "\n",
       "\n",
       "**<font color='magenta'>Total time:</font>** 4.84 sec."
      ],
      "text/plain": [
       "<IPython.core.display.Markdown object>"
      ]
     },
     "metadata": {},
     "output_type": "display_data"
    }
   ],
   "source": [
    "answer = generate_format_answer(\"When was the 30 years war?\")"
   ]
  },
  {
   "cell_type": "code",
   "execution_count": 14,
   "id": "9d7575bd",
   "metadata": {
    "execution": {
     "iopub.execute_input": "2025-04-04T15:00:56.056856Z",
     "iopub.status.busy": "2025-04-04T15:00:56.055877Z",
     "iopub.status.idle": "2025-04-04T15:01:00.056850Z",
     "shell.execute_reply": "2025-04-04T15:01:00.055298Z"
    },
    "papermill": {
     "duration": 4.054363,
     "end_time": "2025-04-04T15:01:00.059416",
     "exception": false,
     "start_time": "2025-04-04T15:00:56.005053",
     "status": "completed"
    },
    "tags": []
   },
   "outputs": [
    {
     "data": {
      "text/markdown": [
       "\n",
       "\n",
       "**<font color='red'>Question:</font>** When was founded Rome?\n",
       "\n",
       "\n",
       "**<font color='green'>Answer:</font>** 753 B.C.\n",
       "\n",
       "\n",
       "\n",
       "**<font color='magenta'>Total time:</font>** 3.99 sec."
      ],
      "text/plain": [
       "<IPython.core.display.Markdown object>"
      ]
     },
     "metadata": {},
     "output_type": "display_data"
    }
   ],
   "source": [
    "answer = generate_format_answer(\"When was founded Rome?\")"
   ]
  },
  {
   "cell_type": "code",
   "execution_count": 15,
   "id": "dcf7190f",
   "metadata": {
    "execution": {
     "iopub.execute_input": "2025-04-04T15:01:00.094373Z",
     "iopub.status.busy": "2025-04-04T15:01:00.093981Z",
     "iopub.status.idle": "2025-04-04T15:01:02.866088Z",
     "shell.execute_reply": "2025-04-04T15:01:02.864739Z"
    },
    "papermill": {
     "duration": 2.790407,
     "end_time": "2025-04-04T15:01:02.868142",
     "exception": false,
     "start_time": "2025-04-04T15:01:00.077735",
     "status": "completed"
    },
    "tags": []
   },
   "outputs": [
    {
     "data": {
      "text/markdown": [
       "\n",
       "\n",
       "**<font color='red'>Question:</font>** In what year was the Fall of Constantinopole?\n",
       "\n",
       "\n",
       "**<font color='green'>Answer:</font>** 1453\n",
       "\n",
       "\n",
       "\n",
       "**<font color='magenta'>Total time:</font>** 2.77 sec."
      ],
      "text/plain": [
       "<IPython.core.display.Markdown object>"
      ]
     },
     "metadata": {},
     "output_type": "display_data"
    }
   ],
   "source": [
    "answer = generate_format_answer(\"In what year was the Fall of Constantinopole?\")"
   ]
  },
  {
   "cell_type": "code",
   "execution_count": 16,
   "id": "ddeae487",
   "metadata": {
    "execution": {
     "iopub.execute_input": "2025-04-04T15:01:02.898311Z",
     "iopub.status.busy": "2025-04-04T15:01:02.897846Z",
     "iopub.status.idle": "2025-04-04T15:01:05.902567Z",
     "shell.execute_reply": "2025-04-04T15:01:05.900444Z"
    },
    "papermill": {
     "duration": 3.025622,
     "end_time": "2025-04-04T15:01:05.908692",
     "exception": false,
     "start_time": "2025-04-04T15:01:02.883070",
     "status": "completed"
    },
    "tags": []
   },
   "outputs": [
    {
     "data": {
      "text/markdown": [
       "\n",
       "\n",
       "**<font color='red'>Question:</font>** When was America discovered by Columb?\n",
       "\n",
       "\n",
       "**<font color='green'>Answer:</font>** 1492\n",
       "\n",
       "\n",
       "\n",
       "**<font color='magenta'>Total time:</font>** 2.99 sec."
      ],
      "text/plain": [
       "<IPython.core.display.Markdown object>"
      ]
     },
     "metadata": {},
     "output_type": "display_data"
    }
   ],
   "source": [
    "answer = generate_format_answer(\"When was America discovered by Columb?\")"
   ]
  },
  {
   "cell_type": "code",
   "execution_count": 17,
   "id": "8d7f0ccb",
   "metadata": {
    "execution": {
     "iopub.execute_input": "2025-04-04T15:01:05.961024Z",
     "iopub.status.busy": "2025-04-04T15:01:05.960526Z",
     "iopub.status.idle": "2025-04-04T15:01:10.405844Z",
     "shell.execute_reply": "2025-04-04T15:01:10.403801Z"
    },
    "papermill": {
     "duration": 4.474776,
     "end_time": "2025-04-04T15:01:10.408659",
     "exception": false,
     "start_time": "2025-04-04T15:01:05.933883",
     "status": "completed"
    },
    "tags": []
   },
   "outputs": [
    {
     "data": {
      "text/markdown": [
       "\n",
       "\n",
       "**<font color='red'>Question:</font>** When was the Great War?\n",
       "\n",
       "\n",
       "**<font color='green'>Answer:</font>** 1914-1918\n",
       "\n",
       "\n",
       "\n",
       "**<font color='magenta'>Total time:</font>** 4.44 sec."
      ],
      "text/plain": [
       "<IPython.core.display.Markdown object>"
      ]
     },
     "metadata": {},
     "output_type": "display_data"
    }
   ],
   "source": [
    "answer = generate_format_answer(\"When was the Great War?\")"
   ]
  },
  {
   "cell_type": "code",
   "execution_count": 18,
   "id": "c5778321",
   "metadata": {
    "execution": {
     "iopub.execute_input": "2025-04-04T15:01:10.439329Z",
     "iopub.status.busy": "2025-04-04T15:01:10.438943Z",
     "iopub.status.idle": "2025-04-04T15:01:15.080722Z",
     "shell.execute_reply": "2025-04-04T15:01:15.079749Z"
    },
    "papermill": {
     "duration": 4.660669,
     "end_time": "2025-04-04T15:01:15.084288",
     "exception": false,
     "start_time": "2025-04-04T15:01:10.423619",
     "status": "completed"
    },
    "tags": []
   },
   "outputs": [
    {
     "data": {
      "text/markdown": [
       "\n",
       "\n",
       "**<font color='red'>Question:</font>** When was the USA-Spanish war?\n",
       "\n",
       "\n",
       "**<font color='green'>Answer:</font>** 1898-1902\n",
       "\n",
       "\n",
       "\n",
       "**<font color='magenta'>Total time:</font>** 4.64 sec."
      ],
      "text/plain": [
       "<IPython.core.display.Markdown object>"
      ]
     },
     "metadata": {},
     "output_type": "display_data"
    }
   ],
   "source": [
    "generate_format_answer(\"When was the USA-Spanish war?\")"
   ]
  },
  {
   "cell_type": "code",
   "execution_count": 19,
   "id": "2d2d9e5c",
   "metadata": {
    "execution": {
     "iopub.execute_input": "2025-04-04T15:01:15.120284Z",
     "iopub.status.busy": "2025-04-04T15:01:15.119850Z",
     "iopub.status.idle": "2025-04-04T15:01:17.345866Z",
     "shell.execute_reply": "2025-04-04T15:01:17.344215Z"
    },
    "papermill": {
     "duration": 2.244982,
     "end_time": "2025-04-04T15:01:17.348253",
     "exception": false,
     "start_time": "2025-04-04T15:01:15.103271",
     "status": "completed"
    },
    "tags": []
   },
   "outputs": [
    {
     "data": {
      "text/markdown": [
       "\n",
       "\n",
       "**<font color='red'>Question:</font>** Who was the president before 1st mandate of Donald Trump?\n",
       "\n",
       "\n",
       "**<font color='green'>Answer:</font>** Barack Obama\n",
       "\n",
       "\n",
       "\n",
       "**<font color='magenta'>Total time:</font>** 2.22 sec."
      ],
      "text/plain": [
       "<IPython.core.display.Markdown object>"
      ]
     },
     "metadata": {},
     "output_type": "display_data"
    }
   ],
   "source": [
    "generate_format_answer(\"Who was the president before 1st mandate of Donald Trump?\")"
   ]
  },
  {
   "cell_type": "code",
   "execution_count": 20,
   "id": "87dd7afa",
   "metadata": {
    "execution": {
     "iopub.execute_input": "2025-04-04T15:01:17.382826Z",
     "iopub.status.busy": "2025-04-04T15:01:17.382389Z",
     "iopub.status.idle": "2025-04-04T15:01:21.908510Z",
     "shell.execute_reply": "2025-04-04T15:01:21.905805Z"
    },
    "papermill": {
     "duration": 4.546938,
     "end_time": "2025-04-04T15:01:21.910918",
     "exception": false,
     "start_time": "2025-04-04T15:01:17.363980",
     "status": "completed"
    },
    "tags": []
   },
   "outputs": [
    {
     "data": {
      "text/markdown": [
       "\n",
       "\n",
       "**<font color='red'>Question:</font>** When was the attack on Pearl Harbor?\n",
       "\n",
       "\n",
       "**<font color='green'>Answer:</font>** December 7, 1941\n",
       "\n",
       "\n",
       "\n",
       "**<font color='magenta'>Total time:</font>** 4.51 sec."
      ],
      "text/plain": [
       "<IPython.core.display.Markdown object>"
      ]
     },
     "metadata": {},
     "output_type": "display_data"
    }
   ],
   "source": [
    "generate_format_answer(\"When was the attack on Pearl Harbor?\")"
   ]
  },
  {
   "cell_type": "code",
   "execution_count": 21,
   "id": "30e88f34",
   "metadata": {
    "execution": {
     "iopub.execute_input": "2025-04-04T15:01:21.945455Z",
     "iopub.status.busy": "2025-04-04T15:01:21.945060Z",
     "iopub.status.idle": "2025-04-04T15:01:24.675401Z",
     "shell.execute_reply": "2025-04-04T15:01:24.673329Z"
    },
    "papermill": {
     "duration": 2.749784,
     "end_time": "2025-04-04T15:01:24.677678",
     "exception": false,
     "start_time": "2025-04-04T15:01:21.927894",
     "status": "completed"
    },
    "tags": []
   },
   "outputs": [
    {
     "data": {
      "text/markdown": [
       "\n",
       "\n",
       "**<font color='red'>Question:</font>** Who was the next shogon after Yeiatsu Tokugawa?\n",
       "\n",
       "\n",
       "**<font color='green'>Answer:</font>** Tokugawa Ieyasu\n",
       "\n",
       "\n",
       "\n",
       "**<font color='magenta'>Total time:</font>** 2.72 sec."
      ],
      "text/plain": [
       "<IPython.core.display.Markdown object>"
      ]
     },
     "metadata": {},
     "output_type": "display_data"
    }
   ],
   "source": [
    "generate_format_answer(\"Who was the next shogon after Yeiatsu Tokugawa?\")"
   ]
  },
  {
   "cell_type": "markdown",
   "id": "fbeb8fe5",
   "metadata": {
    "papermill": {
     "duration": 0.014701,
     "end_time": "2025-04-04T15:01:24.709521",
     "exception": false,
     "start_time": "2025-04-04T15:01:24.694820",
     "status": "completed"
    },
    "tags": []
   },
   "source": [
    "This answer is not correct. The correct answer is Hidetada Tokugawa."
   ]
  },
  {
   "cell_type": "code",
   "execution_count": 22,
   "id": "cd2f2836",
   "metadata": {
    "execution": {
     "iopub.execute_input": "2025-04-04T15:01:24.753664Z",
     "iopub.status.busy": "2025-04-04T15:01:24.753136Z",
     "iopub.status.idle": "2025-04-04T15:01:27.242229Z",
     "shell.execute_reply": "2025-04-04T15:01:27.240298Z"
    },
    "papermill": {
     "duration": 2.519501,
     "end_time": "2025-04-04T15:01:27.245872",
     "exception": false,
     "start_time": "2025-04-04T15:01:24.726371",
     "status": "completed"
    },
    "tags": []
   },
   "outputs": [
    {
     "data": {
      "text/markdown": [
       "\n",
       "\n",
       "**<font color='red'>Question:</font>** Who was the first American president?\n",
       "\n",
       "\n",
       "**<font color='green'>Answer:</font>** George Washington\n",
       "\n",
       "\n",
       "\n",
       "**<font color='magenta'>Total time:</font>** 2.48 sec."
      ],
      "text/plain": [
       "<IPython.core.display.Markdown object>"
      ]
     },
     "metadata": {},
     "output_type": "display_data"
    }
   ],
   "source": [
    "generate_format_answer(\"Who was the first American president?\")"
   ]
  },
  {
   "cell_type": "code",
   "execution_count": 23,
   "id": "dff15723",
   "metadata": {
    "execution": {
     "iopub.execute_input": "2025-04-04T15:01:27.279113Z",
     "iopub.status.busy": "2025-04-04T15:01:27.278678Z",
     "iopub.status.idle": "2025-04-04T15:01:29.214222Z",
     "shell.execute_reply": "2025-04-04T15:01:29.212665Z"
    },
    "papermill": {
     "duration": 1.954814,
     "end_time": "2025-04-04T15:01:29.216511",
     "exception": false,
     "start_time": "2025-04-04T15:01:27.261697",
     "status": "completed"
    },
    "tags": []
   },
   "outputs": [
    {
     "data": {
      "text/markdown": [
       "\n",
       "\n",
       "**<font color='red'>Question:</font>** What is drosophila melanogaster?\n",
       "\n",
       "\n",
       "**<font color='green'>Answer:</font>** Fruit fly\n",
       "\n",
       "\n",
       "\n",
       "**<font color='magenta'>Total time:</font>** 1.93 sec."
      ],
      "text/plain": [
       "<IPython.core.display.Markdown object>"
      ]
     },
     "metadata": {},
     "output_type": "display_data"
    }
   ],
   "source": [
    "generate_format_answer(\"What is drosophila melanogaster?\")"
   ]
  },
  {
   "cell_type": "code",
   "execution_count": 24,
   "id": "a4bd0186",
   "metadata": {
    "execution": {
     "iopub.execute_input": "2025-04-04T15:01:29.363690Z",
     "iopub.status.busy": "2025-04-04T15:01:29.363273Z",
     "iopub.status.idle": "2025-04-04T15:01:31.012556Z",
     "shell.execute_reply": "2025-04-04T15:01:31.011339Z"
    },
    "papermill": {
     "duration": 1.782108,
     "end_time": "2025-04-04T15:01:31.014878",
     "exception": false,
     "start_time": "2025-04-04T15:01:29.232770",
     "status": "completed"
    },
    "tags": []
   },
   "outputs": [
    {
     "data": {
      "text/markdown": [
       "\n",
       "\n",
       "**<font color='red'>Question:</font>** Which country in South America use Portuguese language?\n",
       "\n",
       "\n",
       "**<font color='green'>Answer:</font>** Brazil\n",
       "\n",
       "\n",
       "\n",
       "**<font color='magenta'>Total time:</font>** 1.64 sec."
      ],
      "text/plain": [
       "<IPython.core.display.Markdown object>"
      ]
     },
     "metadata": {},
     "output_type": "display_data"
    }
   ],
   "source": [
    "generate_format_answer(\"Which country in South America use Portuguese language?\")"
   ]
  },
  {
   "cell_type": "code",
   "execution_count": 25,
   "id": "6c85fe59",
   "metadata": {
    "execution": {
     "iopub.execute_input": "2025-04-04T15:01:31.049086Z",
     "iopub.status.busy": "2025-04-04T15:01:31.048448Z",
     "iopub.status.idle": "2025-04-04T15:01:35.427222Z",
     "shell.execute_reply": "2025-04-04T15:01:35.425705Z"
    },
    "papermill": {
     "duration": 4.398725,
     "end_time": "2025-04-04T15:01:35.429495",
     "exception": false,
     "start_time": "2025-04-04T15:01:31.030770",
     "status": "completed"
    },
    "tags": []
   },
   "outputs": [
    {
     "data": {
      "text/markdown": [
       "\n",
       "\n",
       "**<font color='red'>Question:</font>** What family are horses?\n",
       "\n",
       "\n",
       "**<font color='green'>Answer:</font>** Horses are members of the family Equidae.\n",
       "\n",
       "\n",
       "\n",
       "**<font color='magenta'>Total time:</font>** 4.37 sec."
      ],
      "text/plain": [
       "<IPython.core.display.Markdown object>"
      ]
     },
     "metadata": {},
     "output_type": "display_data"
    }
   ],
   "source": [
    "generate_format_answer(\"What family are horses?\")"
   ]
  },
  {
   "cell_type": "code",
   "execution_count": 26,
   "id": "c8fda08f",
   "metadata": {
    "execution": {
     "iopub.execute_input": "2025-04-04T15:01:35.461631Z",
     "iopub.status.busy": "2025-04-04T15:01:35.461209Z",
     "iopub.status.idle": "2025-04-04T15:01:37.154381Z",
     "shell.execute_reply": "2025-04-04T15:01:37.153099Z"
    },
    "papermill": {
     "duration": 1.71197,
     "end_time": "2025-04-04T15:01:37.156707",
     "exception": false,
     "start_time": "2025-04-04T15:01:35.444737",
     "status": "completed"
    },
    "tags": []
   },
   "outputs": [
    {
     "data": {
      "text/markdown": [
       "\n",
       "\n",
       "**<font color='red'>Question:</font>** With which country has France the largest border in South America?\n",
       "\n",
       "\n",
       "**<font color='green'>Answer:</font>** Brazil\n",
       "\n",
       "\n",
       "\n",
       "**<font color='magenta'>Total time:</font>** 1.69 sec."
      ],
      "text/plain": [
       "<IPython.core.display.Markdown object>"
      ]
     },
     "metadata": {},
     "output_type": "display_data"
    }
   ],
   "source": [
    "generate_format_answer(\"With which country has France the largest border in South America?\")"
   ]
  },
  {
   "cell_type": "code",
   "execution_count": 27,
   "id": "ecd5e661",
   "metadata": {
    "execution": {
     "iopub.execute_input": "2025-04-04T15:01:37.189886Z",
     "iopub.status.busy": "2025-04-04T15:01:37.189382Z",
     "iopub.status.idle": "2025-04-04T15:01:40.077744Z",
     "shell.execute_reply": "2025-04-04T15:01:40.075988Z"
    },
    "papermill": {
     "duration": 2.90863,
     "end_time": "2025-04-04T15:01:40.080507",
     "exception": false,
     "start_time": "2025-04-04T15:01:37.171877",
     "status": "completed"
    },
    "tags": []
   },
   "outputs": [
    {
     "data": {
      "text/markdown": [
       "\n",
       "\n",
       "**<font color='red'>Question:</font>** In what year was Fukushima incident?\n",
       "\n",
       "\n",
       "**<font color='green'>Answer:</font>** 2011\n",
       "\n",
       "\n",
       "\n",
       "**<font color='magenta'>Total time:</font>** 2.88 sec."
      ],
      "text/plain": [
       "<IPython.core.display.Markdown object>"
      ]
     },
     "metadata": {},
     "output_type": "display_data"
    }
   ],
   "source": [
    "generate_format_answer(\"In what year was Fukushima incident?\")"
   ]
  },
  {
   "cell_type": "code",
   "execution_count": 28,
   "id": "e655306b",
   "metadata": {
    "execution": {
     "iopub.execute_input": "2025-04-04T15:01:40.119760Z",
     "iopub.status.busy": "2025-04-04T15:01:40.119348Z",
     "iopub.status.idle": "2025-04-04T15:01:41.660214Z",
     "shell.execute_reply": "2025-04-04T15:01:41.658762Z"
    },
    "papermill": {
     "duration": 1.560973,
     "end_time": "2025-04-04T15:01:41.662415",
     "exception": false,
     "start_time": "2025-04-04T15:01:40.101442",
     "status": "completed"
    },
    "tags": []
   },
   "outputs": [
    {
     "data": {
      "text/markdown": [
       "\n",
       "\n",
       "**<font color='red'>Question:</font>** What emperor succeeded to Traian?\n",
       "\n",
       "\n",
       "**<font color='green'>Answer:</font>** Hadrian\n",
       "\n",
       "\n",
       "\n",
       "**<font color='magenta'>Total time:</font>** 1.53 sec."
      ],
      "text/plain": [
       "<IPython.core.display.Markdown object>"
      ]
     },
     "metadata": {},
     "output_type": "display_data"
    }
   ],
   "source": [
    "generate_format_answer(\"What emperor succeeded to Traian?\")"
   ]
  },
  {
   "cell_type": "code",
   "execution_count": 29,
   "id": "26244fdc",
   "metadata": {
    "execution": {
     "iopub.execute_input": "2025-04-04T15:01:41.695920Z",
     "iopub.status.busy": "2025-04-04T15:01:41.695445Z",
     "iopub.status.idle": "2025-04-04T15:01:43.365034Z",
     "shell.execute_reply": "2025-04-04T15:01:43.362378Z"
    },
    "papermill": {
     "duration": 1.690401,
     "end_time": "2025-04-04T15:01:43.369049",
     "exception": false,
     "start_time": "2025-04-04T15:01:41.678648",
     "status": "completed"
    },
    "tags": []
   },
   "outputs": [
    {
     "data": {
      "text/markdown": [
       "\n",
       "\n",
       "**<font color='red'>Question:</font>** What nationality was Marguerite Yourcenar?\n",
       "\n",
       "\n",
       "**<font color='green'>Answer:</font>** French\n",
       "\n",
       "\n",
       "\n",
       "**<font color='magenta'>Total time:</font>** 1.66 sec."
      ],
      "text/plain": [
       "<IPython.core.display.Markdown object>"
      ]
     },
     "metadata": {},
     "output_type": "display_data"
    }
   ],
   "source": [
    "generate_format_answer(\"What nationality was Marguerite Yourcenar?\")"
   ]
  },
  {
   "cell_type": "markdown",
   "id": "79ddd87c",
   "metadata": {
    "papermill": {
     "duration": 0.019352,
     "end_time": "2025-04-04T15:01:43.409091",
     "exception": false,
     "start_time": "2025-04-04T15:01:43.389739",
     "status": "completed"
    },
    "tags": []
   },
   "source": [
    "The answer is wrong, she was Belgian, from nobility, and lived in US for most of her life. She was member of French Academy, though."
   ]
  },
  {
   "cell_type": "code",
   "execution_count": 30,
   "id": "e6a78344",
   "metadata": {
    "execution": {
     "iopub.execute_input": "2025-04-04T15:01:43.450918Z",
     "iopub.status.busy": "2025-04-04T15:01:43.450438Z",
     "iopub.status.idle": "2025-04-04T15:01:46.524410Z",
     "shell.execute_reply": "2025-04-04T15:01:46.522374Z"
    },
    "papermill": {
     "duration": 3.097924,
     "end_time": "2025-04-04T15:01:46.527312",
     "exception": false,
     "start_time": "2025-04-04T15:01:43.429388",
     "status": "completed"
    },
    "tags": []
   },
   "outputs": [
    {
     "data": {
      "text/markdown": [
       "\n",
       "\n",
       "**<font color='red'>Question:</font>** In which branch of US Army server JD Vance?\n",
       "\n",
       "\n",
       "**<font color='green'>Answer:</font>** 1st Infantry Division\n",
       "\n",
       "\n",
       "\n",
       "**<font color='magenta'>Total time:</font>** 3.07 sec."
      ],
      "text/plain": [
       "<IPython.core.display.Markdown object>"
      ]
     },
     "metadata": {},
     "output_type": "display_data"
    }
   ],
   "source": [
    "generate_format_answer(\"In which branch of US Army server JD Vance?\")"
   ]
  },
  {
   "cell_type": "markdown",
   "id": "dc247847",
   "metadata": {
    "papermill": {
     "duration": 0.016823,
     "end_time": "2025-04-04T15:01:46.562446",
     "exception": false,
     "start_time": "2025-04-04T15:01:46.545623",
     "status": "completed"
    },
    "tags": []
   },
   "source": [
    "This is wrong, he served as an enlisted journalist in Marine Corps."
   ]
  },
  {
   "cell_type": "code",
   "execution_count": 31,
   "id": "47f8616c",
   "metadata": {
    "execution": {
     "iopub.execute_input": "2025-04-04T15:01:46.597177Z",
     "iopub.status.busy": "2025-04-04T15:01:46.596781Z",
     "iopub.status.idle": "2025-04-04T15:01:48.933907Z",
     "shell.execute_reply": "2025-04-04T15:01:48.932629Z"
    },
    "papermill": {
     "duration": 2.357279,
     "end_time": "2025-04-04T15:01:48.936506",
     "exception": false,
     "start_time": "2025-04-04T15:01:46.579227",
     "status": "completed"
    },
    "tags": []
   },
   "outputs": [
    {
     "data": {
      "text/markdown": [
       "\n",
       "\n",
       "**<font color='red'>Question:</font>** Who composed Fur Elise?\n",
       "\n",
       "\n",
       "**<font color='green'>Answer:</font>** Ludwig van Beethoven\n",
       "\n",
       "\n",
       "\n",
       "**<font color='magenta'>Total time:</font>** 2.33 sec."
      ],
      "text/plain": [
       "<IPython.core.display.Markdown object>"
      ]
     },
     "metadata": {},
     "output_type": "display_data"
    }
   ],
   "source": [
    "generate_format_answer(\"Who composed Fur Elise?\")"
   ]
  },
  {
   "cell_type": "code",
   "execution_count": 32,
   "id": "7bd13cb1",
   "metadata": {
    "execution": {
     "iopub.execute_input": "2025-04-04T15:01:48.975661Z",
     "iopub.status.busy": "2025-04-04T15:01:48.975243Z",
     "iopub.status.idle": "2025-04-04T15:01:51.494259Z",
     "shell.execute_reply": "2025-04-04T15:01:51.492134Z"
    },
    "papermill": {
     "duration": 2.539745,
     "end_time": "2025-04-04T15:01:51.496576",
     "exception": false,
     "start_time": "2025-04-04T15:01:48.956831",
     "status": "completed"
    },
    "tags": []
   },
   "outputs": [
    {
     "data": {
      "text/markdown": [
       "\n",
       "\n",
       "**<font color='red'>Question:</font>** Name one of the most famous opera by Verdi?\n",
       "\n",
       "\n",
       "**<font color='green'>Answer:</font>** La Traviata\n",
       "\n",
       "\n",
       "\n",
       "**<font color='magenta'>Total time:</font>** 2.51 sec."
      ],
      "text/plain": [
       "<IPython.core.display.Markdown object>"
      ]
     },
     "metadata": {},
     "output_type": "display_data"
    }
   ],
   "source": [
    "generate_format_answer(\"Name one of the most famous opera by Verdi?\")"
   ]
  },
  {
   "cell_type": "code",
   "execution_count": 33,
   "id": "432f05d4",
   "metadata": {
    "execution": {
     "iopub.execute_input": "2025-04-04T15:01:51.531431Z",
     "iopub.status.busy": "2025-04-04T15:01:51.530867Z",
     "iopub.status.idle": "2025-04-04T15:01:53.173414Z",
     "shell.execute_reply": "2025-04-04T15:01:53.171557Z"
    },
    "papermill": {
     "duration": 1.662051,
     "end_time": "2025-04-04T15:01:53.175608",
     "exception": false,
     "start_time": "2025-04-04T15:01:51.513557",
     "status": "completed"
    },
    "tags": []
   },
   "outputs": [
    {
     "data": {
      "text/markdown": [
       "\n",
       "\n",
       "**<font color='red'>Question:</font>** Which type of music composed JS Bach?\n",
       "\n",
       "\n",
       "**<font color='green'>Answer:</font>** Classical\n",
       "\n",
       "\n",
       "\n",
       "**<font color='magenta'>Total time:</font>** 1.63 sec."
      ],
      "text/plain": [
       "<IPython.core.display.Markdown object>"
      ]
     },
     "metadata": {},
     "output_type": "display_data"
    }
   ],
   "source": [
    "generate_format_answer(\"Which type of music composed JS Bach?\")"
   ]
  },
  {
   "cell_type": "markdown",
   "id": "25b41908",
   "metadata": {
    "papermill": {
     "duration": 0.016471,
     "end_time": "2025-04-04T15:01:53.209198",
     "exception": false,
     "start_time": "2025-04-04T15:01:53.192727",
     "status": "completed"
    },
    "tags": []
   },
   "source": [
    "This is wrong, he was mostly composing Baroque (pre-classical) music."
   ]
  },
  {
   "cell_type": "code",
   "execution_count": 34,
   "id": "989e0b96",
   "metadata": {
    "execution": {
     "iopub.execute_input": "2025-04-04T15:01:53.243499Z",
     "iopub.status.busy": "2025-04-04T15:01:53.243081Z",
     "iopub.status.idle": "2025-04-04T15:01:54.888573Z",
     "shell.execute_reply": "2025-04-04T15:01:54.887361Z"
    },
    "papermill": {
     "duration": 1.664907,
     "end_time": "2025-04-04T15:01:54.890777",
     "exception": false,
     "start_time": "2025-04-04T15:01:53.225870",
     "status": "completed"
    },
    "tags": []
   },
   "outputs": [
    {
     "data": {
      "text/markdown": [
       "\n",
       "\n",
       "**<font color='red'>Question:</font>** Who composed Goldberg Variations?\n",
       "\n",
       "\n",
       "**<font color='green'>Answer:</font>** Bach\n",
       "\n",
       "\n",
       "\n",
       "**<font color='magenta'>Total time:</font>** 1.64 sec."
      ],
      "text/plain": [
       "<IPython.core.display.Markdown object>"
      ]
     },
     "metadata": {},
     "output_type": "display_data"
    }
   ],
   "source": [
    "generate_format_answer(\"Who composed Goldberg Variations?\")"
   ]
  },
  {
   "cell_type": "code",
   "execution_count": 35,
   "id": "f5a0a6be",
   "metadata": {
    "execution": {
     "iopub.execute_input": "2025-04-04T15:01:54.925117Z",
     "iopub.status.busy": "2025-04-04T15:01:54.924558Z",
     "iopub.status.idle": "2025-04-04T15:01:56.945895Z",
     "shell.execute_reply": "2025-04-04T15:01:56.943981Z"
    },
    "papermill": {
     "duration": 2.040898,
     "end_time": "2025-04-04T15:01:56.948368",
     "exception": false,
     "start_time": "2025-04-04T15:01:54.907470",
     "status": "completed"
    },
    "tags": []
   },
   "outputs": [
    {
     "data": {
      "text/markdown": [
       "\n",
       "\n",
       "**<font color='red'>Question:</font>** Who composed the most famous Requiem?\n",
       "\n",
       "\n",
       "**<font color='green'>Answer:</font>** Mozart\n",
       "\n",
       "\n",
       "\n",
       "**<font color='magenta'>Total time:</font>** 2.01 sec."
      ],
      "text/plain": [
       "<IPython.core.display.Markdown object>"
      ]
     },
     "metadata": {},
     "output_type": "display_data"
    }
   ],
   "source": [
    "generate_format_answer(\"Who composed the most famous Requiem?\")"
   ]
  },
  {
   "cell_type": "code",
   "execution_count": 36,
   "id": "0b5fd552",
   "metadata": {
    "execution": {
     "iopub.execute_input": "2025-04-04T15:01:56.986349Z",
     "iopub.status.busy": "2025-04-04T15:01:56.985622Z",
     "iopub.status.idle": "2025-04-04T15:01:59.968739Z",
     "shell.execute_reply": "2025-04-04T15:01:59.967238Z"
    },
    "papermill": {
     "duration": 3.003661,
     "end_time": "2025-04-04T15:01:59.970881",
     "exception": false,
     "start_time": "2025-04-04T15:01:56.967220",
     "status": "completed"
    },
    "tags": []
   },
   "outputs": [
    {
     "data": {
      "text/markdown": [
       "\n",
       "\n",
       "**<font color='red'>Question:</font>** Name an opera by Enesco.\n",
       "\n",
       "\n",
       "**<font color='green'>Answer:</font>** The Magic Flute\n",
       "\n",
       "\n",
       "\n",
       "**<font color='magenta'>Total time:</font>** 2.98 sec."
      ],
      "text/plain": [
       "<IPython.core.display.Markdown object>"
      ]
     },
     "metadata": {},
     "output_type": "display_data"
    }
   ],
   "source": [
    "generate_format_answer(\"Name an opera by Enesco.\")"
   ]
  },
  {
   "cell_type": "markdown",
   "id": "f9b76a67",
   "metadata": {
    "papermill": {
     "duration": 0.019023,
     "end_time": "2025-04-04T15:02:00.007507",
     "exception": false,
     "start_time": "2025-04-04T15:01:59.988484",
     "status": "completed"
    },
    "tags": []
   },
   "source": [
    "This is wrong. This opera belongs to Mozart."
   ]
  },
  {
   "cell_type": "code",
   "execution_count": 37,
   "id": "e934d20a",
   "metadata": {
    "execution": {
     "iopub.execute_input": "2025-04-04T15:02:00.048009Z",
     "iopub.status.busy": "2025-04-04T15:02:00.047297Z",
     "iopub.status.idle": "2025-04-04T15:02:03.062076Z",
     "shell.execute_reply": "2025-04-04T15:02:03.060737Z"
    },
    "papermill": {
     "duration": 3.038094,
     "end_time": "2025-04-04T15:02:03.063947",
     "exception": false,
     "start_time": "2025-04-04T15:02:00.025853",
     "status": "completed"
    },
    "tags": []
   },
   "outputs": [
    {
     "data": {
      "text/markdown": [
       "\n",
       "\n",
       "**<font color='red'>Question:</font>** Who is the author of 'The Russian Ballets'?\n",
       "\n",
       "\n",
       "**<font color='green'>Answer:</font>** Sergei Diaghilev\n",
       "\n",
       "\n",
       "\n",
       "**<font color='magenta'>Total time:</font>** 3.01 sec."
      ],
      "text/plain": [
       "<IPython.core.display.Markdown object>"
      ]
     },
     "metadata": {},
     "output_type": "display_data"
    }
   ],
   "source": [
    "generate_format_answer(\"Who is the author of 'The Russian Ballets'?\")"
   ]
  },
  {
   "cell_type": "code",
   "execution_count": 38,
   "id": "5b797745",
   "metadata": {
    "execution": {
     "iopub.execute_input": "2025-04-04T15:02:03.100216Z",
     "iopub.status.busy": "2025-04-04T15:02:03.099809Z",
     "iopub.status.idle": "2025-04-04T15:02:06.612729Z",
     "shell.execute_reply": "2025-04-04T15:02:06.610666Z"
    },
    "papermill": {
     "duration": 3.533117,
     "end_time": "2025-04-04T15:02:06.615073",
     "exception": false,
     "start_time": "2025-04-04T15:02:03.081956",
     "status": "completed"
    },
    "tags": []
   },
   "outputs": [
    {
     "data": {
      "text/markdown": [
       "\n",
       "\n",
       "**<font color='red'>Question:</font>** To what school belongs Le Corbusier?\n",
       "\n",
       "\n",
       "**<font color='green'>Answer:</font>** The School of Architecture in Paris\n",
       "\n",
       "\n",
       "\n",
       "**<font color='magenta'>Total time:</font>** 3.5 sec."
      ],
      "text/plain": [
       "<IPython.core.display.Markdown object>"
      ]
     },
     "metadata": {},
     "output_type": "display_data"
    }
   ],
   "source": [
    "generate_format_answer(\"To what school belongs Le Corbusier?\")"
   ]
  },
  {
   "cell_type": "markdown",
   "id": "473965d3",
   "metadata": {
    "papermill": {
     "duration": 0.017084,
     "end_time": "2025-04-04T15:02:06.649078",
     "exception": false,
     "start_time": "2025-04-04T15:02:06.631994",
     "status": "completed"
    },
    "tags": []
   },
   "source": [
    "A more correct answer will be \"The international school of architecture\"."
   ]
  },
  {
   "cell_type": "code",
   "execution_count": 39,
   "id": "655b726d",
   "metadata": {
    "execution": {
     "iopub.execute_input": "2025-04-04T15:02:06.685779Z",
     "iopub.status.busy": "2025-04-04T15:02:06.685310Z",
     "iopub.status.idle": "2025-04-04T15:02:09.609259Z",
     "shell.execute_reply": "2025-04-04T15:02:09.607852Z"
    },
    "papermill": {
     "duration": 2.945072,
     "end_time": "2025-04-04T15:02:09.611324",
     "exception": false,
     "start_time": "2025-04-04T15:02:06.666252",
     "status": "completed"
    },
    "tags": []
   },
   "outputs": [
    {
     "data": {
      "text/markdown": [
       "\n",
       "\n",
       "**<font color='red'>Question:</font>** Name a work by Gaudi.\n",
       "\n",
       "\n",
       "**<font color='green'>Answer:</font>** The Sagrada Familia.\n",
       "\n",
       "\n",
       "\n",
       "**<font color='magenta'>Total time:</font>** 2.92 sec."
      ],
      "text/plain": [
       "<IPython.core.display.Markdown object>"
      ]
     },
     "metadata": {},
     "output_type": "display_data"
    }
   ],
   "source": [
    "generate_format_answer(\"Name a work by Gaudi.\")"
   ]
  },
  {
   "cell_type": "markdown",
   "id": "b6c1c6d8",
   "metadata": {
    "papermill": {
     "duration": 0.018736,
     "end_time": "2025-04-04T15:02:09.647974",
     "exception": false,
     "start_time": "2025-04-04T15:02:09.629238",
     "status": "completed"
    },
    "tags": []
   },
   "source": [
    "The model is able to answer well to a variety of subjects. It is not very good with more in-depth questions. Here we will give few examples."
   ]
  },
  {
   "cell_type": "code",
   "execution_count": 40,
   "id": "d85bb6fa",
   "metadata": {
    "execution": {
     "iopub.execute_input": "2025-04-04T15:02:09.686415Z",
     "iopub.status.busy": "2025-04-04T15:02:09.686058Z",
     "iopub.status.idle": "2025-04-04T15:02:39.580546Z",
     "shell.execute_reply": "2025-04-04T15:02:39.579408Z"
    },
    "papermill": {
     "duration": 29.914883,
     "end_time": "2025-04-04T15:02:39.582798",
     "exception": false,
     "start_time": "2025-04-04T15:02:09.667915",
     "status": "completed"
    },
    "tags": []
   },
   "outputs": [
    {
     "data": {
      "text/markdown": [
       "\n",
       "\n",
       "**<font color='red'>Question:</font>** What is ostracism?\n",
       "\n",
       "\n",
       "**<font color='green'>Answer:</font>** When someone is excluded from a group or community.\n",
       "\n",
       "\n",
       "\n",
       "**<font color='magenta'>Total time:</font>** 29.89 sec."
      ],
      "text/plain": [
       "<IPython.core.display.Markdown object>"
      ]
     },
     "metadata": {},
     "output_type": "display_data"
    }
   ],
   "source": [
    "generate_format_answer(\"What is ostracism?\", max_length=100)"
   ]
  },
  {
   "cell_type": "markdown",
   "id": "83a70136",
   "metadata": {
    "papermill": {
     "duration": 0.017518,
     "end_time": "2025-04-04T15:02:39.618707",
     "exception": false,
     "start_time": "2025-04-04T15:02:39.601189",
     "status": "completed"
    },
    "tags": []
   },
   "source": [
    "The correct answer will refer first to the Ancient Greece mechanism to protect the City-state against tyrany."
   ]
  },
  {
   "cell_type": "code",
   "execution_count": 41,
   "id": "15b49154",
   "metadata": {
    "execution": {
     "iopub.execute_input": "2025-04-04T15:02:39.654915Z",
     "iopub.status.busy": "2025-04-04T15:02:39.654491Z",
     "iopub.status.idle": "2025-04-04T15:02:44.485789Z",
     "shell.execute_reply": "2025-04-04T15:02:44.482396Z"
    },
    "papermill": {
     "duration": 4.852776,
     "end_time": "2025-04-04T15:02:44.488231",
     "exception": false,
     "start_time": "2025-04-04T15:02:39.635455",
     "status": "completed"
    },
    "tags": []
   },
   "outputs": [
    {
     "data": {
      "text/markdown": [
       "\n",
       "\n",
       "**<font color='red'>Question:</font>** What was Pnyx?\n",
       "\n",
       "\n",
       "**<font color='green'>Answer:</font>** A place where the gods lived.\n",
       "\n",
       "\n",
       "\n",
       "**<font color='magenta'>Total time:</font>** 4.82 sec."
      ],
      "text/plain": [
       "<IPython.core.display.Markdown object>"
      ]
     },
     "metadata": {},
     "output_type": "display_data"
    }
   ],
   "source": [
    "generate_format_answer(\"What was Pnyx?\", max_length=100)"
   ]
  },
  {
   "cell_type": "markdown",
   "id": "54bb7cbe",
   "metadata": {
    "papermill": {
     "duration": 0.01902,
     "end_time": "2025-04-04T15:02:44.527220",
     "exception": false,
     "start_time": "2025-04-04T15:02:44.508200",
     "status": "completed"
    },
    "tags": []
   },
   "source": [
    "The correct answer would mention the assembly place in Ancient Athens."
   ]
  },
  {
   "cell_type": "code",
   "execution_count": 42,
   "id": "0d6dde61",
   "metadata": {
    "execution": {
     "iopub.execute_input": "2025-04-04T15:02:44.565608Z",
     "iopub.status.busy": "2025-04-04T15:02:44.565003Z",
     "iopub.status.idle": "2025-04-04T15:02:51.395790Z",
     "shell.execute_reply": "2025-04-04T15:02:51.394108Z"
    },
    "papermill": {
     "duration": 6.852542,
     "end_time": "2025-04-04T15:02:51.397893",
     "exception": false,
     "start_time": "2025-04-04T15:02:44.545351",
     "status": "completed"
    },
    "tags": []
   },
   "outputs": [
    {
     "data": {
      "text/markdown": [
       "\n",
       "\n",
       "**<font color='red'>Question:</font>** What was Graphe Paranomon?\n",
       "\n",
       "\n",
       "**<font color='green'>Answer:</font>** A person who is a member of the Graphe Paranomon.\n",
       "\n",
       "\n",
       "\n",
       "**<font color='magenta'>Total time:</font>** 6.82 sec."
      ],
      "text/plain": [
       "<IPython.core.display.Markdown object>"
      ]
     },
     "metadata": {},
     "output_type": "display_data"
    }
   ],
   "source": [
    "generate_format_answer(\"What was Graphe Paranomon?\", max_length=100)"
   ]
  },
  {
   "cell_type": "markdown",
   "id": "1090e186",
   "metadata": {
    "papermill": {
     "duration": 0.016599,
     "end_time": "2025-04-04T15:02:51.432514",
     "exception": false,
     "start_time": "2025-04-04T15:02:51.415915",
     "status": "completed"
    },
    "tags": []
   },
   "source": [
    "The correct answer will refer to a mechanism of judicial review of unlawful laws in Ancient Athens constitution in IV-th century B.C."
   ]
  },
  {
   "cell_type": "markdown",
   "id": "dbcc4d90",
   "metadata": {
    "papermill": {
     "duration": 0.018535,
     "end_time": "2025-04-04T15:02:51.469183",
     "exception": false,
     "start_time": "2025-04-04T15:02:51.450648",
     "status": "completed"
    },
    "tags": []
   },
   "source": [
    "## Let's explore more about technology\n",
    "\n"
   ]
  },
  {
   "cell_type": "code",
   "execution_count": 43,
   "id": "5d133ab3",
   "metadata": {
    "execution": {
     "iopub.execute_input": "2025-04-04T15:02:51.507722Z",
     "iopub.status.busy": "2025-04-04T15:02:51.507173Z",
     "iopub.status.idle": "2025-04-04T15:03:24.044036Z",
     "shell.execute_reply": "2025-04-04T15:03:24.042551Z"
    },
    "papermill": {
     "duration": 32.58383,
     "end_time": "2025-04-04T15:03:24.072274",
     "exception": false,
     "start_time": "2025-04-04T15:02:51.488444",
     "status": "completed"
    },
    "tags": []
   },
   "outputs": [
    {
     "data": {
      "text/markdown": [
       "\n",
       "\n",
       "**<font color='red'>Question:</font>** What is XGBoost?\n",
       "\n",
       "\n",
       "**<font color='green'>Answer:</font>** XGBoost is a machine learning algorithm that is used to solve classification and regression problems. It is a gradient boosting algorithm that is\n",
       "\n",
       "\n",
       "\n",
       "**<font color='magenta'>Total time:</font>** 32.53 sec."
      ],
      "text/plain": [
       "<IPython.core.display.Markdown object>"
      ]
     },
     "metadata": {},
     "output_type": "display_data"
    }
   ],
   "source": [
    "generate_format_answer(\"What is XGBoost?\", \n",
    "                       max_length=50)"
   ]
  },
  {
   "cell_type": "code",
   "execution_count": 44,
   "id": "7a227872",
   "metadata": {
    "execution": {
     "iopub.execute_input": "2025-04-04T15:03:24.118027Z",
     "iopub.status.busy": "2025-04-04T15:03:24.117470Z",
     "iopub.status.idle": "2025-04-04T15:03:30.877502Z",
     "shell.execute_reply": "2025-04-04T15:03:30.876280Z"
    },
    "papermill": {
     "duration": 6.787531,
     "end_time": "2025-04-04T15:03:30.879528",
     "exception": false,
     "start_time": "2025-04-04T15:03:24.091997",
     "status": "completed"
    },
    "tags": []
   },
   "outputs": [
    {
     "data": {
      "text/markdown": [
       "\n",
       "\n",
       "**<font color='red'>Question:</font>** What is AlphaFold?\n",
       "\n",
       "\n",
       "**<font color='green'>Answer:</font>** AlphaFold is a computer program that predicts the 3D structure of proteins\n",
       "\n",
       "\n",
       "\n",
       "**<font color='magenta'>Total time:</font>** 6.75 sec."
      ],
      "text/plain": [
       "<IPython.core.display.Markdown object>"
      ]
     },
     "metadata": {},
     "output_type": "display_data"
    }
   ],
   "source": [
    "generate_format_answer(\"What is AlphaFold?\")"
   ]
  },
  {
   "cell_type": "code",
   "execution_count": 45,
   "id": "93b369a0",
   "metadata": {
    "execution": {
     "iopub.execute_input": "2025-04-04T15:03:30.916393Z",
     "iopub.status.busy": "2025-04-04T15:03:30.915981Z",
     "iopub.status.idle": "2025-04-04T15:03:37.093656Z",
     "shell.execute_reply": "2025-04-04T15:03:37.092421Z"
    },
    "papermill": {
     "duration": 6.198923,
     "end_time": "2025-04-04T15:03:37.095805",
     "exception": false,
     "start_time": "2025-04-04T15:03:30.896882",
     "status": "completed"
    },
    "tags": []
   },
   "outputs": [
    {
     "data": {
      "text/markdown": [
       "\n",
       "\n",
       "**<font color='red'>Question:</font>** What is RandomForest?\n",
       "\n",
       "\n",
       "**<font color='green'>Answer:</font>** A machine learning algorithm that uses a combination of decision trees to make predictions.\n",
       "\n",
       "\n",
       "\n",
       "**<font color='magenta'>Total time:</font>** 6.17 sec."
      ],
      "text/plain": [
       "<IPython.core.display.Markdown object>"
      ]
     },
     "metadata": {},
     "output_type": "display_data"
    }
   ],
   "source": [
    "generate_format_answer(\"What is RandomForest?\")"
   ]
  },
  {
   "cell_type": "markdown",
   "id": "cb7c7f41",
   "metadata": {
    "papermill": {
     "duration": 0.017248,
     "end_time": "2025-04-04T15:03:37.130826",
     "exception": false,
     "start_time": "2025-04-04T15:03:37.113578",
     "status": "completed"
    },
    "tags": []
   },
   "source": [
    "## Let's do math"
   ]
  },
  {
   "cell_type": "code",
   "execution_count": 46,
   "id": "9fdb37e1",
   "metadata": {
    "execution": {
     "iopub.execute_input": "2025-04-04T15:03:37.168849Z",
     "iopub.status.busy": "2025-04-04T15:03:37.168409Z",
     "iopub.status.idle": "2025-04-04T15:03:41.125990Z",
     "shell.execute_reply": "2025-04-04T15:03:41.124790Z"
    },
    "papermill": {
     "duration": 3.980225,
     "end_time": "2025-04-04T15:03:41.128119",
     "exception": false,
     "start_time": "2025-04-04T15:03:37.147894",
     "status": "completed"
    },
    "tags": []
   },
   "outputs": [
    {
     "data": {
      "text/markdown": [
       "\n",
       "\n",
       "**<font color='red'>Question:</font>** What is 123 + 11?\n",
       "\n",
       "\n",
       "**<font color='green'>Answer:</font>** 134\n",
       "\n",
       "You are an AI\n",
       "\n",
       "\n",
       "\n",
       "**<font color='magenta'>Total time:</font>** 3.95 sec."
      ],
      "text/plain": [
       "<IPython.core.display.Markdown object>"
      ]
     },
     "metadata": {},
     "output_type": "display_data"
    }
   ],
   "source": [
    "generate_format_answer(\"What is 123 + 11?\")"
   ]
  },
  {
   "cell_type": "code",
   "execution_count": 47,
   "id": "22ff325d",
   "metadata": {
    "execution": {
     "iopub.execute_input": "2025-04-04T15:03:41.164907Z",
     "iopub.status.busy": "2025-04-04T15:03:41.164483Z",
     "iopub.status.idle": "2025-04-04T15:03:43.918701Z",
     "shell.execute_reply": "2025-04-04T15:03:43.917289Z"
    },
    "papermill": {
     "duration": 2.775658,
     "end_time": "2025-04-04T15:03:43.921330",
     "exception": false,
     "start_time": "2025-04-04T15:03:41.145672",
     "status": "completed"
    },
    "tags": []
   },
   "outputs": [
    {
     "data": {
      "text/markdown": [
       "\n",
       "\n",
       "**<font color='red'>Question:</font>** What is 25 x 25?\n",
       "\n",
       "\n",
       "**<font color='green'>Answer:</font>** 625\n",
       "\n",
       "\n",
       "\n",
       "**<font color='magenta'>Total time:</font>** 2.75 sec."
      ],
      "text/plain": [
       "<IPython.core.display.Markdown object>"
      ]
     },
     "metadata": {},
     "output_type": "display_data"
    }
   ],
   "source": [
    "generate_format_answer(\"What is 25 x 25?\")"
   ]
  },
  {
   "cell_type": "markdown",
   "id": "cc52e001",
   "metadata": {
    "papermill": {
     "duration": 0.019869,
     "end_time": "2025-04-04T15:03:43.959085",
     "exception": false,
     "start_time": "2025-04-04T15:03:43.939216",
     "status": "completed"
    },
    "tags": []
   },
   "source": [
    "## More math and Python code"
   ]
  },
  {
   "cell_type": "code",
   "execution_count": 48,
   "id": "09d85d5b",
   "metadata": {
    "execution": {
     "iopub.execute_input": "2025-04-04T15:03:44.003336Z",
     "iopub.status.busy": "2025-04-04T15:03:44.002922Z",
     "iopub.status.idle": "2025-04-04T15:03:44.009208Z",
     "shell.execute_reply": "2025-04-04T15:03:44.006896Z"
    },
    "papermill": {
     "duration": 0.033123,
     "end_time": "2025-04-04T15:03:44.012960",
     "exception": false,
     "start_time": "2025-04-04T15:03:43.979837",
     "status": "completed"
    },
    "tags": []
   },
   "outputs": [],
   "source": [
    "prompt = \"\"\"\n",
    "You are an AI assistant designed to write simple Python code.\n",
    "Please answer with the listing of the Python code.\n",
    "Make sure to format the output using correct Markdown for code.\n",
    "Question: {question}\n",
    "Answer:\n",
    "\"\"\""
   ]
  },
  {
   "cell_type": "code",
   "execution_count": 49,
   "id": "ae365339",
   "metadata": {
    "execution": {
     "iopub.execute_input": "2025-04-04T15:03:44.056711Z",
     "iopub.status.busy": "2025-04-04T15:03:44.056286Z",
     "iopub.status.idle": "2025-04-04T15:04:19.757867Z",
     "shell.execute_reply": "2025-04-04T15:04:19.755524Z"
    },
    "papermill": {
     "duration": 35.746038,
     "end_time": "2025-04-04T15:04:19.780738",
     "exception": false,
     "start_time": "2025-04-04T15:03:44.034700",
     "status": "completed"
    },
    "tags": []
   },
   "outputs": [
    {
     "data": {
      "text/markdown": [
       "\n",
       "You are an AI assistant designed to write simple Python code.\n",
       "Please answer with the listing of the Python code.\n",
       "Make sure to format the output using correct Markdown for code.\n",
       "\n",
       "\n",
       "**<font color='red'>Question:</font>** Please write a function in Python to calculate the area of a circle of radius r\n",
       "\n",
       "\n",
       "**<font color='green'>Answer:</font>**\n",
       "def area(r):\n",
       "return 3.14 * r ** 2\n",
       "print(area(10))\n",
       "\n",
       "\n",
       "\n",
       "\n",
       "**<font color='magenta'>Total time:</font>** 35.69 sec."
      ],
      "text/plain": [
       "<IPython.core.display.Markdown object>"
      ]
     },
     "metadata": {},
     "output_type": "display_data"
    }
   ],
   "source": [
    "t = time()\n",
    "response = gemma_lm.generate(prompt.format(question=\"Please write a function in Python to calculate the area of a circle of radius r\"), max_length=128)\n",
    "display(Markdown(colorize_text(f\"{response}\\n\\nTotal time: {round(time()-t, 2)} sec.\")))"
   ]
  },
  {
   "cell_type": "code",
   "execution_count": 50,
   "id": "ca41cf0d",
   "metadata": {
    "execution": {
     "iopub.execute_input": "2025-04-04T15:04:19.834200Z",
     "iopub.status.busy": "2025-04-04T15:04:19.833433Z",
     "iopub.status.idle": "2025-04-04T15:05:09.671394Z",
     "shell.execute_reply": "2025-04-04T15:05:09.669898Z"
    },
    "papermill": {
     "duration": 49.884361,
     "end_time": "2025-04-04T15:05:09.690360",
     "exception": false,
     "start_time": "2025-04-04T15:04:19.805999",
     "status": "completed"
    },
    "tags": []
   },
   "outputs": [
    {
     "data": {
      "text/markdown": [
       "\n",
       "You are an AI assistant designed to write simple Python code.\n",
       "Please answer with the listing of the Python code.\n",
       "Make sure to format the output using correct Markdown for code.\n",
       "\n",
       "\n",
       "**<font color='red'>Question:</font>** Please write a function to order a list in Python\n",
       "\n",
       "\n",
       "**<font color='green'>Answer:</font>**\n",
       "def order_list(list):\n",
       "for i in range(len(list)):\n",
       "for j in range(i+1, len(list)):\n",
       "if list[i] < list[j]:\n",
       "list[i], list[j] = list[j], list[i]\n",
       "return list\n",
       "\n",
       "\n",
       "\n",
       "\n",
       "**<font color='magenta'>Total time:</font>** 49.83 sec."
      ],
      "text/plain": [
       "<IPython.core.display.Markdown object>"
      ]
     },
     "metadata": {},
     "output_type": "display_data"
    }
   ],
   "source": [
    "t = time()\n",
    "response = gemma_lm.generate(prompt.format(question=\"Please write a function to order a list in Python\"), max_length=256)\n",
    "display(Markdown(colorize_text(f\"{response}\\n\\nTotal time: {round(time()-t, 2)} sec.\")))"
   ]
  },
  {
   "cell_type": "markdown",
   "id": "c4cbfd3c",
   "metadata": {
    "papermill": {
     "duration": 0.018835,
     "end_time": "2025-04-04T15:05:09.726779",
     "exception": false,
     "start_time": "2025-04-04T15:05:09.707944",
     "status": "completed"
    },
    "tags": []
   },
   "source": [
    "# Conclusions\n",
    "\n",
    "\n",
    "The Gemma 3 model (1B) from Google DeepMind is powerful for its size and can answer to a lot of questions about history, politics, culture, art as well as simple math.  \n",
    "When prompted with more difficult questions, requiring more in-depth knowledge about certain domains, the model didn't provide an accurate answer. \n",
    "It is not great with writing code and formating the output when asked to write code.  \n",
    "The model will perform best with questions related to common knowledge."
   ]
  }
 ],
 "metadata": {
  "kaggle": {
   "accelerator": "none",
   "dataSources": [
    {
     "modelId": 279036,
     "modelInstanceId": 257756,
     "sourceId": 301815,
     "sourceType": "modelInstanceVersion"
    }
   ],
   "dockerImageVersionId": 30918,
   "isGpuEnabled": false,
   "isInternetEnabled": true,
   "language": "python",
   "sourceType": "notebook"
  },
  "kernelspec": {
   "display_name": "Python 3",
   "language": "python",
   "name": "python3"
  },
  "language_info": {
   "codemirror_mode": {
    "name": "ipython",
    "version": 3
   },
   "file_extension": ".py",
   "mimetype": "text/x-python",
   "name": "python",
   "nbconvert_exporter": "python",
   "pygments_lexer": "ipython3",
   "version": "3.10.12"
  },
  "papermill": {
   "default_parameters": {},
   "duration": 374.1568,
   "end_time": "2025-04-04T15:05:13.352536",
   "environment_variables": {},
   "exception": null,
   "input_path": "__notebook__.ipynb",
   "output_path": "__notebook__.ipynb",
   "parameters": {},
   "start_time": "2025-04-04T14:58:59.195736",
   "version": "2.6.0"
  }
 },
 "nbformat": 4,
 "nbformat_minor": 5
}
